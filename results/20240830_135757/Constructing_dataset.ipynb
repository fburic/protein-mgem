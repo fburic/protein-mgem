{
 "cells": [
  {
   "cell_type": "markdown",
   "id": "f7898572-104c-4354-b747-046461e9a969",
   "metadata": {},
   "source": [
    "# Constructing data sets with paired sequence and abundance values"
   ]
  },
  {
   "cell_type": "code",
   "execution_count": 1,
   "id": "53bd3b30-b28f-4a45-b88f-953d785b47c5",
   "metadata": {},
   "outputs": [],
   "source": [
    "from Bio import SeqIO\n",
    "import os\n",
    "import pandas as pd\n",
    "import pickle as pkl\n",
    "import glob\n",
    "import tqdm\n",
    "import numpy as np\n",
    "from scipy import stats\n",
    "import networkx as nx\n",
    "from pathlib import Path\n",
    "\n",
    "import matplotlib.pyplot as plt\n",
    "\n",
    "import numpy as np\n",
    "\n",
    "import matplotlib\n",
    "import matplotlib as mpl\n",
    "import seaborn as sns\n",
    "\n",
    "from sklearn.cluster import AgglomerativeClustering"
   ]
  },
  {
   "cell_type": "markdown",
   "id": "d807d422-8896-4aa4-8277-5e547a103424",
   "metadata": {},
   "source": [
    "# Loading files\n",
    "\n",
    "abundance and sequence"
   ]
  },
  {
   "cell_type": "code",
   "execution_count": 19,
   "id": "c6b5b0c6-fc17-45b4-a0d9-9b8b79248d89",
   "metadata": {},
   "outputs": [],
   "source": [
    "DIRs_abundance = glob.glob(\"../../data/PaxDb/paxdb-abundance-files-v5.0/*ho2018*\")\n",
    "sequence= glob.glob(\"../../data/PaxDb/paxdb-protein-sequences-v5.0/*ho2018*\")"
   ]
  },
  {
   "cell_type": "code",
   "execution_count": 20,
   "id": "ed58244c-eb6d-4ac0-ab16-6eda3701c61f",
   "metadata": {},
   "outputs": [
    {
     "data": {
      "text/plain": [
       "['../../data/PaxDb/paxdb-abundance-files-v5.0/ho2018']"
      ]
     },
     "execution_count": 20,
     "metadata": {},
     "output_type": "execute_result"
    }
   ],
   "source": [
    "DIRs_abundance"
   ]
  },
  {
   "cell_type": "code",
   "execution_count": 40,
   "id": "3e535cd2-a36d-4476-a489-ef693ff8859d",
   "metadata": {},
   "outputs": [],
   "source": [
    "\n",
    "\n",
    "def read_paxdb_dataset(path) -> pd.DataFrame:\n",
    "    dset = pd.read_csv(path, sep = '\\t', header=11)\n",
    "    dset = dset.rename(columns = {'#string_external_id': 'external_id'})\n",
    "    dset['external_id'] = dset['external_id'].map(str)\n",
    "    #dset['external_id'] = dset['external_id'].map(lambda s: s.split('.')[1])\n",
    "    return dset\n",
    "\n",
    "organism_experiment_dict = {}\n",
    "for organism_id in os.listdir(\"../../data/PaxDb/paxdb-abundance-files-v5.0/\"):\n",
    "#organism_id = 'ho2018'\n",
    "    organism_dir = Path('../../data/PaxDb/paxdb-abundance-files-v5.0') / organism_id\n",
    "\n",
    "    DIRs_abundance = glob.glob(f\"../../data/PaxDb/paxdb-abundance-files-v5.0/*{organism_id}*\")\n",
    "    if len(DIRs_abundance) ==0:\n",
    "        continue\n",
    "    organism_dir = Path(DIRs_abundance[0])\n",
    "    organism_experiment_list = list(map(read_paxdb_dataset, organism_dir.glob('*.txt')))\n",
    "    if len(organism_experiment_list) > 2:\n",
    "        organism_experiment_dict[organism_id] = {\"experiment_list\":organism_experiment_list, \"average_pairwise_correlation\":0, \"median_pairwise_correlation\":0,\"number_of_experiments\":0 }"
   ]
  },
  {
   "cell_type": "code",
   "execution_count": 41,
   "id": "0456e367-defd-4298-b001-ea0762672ad8",
   "metadata": {},
   "outputs": [
    {
     "data": {
      "text/plain": [
       "64"
      ]
     },
     "execution_count": 41,
     "metadata": {},
     "output_type": "execute_result"
    }
   ],
   "source": [
    "len(organism_experiment_dict)"
   ]
  },
  {
   "cell_type": "markdown",
   "id": "7fdd33fa-4042-46c6-b5a5-80d1c8ce3c58",
   "metadata": {},
   "source": [
    "## Calc pairwise correlation"
   ]
  },
  {
   "cell_type": "code",
   "execution_count": 42,
   "id": "21129c6e-4c8b-457d-9df0-a097f7d9b43d",
   "metadata": {},
   "outputs": [
    {
     "name": "stderr",
     "output_type": "stream",
     "text": [
      "100%|███████████████████████████████████████████████████████████████████████████████████████████████████████████████████| 64/64 [02:17<00:00,  2.15s/it]\n"
     ]
    }
   ],
   "source": [
    "for item in tqdm.tqdm(organism_experiment_dict.items()):\n",
    "    organism_id = item[0]\n",
    "\n",
    "    organism_experiment_list = item[1][\"experiment_list\"]\n",
    "    n_entries = len(organism_experiment_list)\n",
    "   # print(f\"working on {organism_id} with {n_entries} entries\")\n",
    "    organisme_experiment_corr_mat = np.zeros((n_entries, n_entries)) #* np.nan\n",
    "    non_zero = []\n",
    "    for i in range(n_entries - 1):\n",
    "        for j in range(i + 1, n_entries):\n",
    "            match = pd.merge(organism_experiment_list[i], organism_experiment_list[j], on='external_id', suffixes=('_i', '_j'))\n",
    "            if match.shape[0] > 1000:\n",
    "                corr, pvalue = stats.pearsonr(match['abundance_i'], match['abundance_j'])\n",
    "                if pvalue < 0.05:\n",
    "                    organisme_experiment_corr_mat[i, j] = corr\n",
    "                    non_zero.append(corr)\n",
    "    \n",
    "    if len(non_zero) > 0:\n",
    "        non_zero = np.array(non_zero)\n",
    "        organism_experiment_dict[organism_id][\"average_pairwise_correlation\"] = np.mean(non_zero)\n",
    "        organism_experiment_dict[organism_id][\"median_pairwise_correlation\"] = np.median(non_zero)\n",
    "        organism_experiment_dict[organism_id][\"number_of_experiments\"] = n_entries"
   ]
  },
  {
   "cell_type": "code",
   "execution_count": 43,
   "id": "05a124c0-e65d-4ff4-9c99-6f45ff35555c",
   "metadata": {},
   "outputs": [
    {
     "name": "stdout",
     "output_type": "stream",
     "text": [
      "226186: Average pairwise corr 0.98 Median pairwise corr 0.98 number of experiments 3.00\n",
      "511145: Average pairwise corr 0.58 Median pairwise corr 0.59 number of experiments 19.00\n",
      "392499: Average pairwise corr 0.00 Median pairwise corr 0.00 number of experiments 0.00\n",
      "5691: Average pairwise corr 0.55 Median pairwise corr 0.55 number of experiments 4.00\n",
      "1286170: Average pairwise corr 1.00 Median pairwise corr 1.00 number of experiments 3.00\n",
      "6239: Average pairwise corr 0.68 Median pairwise corr 0.70 number of experiments 12.00\n",
      "257313: Average pairwise corr 0.00 Median pairwise corr 0.00 number of experiments 0.00\n",
      "83332: Average pairwise corr 0.68 Median pairwise corr 0.65 number of experiments 11.00\n",
      "353153: Average pairwise corr 0.98 Median pairwise corr 0.99 number of experiments 6.00\n",
      "1314: Average pairwise corr 0.93 Median pairwise corr 0.93 number of experiments 5.00\n",
      "4896: Average pairwise corr 0.48 Median pairwise corr 0.55 number of experiments 9.00\n",
      "192222: Average pairwise corr 0.00 Median pairwise corr 0.00 number of experiments 0.00\n",
      "272620: Average pairwise corr 0.55 Median pairwise corr 0.54 number of experiments 4.00\n",
      "449447: Average pairwise corr 0.97 Median pairwise corr 0.97 number of experiments 7.00\n",
      "39947: Average pairwise corr 0.60 Median pairwise corr 0.64 number of experiments 9.00\n",
      "309800: Average pairwise corr 0.52 Median pairwise corr 0.41 number of experiments 4.00\n",
      "224308: Average pairwise corr 0.84 Median pairwise corr 0.87 number of experiments 5.00\n",
      "9031: Average pairwise corr 0.64 Median pairwise corr 0.55 number of experiments 10.00\n",
      "8030: Average pairwise corr 0.23 Median pairwise corr 0.04 number of experiments 4.00\n",
      "347256: Average pairwise corr 0.00 Median pairwise corr 0.00 number of experiments 0.00\n",
      "10116: Average pairwise corr 0.38 Median pairwise corr 0.35 number of experiments 16.00\n",
      "882: Average pairwise corr 0.00 Median pairwise corr 0.00 number of experiments 0.00\n",
      "67767: Average pairwise corr 0.87 Median pairwise corr 0.90 number of experiments 4.00\n",
      "9940: Average pairwise corr 0.00 Median pairwise corr 0.00 number of experiments 0.00\n",
      "246196: Average pairwise corr 0.58 Median pairwise corr 0.58 number of experiments 3.00\n",
      "89462: Average pairwise corr 0.18 Median pairwise corr 0.18 number of experiments 4.00\n",
      "7460: Average pairwise corr 0.83 Median pairwise corr 0.87 number of experiments 3.00\n",
      "5811: Average pairwise corr 0.00 Median pairwise corr 0.00 number of experiments 0.00\n",
      "7227: Average pairwise corr 0.63 Median pairwise corr 0.60 number of experiments 11.00\n",
      "5833: Average pairwise corr 0.57 Median pairwise corr 0.52 number of experiments 5.00\n",
      "29760: Average pairwise corr 0.90 Median pairwise corr 0.93 number of experiments 9.00\n",
      "ho2018: Average pairwise corr 0.57 Median pairwise corr 0.53 number of experiments 21.00\n",
      "189518: Average pairwise corr 0.89 Median pairwise corr 0.98 number of experiments 6.00\n",
      "214684: Average pairwise corr 0.86 Median pairwise corr 0.82 number of experiments 3.00\n",
      "3847: Average pairwise corr 0.30 Median pairwise corr 0.30 number of experiments 17.00\n",
      "284590: Average pairwise corr 0.95 Median pairwise corr 0.98 number of experiments 3.00\n",
      "4565: Average pairwise corr 0.25 Median pairwise corr 0.25 number of experiments 24.00\n",
      "7955: Average pairwise corr 0.37 Median pairwise corr 0.33 number of experiments 27.00\n",
      "3702: Average pairwise corr 0.47 Median pairwise corr 0.44 number of experiments 59.00\n",
      "3055: Average pairwise corr 0.44 Median pairwise corr 0.34 number of experiments 4.00\n",
      "4577: Average pairwise corr 0.50 Median pairwise corr 0.51 number of experiments 8.00\n",
      "547559: Average pairwise corr 0.86 Median pairwise corr 0.81 number of experiments 3.00\n",
      "100226: Average pairwise corr -0.21 Median pairwise corr -0.28 number of experiments 4.00\n",
      "8355: Average pairwise corr 0.98 Median pairwise corr 0.97 number of experiments 4.00\n",
      "64091: Average pairwise corr 0.89 Median pairwise corr 0.89 number of experiments 5.00\n",
      "4513: Average pairwise corr 0.35 Median pairwise corr 0.35 number of experiments 9.00\n",
      "9913: Average pairwise corr 0.64 Median pairwise corr 0.64 number of experiments 7.00\n",
      "4113: Average pairwise corr 0.46 Median pairwise corr 0.40 number of experiments 7.00\n",
      "4932: Average pairwise corr 0.72 Median pairwise corr 0.74 number of experiments 23.00\n",
      "243159: Average pairwise corr 0.98 Median pairwise corr 0.98 number of experiments 3.00\n",
      "99287: Average pairwise corr 0.83 Median pairwise corr 0.77 number of experiments 3.00\n",
      "9544: Average pairwise corr 0.50 Median pairwise corr 0.48 number of experiments 30.00\n",
      "9606: Average pairwise corr 0.37 Median pairwise corr 0.34 number of experiments 249.00\n",
      "208964: Average pairwise corr 0.67 Median pairwise corr 0.68 number of experiments 4.00\n",
      "9823: Average pairwise corr 0.73 Median pairwise corr 0.94 number of experiments 7.00\n",
      "85962: Average pairwise corr 0.92 Median pairwise corr 0.92 number of experiments 3.00\n",
      "246200: Average pairwise corr 0.96 Median pairwise corr 0.97 number of experiments 3.00\n",
      "121845: Average pairwise corr 0.00 Median pairwise corr 0.00 number of experiments 0.00\n",
      "3880: Average pairwise corr 0.45 Median pairwise corr 0.44 number of experiments 7.00\n",
      "44689: Average pairwise corr 0.78 Median pairwise corr 0.88 number of experiments 3.00\n",
      "10090: Average pairwise corr 0.29 Median pairwise corr 0.27 number of experiments 106.00\n",
      "272623: Average pairwise corr 0.91 Median pairwise corr 0.94 number of experiments 3.00\n",
      "3635: Average pairwise corr 0.32 Median pairwise corr 0.37 number of experiments 6.00\n",
      "4097: Average pairwise corr 0.00 Median pairwise corr 0.00 number of experiments 0.00\n"
     ]
    }
   ],
   "source": [
    "df_pairwise_corr= {\"id\":[],\"average\":[],\"median\":[],\"N_experiments\":[]}\n",
    "for item in organism_experiment_dict.items():\n",
    "    print(f\"{item[0]}: Average pairwise corr { item[1]['average_pairwise_correlation']:.2f} Median pairwise corr {item[1]['median_pairwise_correlation']:.2f} number of experiments {item[1]['number_of_experiments']:.2f}\")\n",
    "    df_pairwise_corr[\"id\"].append(item[0])\n",
    "    df_pairwise_corr[\"average\"].append(item[1]['average_pairwise_correlation'])\n",
    "    df_pairwise_corr[\"median\"].append(item[1]['median_pairwise_correlation'])\n",
    "    df_pairwise_corr[\"N_experiments\"].append(item[1]['number_of_experiments'])\n",
    "\n",
    "pd.DataFrame(df_pairwise_corr).to_csv(\"/proj/berzelius-2024-205/sandra/DeepTranslation/result/2024-1001/pairwise_corr.csv\")"
   ]
  },
  {
   "cell_type": "markdown",
   "id": "1c6edb74-65b3-4790-985c-2d7201768d8f",
   "metadata": {},
   "source": [
    "## Construct Aglomerative clusters"
   ]
  },
  {
   "cell_type": "code",
   "execution_count": 226,
   "id": "f5689cb5-b2b3-4d51-ac7f-e5edbb8276e9",
   "metadata": {},
   "outputs": [],
   "source": [
    "def plot_dendrogram(model, **kwargs):\n",
    "    # Create linkage matrix and then plot the dendrogram\n",
    "\n",
    "    # create the counts of samples under each node\n",
    "    counts = np.zeros(model.children_.shape[0])\n",
    "    n_samples = len(model.labels_)\n",
    "    for i, merge in enumerate(model.children_):\n",
    "        current_count = 0\n",
    "        for child_idx in merge:\n",
    "            if child_idx < n_samples:\n",
    "                current_count += 1  # leaf node\n",
    "            else:\n",
    "                current_count += counts[child_idx - n_samples]\n",
    "        counts[i] = current_count\n",
    "\n",
    "    linkage_matrix = np.column_stack(\n",
    "        [model.children_, model.distances_, counts]\n",
    "    ).astype(float)\n",
    "   # print(linkage_matrix)\n",
    "\n",
    "    # Plot the corresponding dendrogram\n",
    "    plt.figure(figsize=[15,7])\n",
    "    dendrogram(linkage_matrix, **kwargs)"
   ]
  },
  {
   "cell_type": "code",
   "execution_count": 234,
   "id": "6cd9fbc0-af6b-4392-84bd-65fe07c94e20",
   "metadata": {},
   "outputs": [],
   "source": [
    "def calc_pairwise_corr(experiment_list) -> pd.DataFrame:\n",
    "\n",
    "    n_entries = len(experiment_list)\n",
    "    paxdb_corr = np.zeros((n_entries, n_entries)) * np.nan\n",
    "\n",
    "    for i in range(n_entries - 1):\n",
    "        for j in range(i + 1, n_entries):\n",
    "            match = pd.merge(experiment_list[i], experiment_list[j], on='external_id', suffixes=('_i', '_j'))\n",
    "            if match.shape[0] > 1000:\n",
    "                corr, pvalue = stats.pearsonr(match['abundance_i'], match['abundance_j'])\n",
    "                if pvalue < 0.05:\n",
    "                    paxdb_corr[i, j] = corr\n",
    "    for i in range(n_entries - 1):\n",
    "        for j in range(i + 1, n_entries):\n",
    "            paxdb_corr[j,i] = paxdb_corr[i, j]\n",
    "            \n",
    "    df = pd.DataFrame(paxdb_corr>=0.8,\n",
    "                      index=np.arange(paxdb_corr.shape[0]),    # 1st column as index\n",
    "                      columns=np.arange(paxdb_corr.shape[1]))\n",
    "    return df\n",
    "\n",
    "def calc_max_clique(df) -> dict:\n",
    "    net = nx.from_pandas_adjacency(df)\n",
    "    l = nx.find_cliques(net)\n",
    "    max_clique_df = {\"size\":0,'index':[]}\n",
    "    for i in l:\n",
    "        if len(i) > max_clique_df[\"size\"]:\n",
    "            max_clique_df[\"size\"] = len(i)\n",
    "            max_clique_df[\"index\"] = i\n",
    "    return max_clique_df\n",
    "\n",
    "df = calc_pairwise_corr(organism_experiment_list)#glob.glob('../../data/PaxDb/paxdb-abundance-files-v5.0/ho2018/*'))\n",
    "clique = calc_max_clique(df)"
   ]
  },
  {
   "cell_type": "code",
   "execution_count": 236,
   "id": "92b477ad-9e14-4de0-bf12-ad1e550f50b6",
   "metadata": {},
   "outputs": [
    {
     "name": "stdout",
     "output_type": "stream",
     "text": [
      "../../data/PaxDb/paxdb-abundance-files-v5.0/ho2018/experiment_NAG.txt\n",
      "../../data/PaxDb/paxdb-abundance-files-v5.0/ho2018/experiment_THAK.txt\n",
      "../../data/PaxDb/paxdb-abundance-files-v5.0/ho2018/experiment_DGD.txt\n",
      "../../data/PaxDb/paxdb-abundance-files-v5.0/ho2018/experiment_LEE2.txt\n"
     ]
    }
   ],
   "source": [
    "l = list(organism_dir.glob('*.txt'))\n",
    "for idx in clique[\"index\"]:\n",
    "    print(l[idx])"
   ]
  },
  {
   "cell_type": "code",
   "execution_count": 227,
   "id": "f406dd68-a812-49f6-9c7d-f239c58b1e47",
   "metadata": {},
   "outputs": [
    {
     "data": {
      "image/png": "[encoded data removed]",
      "text/plain": [
       "<Figure size 1500x700 with 1 Axes>"
      ]
     },
     "metadata": {},
     "output_type": "display_data"
    }
   ],
   "source": [
    "model = AgglomerativeClustering(metric=\"precomputed\", linkage='average', compute_distances=True, distance_threshold=0.0, n_clusters=None)\n",
    "\n",
    "model.fit(1/(organisme_experiment_corr_mat + 1))\n",
    "organisme_experiment_corr_mat_hclustered = np.zeros_like(organisme_experiment_corr_mat)\n",
    "\n",
    "hcluster_idx = model.labels_\n",
    "\n",
    "for idx_row in range(model.labels_.shape[0]):\n",
    "    for idx_column in range(model.labels_.shape[0]):\n",
    "        organisme_experiment_corr_mat_hclustered[idx_row,idx_column] = organisme_experiment_corr_mat[hcluster_idx[idx_row],hcluster_idx[idx_column]]\n",
    "\n",
    "plot_dendrogram(model)"
   ]
  },
  {
   "cell_type": "code",
   "execution_count": null,
   "id": "485b1c10-8cb0-47cf-9466-b86a97332b98",
   "metadata": {},
   "outputs": [],
   "source": []
  },
  {
   "cell_type": "markdown",
   "id": "528be532-b1f7-497b-91c9-37706c41d543",
   "metadata": {},
   "source": [
    "## Plot Herarchical cluster map"
   ]
  },
  {
   "cell_type": "code",
   "execution_count": 229,
   "id": "d5d23a39-043d-4af2-b863-4c1d332e97a1",
   "metadata": {},
   "outputs": [
    {
     "data": {
      "image/png": "[encoded data removed]",
      "text/plain": [
       "<Figure size 1500x1500 with 1 Axes>"
      ]
     },
     "metadata": {},
     "output_type": "display_data"
    },
    {
     "name": "stdout",
     "output_type": "stream",
     "text": [
      "largest clique is:15 with nodes: [13, 148, 50, 178, 216, 125, 218, 145, 238, 68, 120, 69, 71, 162, 191]\n"
     ]
    }
   ],
   "source": [
    "\n",
    "\n",
    "\n",
    "\n",
    "\n",
    "harvest = organisme_experiment_corr_mat\n",
    "vegetables = [f\"{idx}\" for idx in range(organisme_experiment_corr_mat.shape[0]) ]\n",
    "farmers = [f\"{idx}\" for idx in range(organisme_experiment_corr_mat.shape[0]) ]\n",
    "\n",
    "fig, ax = plt.subplots(figsize=[15,15])\n",
    "\n",
    "\n",
    "im = ax.imshow( organisme_experiment_corr_mat_hclustered)\n",
    "#im = ax.imshow(organisme_experiment_corr_mat)\n",
    "\n",
    "\n",
    "\n",
    "# Show all ticks and label them with the respective list entries\n",
    "ax.set_xticks(np.arange(len(farmers)), labels=farmers)\n",
    "ax.set_yticks(np.arange(len(vegetables)), labels=vegetables)\n",
    "\n",
    "# Rotate the tick labels and set their alignment.\n",
    "plt.setp(ax.get_xticklabels(), rotation=45, ha=\"right\",\n",
    "         rotation_mode=\"anchor\")\n",
    "\n",
    "#plt.colorbar()\n",
    "ax.set_xticks(np.arange(-.5, len(farmers), 1), minor=True)\n",
    "ax.set_yticks(np.arange(-.5, len(farmers), 1), minor=True)\n",
    "\n",
    "# Gridlines based on minor ticks\n",
    "ax.grid(which='minor', color='k', linestyle='-', linewidth=0.5, alpha=0.4)\n",
    "ax.tick_params(which='minor', bottom=False, left=False)\n",
    "\n",
    "\n",
    "\n",
    "ax.set_title(\" Hirarchical clustering \")\n",
    "fig.tight_layout()\n",
    "plt.show()\n",
    "\n",
    "df = pd.DataFrame(musculus_paxdb_corr>0.8,index=np.arange(musculus_paxdb_corr.shape[0]),    # 1st column as index\n",
    "columns=np.arange(musculus_paxdb_corr.shape[1]))\n",
    "net = nx.from_pandas_adjacency(df)\n",
    "l = nx.find_cliques(net)\n",
    "max_clique = {\"size\":0,'index':[]}\n",
    "for i in l:\n",
    "    if len(i) > max_clique[\"size\"]:\n",
    "        max_clique[\"size\"] = len(i)\n",
    "        max_clique[\"index\"] = i\n",
    "        \n",
    "print(f'largest clique is:{max_clique[\"size\"]} with nodes: {max_clique[\"index\"]}')"
   ]
  },
  {
   "cell_type": "code",
   "execution_count": null,
   "id": "0e7d66cc-3d8c-4a47-917c-7c4acb2f6b1f",
   "metadata": {},
   "outputs": [],
   "source": []
  },
  {
   "cell_type": "markdown",
   "id": "6535b6e1-3ed4-4d7a-9a16-89814adea178",
   "metadata": {},
   "source": [
    "# Whole organism data"
   ]
  },
  {
   "cell_type": "code",
   "execution_count": 23,
   "id": "65c1147c-6973-48af-83f4-720309d64207",
   "metadata": {},
   "outputs": [],
   "source": [
    "DIRs_abundance = glob.glob(\"../../data/PaxDb/paxdb-abundance-files-v5.0/*/*WHOLE_ORGANISM*\")\n",
    "sequence= glob.glob(\"../../data/PaxDb/paxdb-protein-sequences-v5.0/*\")"
   ]
  },
  {
   "cell_type": "code",
   "execution_count": 247,
   "id": "27e70bed-3a8d-4879-9da6-5c6349cb3edd",
   "metadata": {},
   "outputs": [
    {
     "name": "stderr",
     "output_type": "stream",
     "text": [
      "/home/x_sanvi/.conda/envs/jupyter/lib/python3.12/site-packages/torch/storage.py:414: FutureWarning: You are using `torch.load` with `weights_only=False` (the current default value), which uses the default pickle module implicitly. It is possible to construct malicious pickle data which will execute arbitrary code during unpickling (See https://github.com/pytorch/pytorch/blob/main/SECURITY.md#untrusted-models for more details). In a future release, the default value for `weights_only` will be flipped to `True`. This limits the functions that could be executed during unpickling. Arbitrary objects will no longer be allowed to be loaded via this mode unless they are explicitly allowlisted by the user via `torch.serialization.add_safe_globals`. We recommend you start setting `weights_only=True` for any use case where you don't have full control of the loaded file. Please open an issue on GitHub for any issues related to this experimental feature.\n",
      "  return torch.load(io.BytesIO(b))\n"
     ]
    }
   ],
   "source": [
    "with open(\"../../data/PaxDb/Paxdb-sequences_processed/8022/embedding.pkl\", \"br\") as f:\n",
    "    df_embedding = pkl.load(f) \n",
    "    df_embedding[\"Embedding\"] = df_embedding[\"Embedding\"][:len(df_embedding[\"id\"])]\n",
    "df_embedding = pd.DataFrame(df_embedding)"
   ]
  },
  {
   "cell_type": "code",
   "execution_count": 248,
   "id": "448d9879-4124-4c79-9ee0-b49335839f10",
   "metadata": {},
   "outputs": [],
   "source": [
    "df_embedding[\"id\"] = df_embedding.apply(lambda x: x[\"id\"].split(\".\")[1], axis = 1)"
   ]
  },
  {
   "cell_type": "code",
   "execution_count": 25,
   "id": "fb87e3cf-e829-437e-ae4f-856314cf2a5d",
   "metadata": {},
   "outputs": [],
   "source": [
    "list_of_rows = []\n",
    "for file in DIRs_abundance:\n",
    "\n",
    "    with open(file, \"r\") as f:\n",
    "        string = f.read()\n",
    "    list_of_rows.append(string.split('\\n'))\n",
    "\n"
   ]
  },
  {
   "cell_type": "code",
   "execution_count": 28,
   "id": "a3aa3272-8745-4c5d-89ab-3b3fed48613b",
   "metadata": {},
   "outputs": [
    {
     "name": "stdout",
     "output_type": "stream",
     "text": [
      "#name: B.thetaiotaomicron VPI-5482 - Whole organism (Integrated)\n",
      "#name: E.coli - Whole organism (Integrated)\n",
      "#name: Swittichii RW1 - Whole organism (Integrated)\n",
      "#name: T.brucei - Whole organism (Integrated)\n",
      "#name: Rornithinolytica B6 - Whole organism (Integrated)\n",
      "#name: C.elegans - Whole organism (Integrated)\n",
      "#name: Bpertussis Tohama I - Whole organism (Integrated)\n",
      "#name: M.tuberculosis - Whole organism (Integrated)\n",
      "#name: T.cruzi - Whole organism (Integrated)\n",
      "#name: S.pyogenes M1GAS - Whole organism (Integrated)\n",
      "#name: S.pombe - Whole organism (Integrated)\n",
      "#name: C.jejuni - Whole organism (Integrated)\n",
      "#name: Kpneumoniae - Whole organism (Integrated)\n",
      "#name: M.aeruginosa - Whole organism (Integrated)\n",
      "#name: O.satival - Whole organism (Integrated)\n",
      "#name: Hvolcanii DS2 - Whole organism (Integrated)\n",
      "#name: B.subtilis - Whole organism (Integrated)\n",
      "#name: G.gallus - Whole organism (Integrated)\n",
      "#name: Mhominis ATCC23114 - Whole organism (Integrated)\n",
      "#name: R.norvegicus - Whole organism (Integrated)\n",
      "#name: D.vulgaris - Whole organism (Integrated)\n",
      "#name: Lniger - Whole organism (Integrated)\n",
      "#name: Msmegmatis strMC2 155 - Whole organism (Integrated)\n",
      "#name: A.mellifera - Whole organism (Integrated)\n",
      "#name: Tgondii - Whole organism (Integrated)\n",
      "#name: D.melanogaster - Whole organism (Integrated)\n",
      "#name: P.falciparum - Whole organism (Integrated)\n",
      "#name: L.interrogans - Whole organism (Integrated)\n",
      "#name: C.neoformans - Whole organism (Integrated)\n",
      "#name: Klactis - Whole organism (Integrated)\n",
      "#name: D.rerio - Whole organism (Integrated)\n",
      "#name: A.thaliana - Whole organism (Integrated)\n",
      "#name: C.reinhardtii - Whole organism (Integrated)\n",
      "#name: Nmagadii ATCC43099 - Whole organism (Integrated)\n",
      "#name: Scoelicolor A3(2) - Whole organism (Integrated)\n",
      "#name: H.salinarum(NRC-1) - Whole organism (Integrated)\n",
      "#name: B.taurus - Whole organism (Integrated)\n",
      "#name: S.cerevisiae - Whole organism (Integrated)\n",
      "#name: A.ferrooxidans - Whole organism (Integrated)\n",
      "#name: S.enterica - Whole organism (Integrated)\n",
      "#name: H.sapiens - Whole organism (Integrated)\n",
      "#name: P.aeruginosa - Whole organism (Integrated)\n",
      "#name: S.scrofa - Whole organism (Integrated)\n",
      "#name: H.pylori 26695 - Whole organism (Integrated)\n",
      "#name: Rpomeroyi DSS-3 - Whole organism (Integrated)\n",
      "#name: Dcitri - Whole organism (Integrated)\n",
      "#name: D.discoideum - Whole organism (Integrated)\n",
      "#name: M.musculus - Whole organism (Integrated)\n",
      "#name: L.lactis - Whole organism (Integrated)\n"
     ]
    }
   ],
   "source": [
    "\n",
    "for rows in list_of_rows:\n",
    "    for row in rows:\n",
    "        if \"name\" in row:\n",
    "            print(row)\n",
    "            break"
   ]
  },
  {
   "cell_type": "code",
   "execution_count": null,
   "id": "547455e5-d902-4c76-af70-f8e6a928bc1d",
   "metadata": {},
   "outputs": [],
   "source": []
  },
  {
   "cell_type": "markdown",
   "id": "c6007600-4494-4cd1-9ff2-559df6f98cfa",
   "metadata": {},
   "source": [
    "# Prepare Ho2018 data"
   ]
  },
  {
   "cell_type": "code",
   "execution_count": 97,
   "id": "f5b0fa88-bcea-4608-b3d7-ebc1ac00a669",
   "metadata": {},
   "outputs": [
    {
     "name": "stderr",
     "output_type": "stream",
     "text": [
      "/home/x_sanvi/.conda/envs/jupyter/lib/python3.12/site-packages/torch/storage.py:414: FutureWarning: You are using `torch.load` with `weights_only=False` (the current default value), which uses the default pickle module implicitly. It is possible to construct malicious pickle data which will execute arbitrary code during unpickling (See https://github.com/pytorch/pytorch/blob/main/SECURITY.md#untrusted-models for more details). In a future release, the default value for `weights_only` will be flipped to `True`. This limits the functions that could be executed during unpickling. Arbitrary objects will no longer be allowed to be loaded via this mode unless they are explicitly allowlisted by the user via `torch.serialization.add_safe_globals`. We recommend you start setting `weights_only=True` for any use case where you don't have full control of the loaded file. Please open an issue on GitHub for any issues related to this experimental feature.\n",
      "  return torch.load(io.BytesIO(b))\n"
     ]
    }
   ],
   "source": [
    "with open(\"../../data/Ho2018/embedding/scerevisiae_aminoacid_uniprot_20200120.pkl\", \"br\") as f:\n",
    "    df_embedding = pkl.load(f) \n",
    "df_embedding[\"Embedding\"] = df_embedding[\"Embedding\"][:len(df_embedding[\"id\"])]\n",
    "df_embedding = pd.DataFrame(df_embedding)\n",
    "df_embedding[\"id\"] = df_embedding.apply(lambda x: x[\"id\"].split('|')[1], axis = 1)\n",
    "df_abundance = pd.read_csv(\"../../data/Ho2018/prot_abundance_molecules_per_cell_no_gfp.csv\")\n",
    "df_abundance = df_abundance[[\"Median_molecules_per_cell\", \"swissprot_ac\"]]\n",
    "df_abundance.columns = [\"Abundance\",\"id\"]\n",
    "df = df_abundance.merge(df_embedding, how=\"inner\", on=\"id\")\n",
    "df[\"TM\"] = df[\"Abundance\"]"
   ]
  },
  {
   "cell_type": "code",
   "execution_count": 143,
   "id": "aa1b35a9-da4f-4908-a827-4a93d8d7aa21",
   "metadata": {},
   "outputs": [],
   "source": [
    "df_abundance = pd.read_csv(\"../../data/Ho2018/prot_abundance_molecules_per_cell_no_gfp.csv\")"
   ]
  },
  {
   "cell_type": "code",
   "execution_count": 102,
   "id": "fd4d5288-d354-4dc4-96ee-17beb0e83b3e",
   "metadata": {},
   "outputs": [],
   "source": [
    "df_experiments_Ho2018 = df_abundance[['LU', 'PENG', 'KUL', 'LAW', 'LAHT', 'DGD',\n",
    "       'LEE2', 'THAK', 'NAG', 'PIC', 'WEB', 'TKA', 'BRE', 'DEN', 'MAZ', 'CHO',\n",
    "       'YOF', 'NEW', 'LEE', 'DAV', 'GHA']]"
   ]
  },
  {
   "cell_type": "code",
   "execution_count": 156,
   "id": "6840db86-7500-4c23-b472-2e4c20c8bd93",
   "metadata": {},
   "outputs": [],
   "source": [
    "def median_row(row):\n",
    "    row = np.array(row)\n",
    "    #print(type(row[0]))\n",
    "    return np.ceil(np.median(row[~pd.isnull(row)]))"
   ]
  },
  {
   "cell_type": "code",
   "execution_count": 157,
   "id": "f5ca2ce0-3ed9-4cdf-b9aa-79cac2c70c54",
   "metadata": {},
   "outputs": [],
   "source": [
    "df_abundance[\"median\"]=df_abundance.apply(lambda x: median_row(x[['LU', 'PENG', 'KUL', 'LAW', 'LAHT', 'DGD',\n",
    "       'LEE2', 'THAK', 'NAG', 'PIC', 'WEB', 'TKA', 'BRE', 'DEN', 'MAZ', 'CHO',\n",
    "       'YOF', 'NEW', 'LEE', 'DAV', 'GHA']]), axis=1)"
   ]
  },
  {
   "cell_type": "code",
   "execution_count": null,
   "id": "28381e7b-a4d3-4db2-a202-dbccf7f30f1c",
   "metadata": {},
   "outputs": [],
   "source": []
  },
  {
   "cell_type": "code",
   "execution_count": 160,
   "id": "ffa59e6a-f82f-4af3-be55-ae43fb65bff9",
   "metadata": {},
   "outputs": [
    {
     "data": {
      "text/html": [
       "<div>\n",
       "<style scoped>\n",
       "    .dataframe tbody tr th:only-of-type {\n",
       "        vertical-align: middle;\n",
       "    }\n",
       "\n",
       "    .dataframe tbody tr th {\n",
       "        vertical-align: top;\n",
       "    }\n",
       "\n",
       "    .dataframe thead th {\n",
       "        text-align: right;\n",
       "    }\n",
       "</style>\n",
       "<table border=\"1\" class=\"dataframe\">\n",
       "  <thead>\n",
       "    <tr style=\"text-align: right;\">\n",
       "      <th></th>\n",
       "      <th>Median_molecules_per_cell</th>\n",
       "      <th>median</th>\n",
       "    </tr>\n",
       "  </thead>\n",
       "  <tbody>\n",
       "    <tr>\n",
       "      <th>43</th>\n",
       "      <td>188.0</td>\n",
       "      <td>189.0</td>\n",
       "    </tr>\n",
       "    <tr>\n",
       "      <th>55</th>\n",
       "      <td>216.0</td>\n",
       "      <td>217.0</td>\n",
       "    </tr>\n",
       "    <tr>\n",
       "      <th>58</th>\n",
       "      <td>220.0</td>\n",
       "      <td>221.0</td>\n",
       "    </tr>\n",
       "    <tr>\n",
       "      <th>73</th>\n",
       "      <td>255.0</td>\n",
       "      <td>256.0</td>\n",
       "    </tr>\n",
       "    <tr>\n",
       "      <th>91</th>\n",
       "      <td>289.0</td>\n",
       "      <td>290.0</td>\n",
       "    </tr>\n",
       "    <tr>\n",
       "      <th>...</th>\n",
       "      <td>...</td>\n",
       "      <td>...</td>\n",
       "    </tr>\n",
       "    <tr>\n",
       "      <th>5357</th>\n",
       "      <td>104294.0</td>\n",
       "      <td>104295.0</td>\n",
       "    </tr>\n",
       "    <tr>\n",
       "      <th>5358</th>\n",
       "      <td>106439.0</td>\n",
       "      <td>106440.0</td>\n",
       "    </tr>\n",
       "    <tr>\n",
       "      <th>5360</th>\n",
       "      <td>107317.0</td>\n",
       "      <td>107318.0</td>\n",
       "    </tr>\n",
       "    <tr>\n",
       "      <th>5366</th>\n",
       "      <td>118983.0</td>\n",
       "      <td>118984.0</td>\n",
       "    </tr>\n",
       "    <tr>\n",
       "      <th>5383</th>\n",
       "      <td>291203.0</td>\n",
       "      <td>291204.0</td>\n",
       "    </tr>\n",
       "  </tbody>\n",
       "</table>\n",
       "<p>625 rows × 2 columns</p>\n",
       "</div>"
      ],
      "text/plain": [
       "      Median_molecules_per_cell    median\n",
       "43                        188.0     189.0\n",
       "55                        216.0     217.0\n",
       "58                        220.0     221.0\n",
       "73                        255.0     256.0\n",
       "91                        289.0     290.0\n",
       "...                         ...       ...\n",
       "5357                   104294.0  104295.0\n",
       "5358                   106439.0  106440.0\n",
       "5360                   107317.0  107318.0\n",
       "5366                   118983.0  118984.0\n",
       "5383                   291203.0  291204.0\n",
       "\n",
       "[625 rows x 2 columns]"
      ]
     },
     "execution_count": 160,
     "metadata": {},
     "output_type": "execute_result"
    }
   ],
   "source": [
    "df_abundance.loc[~(df_abundance[\"Median_molecules_per_cell\"] == df_abundance[\"median\"])][[\"Median_molecules_per_cell\", \"median\"]]"
   ]
  },
  {
   "cell_type": "code",
   "execution_count": 169,
   "id": "4327bfa7-1137-4fa1-9f73-2443c5e07633",
   "metadata": {},
   "outputs": [],
   "source": [
    "experiment_list = ['LU', 'PENG', 'KUL', 'LAW', 'LAHT', 'DGD',\n",
    "       'LEE2', 'THAK', 'NAG', 'PIC', 'WEB', 'TKA', 'BRE', 'DEN', 'MAZ', 'CHO',\n",
    "       'YOF', 'NEW', 'LEE', 'DAV', 'GHA']\n",
    "\n",
    "for experiment in experiment_list:\n",
    "    file = f\"../../data/Ho2018/experiments/experiment_{experiment}.txt\" \n",
    "    with open(file, \"w\") as f:\n",
    "        f.write(\"\\n\".join([\"#\" for _ in range(11)]))\n",
    "        f.write(\"\\n\")\n",
    "    df_abundance[[\"swissprot_ac\", experiment]].dropna().to_csv(file ,columns=[\"swissprot_ac\", experiment],sep = '\\t', mode=\"a\", index=False, header=[\"#string_external_id\",\t\"abundance\"])"
   ]
  },
  {
   "cell_type": "markdown",
   "id": "0a2b588a-6c0e-4676-9923-92f3cf6fb075",
   "metadata": {},
   "source": [
    "# Construct correlated data sets "
   ]
  },
  {
   "cell_type": "code",
   "execution_count": 214,
   "id": "b91fcb9f-4740-4684-a30c-d458af3a463a",
   "metadata": {},
   "outputs": [],
   "source": [
    "import re\n",
    "import shutil\n",
    "org = []\n",
    "with open(\"../../data/PaxDb/data_sets/fasta_test/log_success.txt\", \"r\") as f:\n",
    "    organism_logs = f.read()\n",
    "for log in organism_logs.split('\\n')[:-1]:\n",
    "    organism = log.split()[1]\n",
    "    org.append(organism)\n",
    "    #os.mkdir(f\"../../data/PaxDb/Paxdb-sequences_processed_subset/{organism}\")\n",
    "    #os.mkdir(f\"../../data/PaxDb/Paxdb-sequences_processed_subset/{organism}/experiments\")\n",
    "\n",
    "    for idx, path in enumerate(log.split('PosixPath')[1:]):\n",
    "        path = re.sub('[(),]', '', path)\n",
    "        path=path.strip(\"]\")\n",
    "        path=path.replace(\"'\", \"\")\n",
    "        path=path.strip()\n",
    "        file = path.split(\"/\")[-1]\n",
    "        #shutil.copy(path, f\"../../data/PaxDb/Paxdb-sequences_processed_subset/{organism}/experiments/{file}\")\n",
    "        \n"
   ]
  },
  {
   "cell_type": "code",
   "execution_count": 217,
   "id": "e702a8d5-26ca-48c9-acc2-db0c71a1de4b",
   "metadata": {},
   "outputs": [],
   "source": [
    "for organism in org:\n",
    "    DIR_source = f\"../../data/PaxDb/Paxdb-sequences_processed/{organism}\"\n",
    "    DIR_target = f\"../../data/PaxDb/Paxdb-sequences_processed_subset/{organism}\"\n",
    "    shutil.copy(f\"{DIR_source}/train.fa\", f\"{DIR_target}/train.fa\")\n",
    "    shutil.copy(f\"{DIR_source}/test.fa\", f\"{DIR_target}/test.fa\")\n",
    "    shutil.copy(f\"{DIR_source}/embedding.pkl\", f\"{DIR_target}/embedding.pkl\")"
   ]
  },
  {
   "cell_type": "code",
   "execution_count": 263,
   "id": "48c6f5af-1cb0-4681-98f0-fc29c79bbfd5",
   "metadata": {},
   "outputs": [
    {
     "name": "stderr",
     "output_type": "stream",
     "text": [
      "/home/x_sanvi/.conda/envs/jupyter/lib/python3.12/site-packages/torch/storage.py:414: FutureWarning: You are using `torch.load` with `weights_only=False` (the current default value), which uses the default pickle module implicitly. It is possible to construct malicious pickle data which will execute arbitrary code during unpickling (See https://github.com/pytorch/pytorch/blob/main/SECURITY.md#untrusted-models for more details). In a future release, the default value for `weights_only` will be flipped to `True`. This limits the functions that could be executed during unpickling. Arbitrary objects will no longer be allowed to be loaded via this mode unless they are explicitly allowlisted by the user via `torch.serialization.add_safe_globals`. We recommend you start setting `weights_only=True` for any use case where you don't have full control of the loaded file. Please open an issue on GitHub for any issues related to this experimental feature.\n",
      "  return torch.load(io.BytesIO(b))\n"
     ]
    }
   ],
   "source": [
    "def read_paxdb_dataset(path) -> pd.DataFrame:\n",
    "    dset = pd.read_csv(path, sep = '\\t', header=11)\n",
    "    dset = dset.rename(columns = {'#string_external_id': 'id'})\n",
    "    dset['id'] = dset['id'].map(str)\n",
    "    dset['id'] = dset['id'].map(lambda s: s.split('.')[1])\n",
    "    return dset\n",
    "\n",
    "# Load embeddings\n",
    "organism = 9606\n",
    "with open(f\"../../data/PaxDb/Paxdb-embedding/{organism}.pkl\", \"br\") as f:\n",
    "    df_embedding = pkl.load(f)\n",
    "df_embedding[\"Embedding\"] = df_embedding[\"Embedding\"][:len(df_embedding[\"id\"])]\n",
    "df_embedding = pd.DataFrame(df_embedding)\n",
    "df_embedding[\"id\"] = df_embedding.apply(lambda x: x[\"id\"].split(\".\")[1], axis=1)\n",
    "\n",
    "# create organ file map\n",
    "\n",
    "\n",
    "DIRs_abundance = glob.glob(f\"../../data/PaxDb/paxdb-abundance-files-v5.0/{organism}/*\")\n",
    "df_organ_file = {}\n",
    "organs = set()\n",
    "for file in DIRs_abundance:\n",
    "    with open(file, \"r\") as f:\n",
    "        string = f.read()\n",
    "        rows = string.split('\\n')\n",
    "    for row in rows:\n",
    "        if \"#organ\" in row:\n",
    "            #print(row)\n",
    "            organ = row.split()[-1]\n",
    "            organs.add(organ)\n",
    "            break\n",
    "    if organ not in df_organ_file:\n",
    "        df_organ_file[organ] = [file]\n",
    "    else:\n",
    "        df_organ_file[organ].append(file)\n"
   ]
  },
  {
   "cell_type": "code",
   "execution_count": 304,
   "id": "a7df3cd6-71d1-4378-8e17-d61e7c58c8df",
   "metadata": {},
   "outputs": [],
   "source": [
    "import shutil\n",
    "import os\n",
    "organism = 9606\n",
    "DIR = f\"../../data/PaxDb/Paxdb-sequences_processed_Human_cell_line\"\n",
    "for idx, file in enumerate(df_organ_file['CELL_LINE']):\n",
    "    with open (file, \"r\") as f:\n",
    "        line = f.read().split('\\n')[1].split(',')\n",
    "        s = \"_\".join(l.strip() for l in line[1:])\n",
    "        cell_line = s.split(\" (\")[0]\n",
    "\n",
    "    \n",
    "    if not os.path.isdir(f\"{DIR}/{cell_line}\"):\n",
    "        os.mkdir(f\"{DIR}/{cell_line}\")\n",
    "    if not os.path.isdir(f\"{DIR}/{cell_line}/experiments\"):\n",
    "        os.mkdir(f\"{DIR}/{cell_line}/experiments\")\n",
    "   # for experiment_file in item[1]:\n",
    "    shutil.copy(file, f\"{DIR}/{cell_line}/experiments/{experiment_file.split('/')[-1]}\")\n",
    "    shutil.copy(f\"../../data/PaxDb/Paxdb-sequences_processed/{organism}/embedding.pkl\", f\"{DIR}/{cell_line}/embedding.pkl\")\n",
    "    shutil.copy(f\"../../data/PaxDb/Paxdb-sequences_processed/{organism}/train.fa\", f\"{DIR}/{cell_line}/train.fa\")\n",
    "    shutil.copy(f\"../../data/PaxDb/Paxdb-sequences_processed/{organism}/test.fa\", f\"{DIR}/{cell_line}/test.fa\")\n",
    "    "
   ]
  }
 ],
 "metadata": {
  "kernelspec": {
   "display_name": "Python 3 (ipykernel)",
   "language": "python",
   "name": "python3"
  },
  "language_info": {
   "codemirror_mode": {
    "name": "ipython",
    "version": 3
   },
   "file_extension": ".py",
   "mimetype": "text/x-python",
   "name": "python",
   "nbconvert_exporter": "python",
   "pygments_lexer": "ipython3",
   "version": "3.12.4"
  }
 },
 "nbformat": 4,
 "nbformat_minor": 5
}
