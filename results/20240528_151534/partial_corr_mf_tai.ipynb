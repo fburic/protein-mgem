{
 "cells": [
  {
   "cell_type": "code",
   "execution_count": 1,
   "id": "0202ebf3-978e-4abb-848d-d74123fdb9e3",
   "metadata": {
    "scrolled": false
   },
   "outputs": [],
   "source": [
    "from multiprocessing import Pool, cpu_count\n",
    "import os\n",
    "from pathlib import Path\n",
    "import yaml\n",
    "\n",
    "import numpy as np\n",
    "import numexpr\n",
    "import pandas as pd\n",
    "import scipy.stats as stats\n",
    "from sklearn.preprocessing import StandardScaler\n",
    "\n",
    "import seaborn as sns\n",
    "import matplotlib.pyplot as plt\n",
    "from tqdm.notebook import tqdm\n",
    "\n",
    "from scripts.general import data, preprocess, plotting\n",
    "\n",
    "\n",
    "tqdm.pandas(desc='Pandas op')\n",
    "MAX_PROC = cpu_count() - 2\n",
    "numexpr.set_num_threads(MAX_PROC)\n",
    "\n",
    "\n",
    "plt.rcParams['font.size'] = 14\n",
    "\n",
    "%load_ext autoreload\n",
    "%autoreload 2"
   ]
  },
  {
   "cell_type": "markdown",
   "id": "ceceec60",
   "metadata": {},
   "source": [
    "## Get tAI values"
   ]
  },
  {
   "cell_type": "code",
   "execution_count": 2,
   "id": "d8fbf750",
   "metadata": {},
   "outputs": [],
   "source": [
    "tai = pd.read_csv('../../data/seq/codons/tai_yeast_ecoli.csv')\n",
    "tai = tai[['Codon', 'S. cerevisiae']].rename(columns = {'S. cerevisiae': 'w'})\n",
    "tai['w'] = tai['w'].astype('float32')\n",
    "\n",
    "codon_rel_adaptiveness = {\n",
    "    codon: w for codon, w in tai.values\n",
    "}"
   ]
  },
  {
   "cell_type": "code",
   "execution_count": 3,
   "id": "9d4262bc",
   "metadata": {},
   "outputs": [],
   "source": [
    "genes = preprocess.fasta_to_seq_df(\n",
    "    '../../data/seq/S288C_reference_genome_R64-2-1_20150113/orf_coding_all_R64-2-1_20150113.fasta',\n",
    "    id_name='Systematic_Name',\n",
    "    id_extract_func = lambda record: record.id.split(' ')[0]\n",
    ").rename(\n",
    "    columns={'seq': 'dna_seq'}\n",
    ")"
   ]
  },
  {
   "cell_type": "code",
   "execution_count": 4,
   "id": "0c29140b",
   "metadata": {},
   "outputs": [
    {
     "data": {
      "text/plain": [
       "(6713, 2)"
      ]
     },
     "execution_count": 4,
     "metadata": {},
     "output_type": "execute_result"
    }
   ],
   "source": [
    "genes.shape"
   ]
  },
  {
   "cell_type": "markdown",
   "id": "9f1cca6e",
   "metadata": {},
   "source": [
    "Filter out sequences that are not multiples of 3"
   ]
  },
  {
   "cell_type": "code",
   "execution_count": 5,
   "id": "fd717e78",
   "metadata": {},
   "outputs": [
    {
     "data": {
      "text/plain": [
       "(6711, 2)"
      ]
     },
     "execution_count": 5,
     "metadata": {},
     "output_type": "execute_result"
    }
   ],
   "source": [
    "genes = genes[genes['dna_seq'].map(lambda s: len(s) % 3 == 0)]\n",
    "\n",
    "genes.shape"
   ]
  },
  {
   "cell_type": "code",
   "execution_count": 6,
   "id": "5e57aad2",
   "metadata": {},
   "outputs": [],
   "source": [
    "def gene_tai(seq: str, weights_lookup: dict) -> np.ndarray:\n",
    "    \"\"\"\n",
    "    Get the gene tAI using the relative codong adaptiveness `weights_lookup`\n",
    "    Assumes sequence is a multiple of 3.\n",
    "    \"\"\"\n",
    "    n_codons = len(seq) // 3\n",
    "    \n",
    "    w = np.zeros(n_codons, dtype='float32')\n",
    "    for i in range(n_codons):\n",
    "        w[i] = weights_lookup[seq[i * 3 : (i + 1) * 3]]\n",
    "    \n",
    "    return stats.gmean(w)\n",
    "    \n",
    "\n",
    "# TEST\n",
    "assert np.isclose(\n",
    "    gene_tai('TTTTTCTTA', codon_rel_adaptiveness),\n",
    "    stats.gmean([0.27032, 0.615764, 0.431034])\n",
    ")"
   ]
  },
  {
   "cell_type": "markdown",
   "id": "cbd23d75",
   "metadata": {},
   "source": [
    "Calculate gene tAI values. Make sure to exclude the stop codon."
   ]
  },
  {
   "cell_type": "code",
   "execution_count": 7,
   "id": "792083cf",
   "metadata": {},
   "outputs": [],
   "source": [
    "genes = genes.assign(\n",
    "    tAI = genes['dna_seq'].map(lambda s: gene_tai(s[:-3], codon_rel_adaptiveness))\n",
    ")"
   ]
  },
  {
   "cell_type": "markdown",
   "id": "e7e96446",
   "metadata": {},
   "source": [
    "Filter out NaNs, arising from in-frame stop codons, like YDR134C  https://www.yeastgenome.org/locus/S000002541"
   ]
  },
  {
   "cell_type": "code",
   "execution_count": 8,
   "id": "c1bf58ee",
   "metadata": {},
   "outputs": [
    {
     "data": {
      "text/plain": [
       "(6685, 3)"
      ]
     },
     "execution_count": 8,
     "metadata": {},
     "output_type": "execute_result"
    }
   ],
   "source": [
    "genes = genes[~genes['tAI'].isna()]\n",
    "\n",
    "genes.shape"
   ]
  },
  {
   "cell_type": "code",
   "execution_count": 9,
   "id": "0cd5742b",
   "metadata": {},
   "outputs": [],
   "source": [
    "genes = genes.assign(\n",
    "    tAI_zscore = StandardScaler().fit_transform(genes[['tAI']])\n",
    ")"
   ]
  },
  {
   "cell_type": "markdown",
   "id": "e90245f7",
   "metadata": {},
   "source": [
    "## Get mF values"
   ]
  },
  {
   "cell_type": "code",
   "execution_count": 10,
   "id": "3ad9a0f8",
   "metadata": {},
   "outputs": [],
   "source": [
    "folding = pd.read_csv('../../data/mrna_folding/sce_Score.tab.gz', sep='\\t', \n",
    "                      header=0, names = ['gene_id', 'gene_length', 'PARS'])"
   ]
  },
  {
   "cell_type": "code",
   "execution_count": 11,
   "id": "d272a301",
   "metadata": {},
   "outputs": [],
   "source": [
    "folding = folding.assign(\n",
    "    mF = folding['PARS'].map(\n",
    "        lambda scores: np.mean(list(map(float, scores.split(';'))))\n",
    "    )\n",
    ").drop(columns=['PARS'])\n",
    "\n",
    "folding = folding.assign(\n",
    "     mF_zscore = StandardScaler().fit_transform(folding[['mF']])\n",
    ")"
   ]
  },
  {
   "cell_type": "markdown",
   "id": "dbe09d23",
   "metadata": {},
   "source": [
    "## Get BERT predictions"
   ]
  },
  {
   "cell_type": "code",
   "execution_count": 12,
   "id": "20ae57c9",
   "metadata": {},
   "outputs": [],
   "source": [
    "all_median_abundances = pd.read_csv('../../data/ho2018/prot_abundance_molecules_per_cell_no_gfp.csv')\n",
    "id_matching = all_median_abundances[['Systematic_Name', 'swissprot_ac']]\n",
    "\n",
    "pred = pd.read_csv('../20211223_182228/model_test_predictions.csv.gz').merge(id_matching, on='swissprot_ac')"
   ]
  },
  {
   "cell_type": "code",
   "execution_count": 13,
   "id": "f1acc717",
   "metadata": {},
   "outputs": [],
   "source": [
    "pred = pred.assign(\n",
    "    pred_residuals = pred['Median_molecules_per_cell'] - pred['predictions_test']\n",
    ")"
   ]
  },
  {
   "cell_type": "code",
   "execution_count": 14,
   "id": "a7d3fa37",
   "metadata": {},
   "outputs": [],
   "source": [
    "pred_and_vars = pd.merge(\n",
    "    pred.drop(columns=['seq', 'swissprot_ac']),\n",
    "    genes.drop(columns=['dna_seq'])\n",
    ")"
   ]
  },
  {
   "cell_type": "code",
   "execution_count": 15,
   "id": "9dceb12f",
   "metadata": {},
   "outputs": [
    {
     "data": {
      "text/plain": [
       "(436, 6)"
      ]
     },
     "execution_count": 15,
     "metadata": {},
     "output_type": "execute_result"
    }
   ],
   "source": [
    "pred_and_vars.shape"
   ]
  },
  {
   "cell_type": "code",
   "execution_count": 16,
   "id": "99b4c1e1",
   "metadata": {},
   "outputs": [
    {
     "data": {
      "text/html": [
       "<div>\n",
       "<style scoped>\n",
       "    .dataframe tbody tr th:only-of-type {\n",
       "        vertical-align: middle;\n",
       "    }\n",
       "\n",
       "    .dataframe tbody tr th {\n",
       "        vertical-align: top;\n",
       "    }\n",
       "\n",
       "    .dataframe thead th {\n",
       "        text-align: right;\n",
       "    }\n",
       "</style>\n",
       "<table border=\"1\" class=\"dataframe\">\n",
       "  <thead>\n",
       "    <tr style=\"text-align: right;\">\n",
       "      <th></th>\n",
       "      <th>Median_molecules_per_cell</th>\n",
       "      <th>predictions_test</th>\n",
       "      <th>Systematic_Name</th>\n",
       "      <th>pred_residuals</th>\n",
       "      <th>tAI</th>\n",
       "      <th>tAI_zscore</th>\n",
       "    </tr>\n",
       "  </thead>\n",
       "  <tbody>\n",
       "    <tr>\n",
       "      <th>0</th>\n",
       "      <td>6.056560</td>\n",
       "      <td>5.771559</td>\n",
       "      <td>YHR177W</td>\n",
       "      <td>0.285001</td>\n",
       "      <td>0.312017</td>\n",
       "      <td>-0.722107</td>\n",
       "    </tr>\n",
       "    <tr>\n",
       "      <th>1</th>\n",
       "      <td>7.003393</td>\n",
       "      <td>7.505554</td>\n",
       "      <td>YAL049C</td>\n",
       "      <td>-0.502161</td>\n",
       "      <td>0.398815</td>\n",
       "      <td>0.559470</td>\n",
       "    </tr>\n",
       "    <tr>\n",
       "      <th>2</th>\n",
       "      <td>5.708121</td>\n",
       "      <td>5.974726</td>\n",
       "      <td>YPR085C</td>\n",
       "      <td>-0.266605</td>\n",
       "      <td>0.321840</td>\n",
       "      <td>-0.577077</td>\n",
       "    </tr>\n",
       "    <tr>\n",
       "      <th>3</th>\n",
       "      <td>6.187091</td>\n",
       "      <td>5.946874</td>\n",
       "      <td>YJL110C</td>\n",
       "      <td>0.240217</td>\n",
       "      <td>0.298813</td>\n",
       "      <td>-0.917068</td>\n",
       "    </tr>\n",
       "  </tbody>\n",
       "</table>\n",
       "</div>"
      ],
      "text/plain": [
       "   Median_molecules_per_cell  predictions_test Systematic_Name  \\\n",
       "0                   6.056560          5.771559         YHR177W   \n",
       "1                   7.003393          7.505554         YAL049C   \n",
       "2                   5.708121          5.974726         YPR085C   \n",
       "3                   6.187091          5.946874         YJL110C   \n",
       "\n",
       "   pred_residuals       tAI  tAI_zscore  \n",
       "0        0.285001  0.312017   -0.722107  \n",
       "1       -0.502161  0.398815    0.559470  \n",
       "2       -0.266605  0.321840   -0.577077  \n",
       "3        0.240217  0.298813   -0.917068  "
      ]
     },
     "execution_count": 16,
     "metadata": {},
     "output_type": "execute_result"
    }
   ],
   "source": [
    "pred_and_vars.head(4)"
   ]
  },
  {
   "cell_type": "markdown",
   "id": "fa4187bd",
   "metadata": {},
   "source": [
    "### mF will be a subset\n",
    "\n",
    "Since measurements were made for about 3000 genes"
   ]
  },
  {
   "cell_type": "code",
   "execution_count": 17,
   "id": "d59c930f",
   "metadata": {},
   "outputs": [
    {
     "data": {
      "text/plain": [
       "(239, 10)"
      ]
     },
     "execution_count": 17,
     "metadata": {},
     "output_type": "execute_result"
    }
   ],
   "source": [
    "pred_and_vars_mf_subset = pd.merge(\n",
    "    pred_and_vars,\n",
    "    folding,\n",
    "    left_on='Systematic_Name', right_on='gene_id'\n",
    ")\n",
    "\n",
    "pred_and_vars_mf_subset.shape"
   ]
  },
  {
   "cell_type": "code",
   "execution_count": 18,
   "id": "b15096fe",
   "metadata": {},
   "outputs": [
    {
     "data": {
      "text/plain": [
       "(239, 10)"
      ]
     },
     "execution_count": 18,
     "metadata": {},
     "output_type": "execute_result"
    }
   ],
   "source": [
    "pred_mf_subset = pd.merge(\n",
    "    pred,\n",
    "    folding,\n",
    "    left_on='Systematic_Name', right_on='gene_id'\n",
    ")\n",
    "\n",
    "pred_mf_subset.shape"
   ]
  },
  {
   "cell_type": "code",
   "execution_count": 19,
   "id": "a5735f5b",
   "metadata": {},
   "outputs": [
    {
     "data": {
      "text/html": [
       "<div>\n",
       "<style scoped>\n",
       "    .dataframe tbody tr th:only-of-type {\n",
       "        vertical-align: middle;\n",
       "    }\n",
       "\n",
       "    .dataframe tbody tr th {\n",
       "        vertical-align: top;\n",
       "    }\n",
       "\n",
       "    .dataframe thead th {\n",
       "        text-align: right;\n",
       "    }\n",
       "</style>\n",
       "<table border=\"1\" class=\"dataframe\">\n",
       "  <thead>\n",
       "    <tr style=\"text-align: right;\">\n",
       "      <th></th>\n",
       "      <th>Median_molecules_per_cell</th>\n",
       "      <th>predictions_test</th>\n",
       "      <th>Systematic_Name</th>\n",
       "      <th>pred_residuals</th>\n",
       "      <th>tAI</th>\n",
       "      <th>tAI_zscore</th>\n",
       "      <th>gene_id</th>\n",
       "      <th>gene_length</th>\n",
       "      <th>mF</th>\n",
       "      <th>mF_zscore</th>\n",
       "    </tr>\n",
       "  </thead>\n",
       "  <tbody>\n",
       "    <tr>\n",
       "      <th>0</th>\n",
       "      <td>7.003393</td>\n",
       "      <td>7.505554</td>\n",
       "      <td>YAL049C</td>\n",
       "      <td>-0.502161</td>\n",
       "      <td>0.398815</td>\n",
       "      <td>0.559470</td>\n",
       "      <td>YAL049C</td>\n",
       "      <td>890</td>\n",
       "      <td>0.287744</td>\n",
       "      <td>0.094398</td>\n",
       "    </tr>\n",
       "    <tr>\n",
       "      <th>1</th>\n",
       "      <td>6.980684</td>\n",
       "      <td>6.802645</td>\n",
       "      <td>YMR058W</td>\n",
       "      <td>0.178039</td>\n",
       "      <td>0.388923</td>\n",
       "      <td>0.413418</td>\n",
       "      <td>YMR058W</td>\n",
       "      <td>2101</td>\n",
       "      <td>0.964539</td>\n",
       "      <td>2.662250</td>\n",
       "    </tr>\n",
       "    <tr>\n",
       "      <th>2</th>\n",
       "      <td>5.905004</td>\n",
       "      <td>5.517097</td>\n",
       "      <td>YNL289W</td>\n",
       "      <td>0.387907</td>\n",
       "      <td>0.333018</td>\n",
       "      <td>-0.412031</td>\n",
       "      <td>YNL289W</td>\n",
       "      <td>1069</td>\n",
       "      <td>0.290318</td>\n",
       "      <td>0.104165</td>\n",
       "    </tr>\n",
       "    <tr>\n",
       "      <th>3</th>\n",
       "      <td>6.243851</td>\n",
       "      <td>6.893354</td>\n",
       "      <td>YLR130C</td>\n",
       "      <td>-0.649504</td>\n",
       "      <td>0.335456</td>\n",
       "      <td>-0.376026</td>\n",
       "      <td>YLR130C</td>\n",
       "      <td>1457</td>\n",
       "      <td>0.346805</td>\n",
       "      <td>0.318484</td>\n",
       "    </tr>\n",
       "  </tbody>\n",
       "</table>\n",
       "</div>"
      ],
      "text/plain": [
       "   Median_molecules_per_cell  predictions_test Systematic_Name  \\\n",
       "0                   7.003393          7.505554         YAL049C   \n",
       "1                   6.980684          6.802645         YMR058W   \n",
       "2                   5.905004          5.517097         YNL289W   \n",
       "3                   6.243851          6.893354         YLR130C   \n",
       "\n",
       "   pred_residuals       tAI  tAI_zscore  gene_id  gene_length        mF  \\\n",
       "0       -0.502161  0.398815    0.559470  YAL049C          890  0.287744   \n",
       "1        0.178039  0.388923    0.413418  YMR058W         2101  0.964539   \n",
       "2        0.387907  0.333018   -0.412031  YNL289W         1069  0.290318   \n",
       "3       -0.649504  0.335456   -0.376026  YLR130C         1457  0.346805   \n",
       "\n",
       "   mF_zscore  \n",
       "0   0.094398  \n",
       "1   2.662250  \n",
       "2   0.104165  \n",
       "3   0.318484  "
      ]
     },
     "execution_count": 19,
     "metadata": {},
     "output_type": "execute_result"
    }
   ],
   "source": [
    "pred_and_vars_mf_subset.head(4)"
   ]
  },
  {
   "cell_type": "markdown",
   "id": "412c0876",
   "metadata": {},
   "source": [
    "## Correlations"
   ]
  },
  {
   "cell_type": "code",
   "execution_count": 20,
   "id": "af1e4380",
   "metadata": {},
   "outputs": [
    {
     "data": {
      "text/html": [
       "<div>\n",
       "<style scoped>\n",
       "    .dataframe tbody tr th:only-of-type {\n",
       "        vertical-align: middle;\n",
       "    }\n",
       "\n",
       "    .dataframe tbody tr th {\n",
       "        vertical-align: top;\n",
       "    }\n",
       "\n",
       "    .dataframe thead th {\n",
       "        text-align: right;\n",
       "    }\n",
       "</style>\n",
       "<table border=\"1\" class=\"dataframe\">\n",
       "  <thead>\n",
       "    <tr style=\"text-align: right;\">\n",
       "      <th></th>\n",
       "      <th>predictions_test</th>\n",
       "      <th>pred_residuals</th>\n",
       "      <th>tAI_zscore</th>\n",
       "    </tr>\n",
       "  </thead>\n",
       "  <tbody>\n",
       "    <tr>\n",
       "      <th>predictions_test</th>\n",
       "      <td>1.000000</td>\n",
       "      <td>NaN</td>\n",
       "      <td>0.729222</td>\n",
       "    </tr>\n",
       "    <tr>\n",
       "      <th>pred_residuals</th>\n",
       "      <td>NaN</td>\n",
       "      <td>1.00000</td>\n",
       "      <td>0.337770</td>\n",
       "    </tr>\n",
       "    <tr>\n",
       "      <th>tAI_zscore</th>\n",
       "      <td>0.729222</td>\n",
       "      <td>0.33777</td>\n",
       "      <td>1.000000</td>\n",
       "    </tr>\n",
       "  </tbody>\n",
       "</table>\n",
       "</div>"
      ],
      "text/plain": [
       "                  predictions_test  pred_residuals  tAI_zscore\n",
       "predictions_test          1.000000             NaN    0.729222\n",
       "pred_residuals                 NaN         1.00000    0.337770\n",
       "tAI_zscore                0.729222         0.33777    1.000000"
      ]
     },
     "execution_count": 20,
     "metadata": {},
     "output_type": "execute_result"
    }
   ],
   "source": [
    "def signif_corr(a: np.ndarray, b: np.ndarray) -> float:\n",
    "    corr, pvalue = stats.pearsonr(a, b)\n",
    "    if pvalue < 0.05:\n",
    "        return corr\n",
    "    else:\n",
    "        return np.nan\n",
    "    \n",
    "pred_and_vars.drop(columns=['Median_molecules_per_cell', 'Systematic_Name', 'tAI']).corr(method=signif_corr)"
   ]
  },
  {
   "cell_type": "code",
   "execution_count": 21,
   "id": "0db55076",
   "metadata": {},
   "outputs": [
    {
     "data": {
      "text/plain": [
       "(-0.018637820711459883, 0.6979526719267706)"
      ]
     },
     "execution_count": 21,
     "metadata": {},
     "output_type": "execute_result"
    }
   ],
   "source": [
    "stats.pearsonr(\n",
    "    pred_and_vars['predictions_test'], \n",
    "    pred_and_vars['pred_residuals']\n",
    ")"
   ]
  },
  {
   "cell_type": "markdown",
   "id": "24793e20",
   "metadata": {},
   "source": [
    "### 1. tAI"
   ]
  },
  {
   "cell_type": "code",
   "execution_count": 22,
   "id": "110b5fc9",
   "metadata": {},
   "outputs": [
    {
     "data": {
      "text/plain": [
       "(0.7292219843275917, 1.6215599310925052e-73)"
      ]
     },
     "execution_count": 22,
     "metadata": {},
     "output_type": "execute_result"
    }
   ],
   "source": [
    "stats.pearsonr(\n",
    "    pred_and_vars['predictions_test'],\n",
    "    pred_and_vars['tAI_zscore']\n",
    ")"
   ]
  },
  {
   "cell_type": "code",
   "execution_count": 23,
   "id": "7dea3e77",
   "metadata": {},
   "outputs": [
    {
     "data": {
      "text/plain": [
       "(0.337769684336558, 4.271929714951881e-13)"
      ]
     },
     "execution_count": 23,
     "metadata": {},
     "output_type": "execute_result"
    }
   ],
   "source": [
    "stats.pearsonr(\n",
    "    pred_and_vars['pred_residuals'],\n",
    "    pred_and_vars['tAI_zscore']\n",
    ")"
   ]
  },
  {
   "cell_type": "markdown",
   "id": "1ffec06f",
   "metadata": {},
   "source": [
    "### 2. mF"
   ]
  },
  {
   "cell_type": "code",
   "execution_count": 24,
   "id": "9ad3da9b",
   "metadata": {},
   "outputs": [
    {
     "data": {
      "text/plain": [
       "(0.45159457869819175, 2.0642433074496902e-13)"
      ]
     },
     "execution_count": 24,
     "metadata": {},
     "output_type": "execute_result"
    }
   ],
   "source": [
    "stats.pearsonr(\n",
    "    pred_mf_subset['predictions_test'],\n",
    "    pred_mf_subset['mF_zscore']\n",
    ")"
   ]
  },
  {
   "cell_type": "code",
   "execution_count": 25,
   "id": "fffe83f0",
   "metadata": {},
   "outputs": [
    {
     "data": {
      "text/plain": [
       "(0.36488596959236747, 6.133033624323248e-09)"
      ]
     },
     "execution_count": 25,
     "metadata": {},
     "output_type": "execute_result"
    }
   ],
   "source": [
    "stats.pearsonr(\n",
    "    pred_and_vars_mf_subset['pred_residuals'],\n",
    "    pred_and_vars_mf_subset['mF_zscore']\n",
    ")"
   ]
  },
  {
   "cell_type": "code",
   "execution_count": 26,
   "id": "41a436d5",
   "metadata": {},
   "outputs": [
    {
     "data": {
      "text/plain": [
       "(0.5711021014006098, 4.343890033681415e-22)"
      ]
     },
     "execution_count": 26,
     "metadata": {},
     "output_type": "execute_result"
    }
   ],
   "source": [
    "stats.pearsonr(\n",
    "    pred_mf_subset['Median_molecules_per_cell'],\n",
    "    pred_mf_subset['mF_zscore']\n",
    ")"
   ]
  },
  {
   "cell_type": "code",
   "execution_count": 27,
   "id": "7cce2f2c",
   "metadata": {},
   "outputs": [
    {
     "data": {
      "text/plain": [
       "(2999, 6)"
      ]
     },
     "execution_count": 27,
     "metadata": {},
     "output_type": "execute_result"
    }
   ],
   "source": [
    "factors = pd.merge(\n",
    "    genes.drop(columns=['dna_seq']),\n",
    "    folding.drop(columns=['gene_length']),\n",
    "    left_on='Systematic_Name', right_on='gene_id'\n",
    ")\n",
    "\n",
    "factors.shape"
   ]
  },
  {
   "cell_type": "code",
   "execution_count": 28,
   "id": "ccd1cf6b",
   "metadata": {},
   "outputs": [
    {
     "data": {
      "image/png": "[encoded data removed]",
      "text/plain": [
       "<Figure size 432x288 with 1 Axes>"
      ]
     },
     "metadata": {
      "needs_background": "light"
     },
     "output_type": "display_data"
    }
   ],
   "source": [
    "sns.kdeplot(\n",
    "    factors[['mF_zscore', 'tAI_zscore']],\n",
    "    bw_adjust=0.2\n",
    ").set(\n",
    "    xlabel='Z-score'\n",
    ");"
   ]
  },
  {
   "cell_type": "markdown",
   "id": "43d50802",
   "metadata": {},
   "source": [
    "## Partial Correlations"
   ]
  },
  {
   "cell_type": "code",
   "execution_count": 29,
   "id": "23feb9fb",
   "metadata": {},
   "outputs": [],
   "source": [
    "import networkx as nx\n",
    "\n",
    "\n",
    "def draw_factor_graph(graph: nx.Graph, layout = 'circular', font_size=14, widths=1.5, node_size=1000):\n",
    "    \"\"\"\n",
    "    :param layout: 'spring', 'circular', 'planar' or NetworkX position dictionary\n",
    "    \"\"\"\n",
    "    draw_options = {\n",
    "        \"font_size\": font_size,\n",
    "        \"node_size\": node_size,\n",
    "        \"node_shape\": \"s\",\n",
    "        \"node_color\": \"white\",\n",
    "        \"edgecolors\": \"black\",\n",
    "        \"linewidths\": widths,\n",
    "        \"width\": widths\n",
    "    }\n",
    "\n",
    "    if isinstance(layout, str):\n",
    "        layout = {\n",
    "            'spring': nx.spring_layout(graph, seed=123),\n",
    "            'circular': nx.circular_layout(graph),\n",
    "            'planar': nx.planar_layout(graph, scale=2),\n",
    "        }[layout]\n",
    "    else:\n",
    "        layout = layout\n",
    "        \n",
    "    nx.draw(\n",
    "        graph,\n",
    "        labels = {n: n for n in graph},\n",
    "        pos = layout,\n",
    "        **draw_options\n",
    "    );\n",
    "\n",
    "    nx.draw_networkx_edge_labels(\n",
    "        graph, \n",
    "        edge_labels = {edge: f\"{graph[edge[0]][edge[1]]['weight'] :.2f}\" for edge in graph.edges},\n",
    "        font_size = font_size,\n",
    "        rotate = False,\n",
    "        pos = layout\n",
    "    );\n",
    "\n",
    "    axis_scaling = 1.1\n",
    "    axis = plt.gca()\n",
    "    axis.set_xlim([axis_scaling * x for x in axis.get_xlim()])\n",
    "    axis.set_ylim([axis_scaling * y for y in axis.get_ylim()])\n",
    "    \n",
    "    \n",
    "def get_pairwise_measure_graph(table: pd.DataFrame, diag = 1) -> nx.Graph:\n",
    "    \"\"\"\n",
    "    Use upper triangular matrix of the given pairwise measures table.\n",
    "    Assumes the values are symmetrical.\n",
    "    \n",
    "    :param diag: Which diagonal to use when taking the upper triangular matrix. \n",
    "                 E.g. `diag = 0` includes matrix diagonal (self-values / self-loops),\n",
    "                 not included by default.\n",
    "    \"\"\"\n",
    "    graph = nx.from_numpy_array(np.triu(table.values, k = diag))\n",
    "    graph = nx.relabel_nodes(\n",
    "        graph, \n",
    "        {i: label for i, label in enumerate(map(lambda name: name.split('_')[0], table.columns))}\n",
    "    )\n",
    "    return graph"
   ]
  },
  {
   "cell_type": "code",
   "execution_count": 30,
   "id": "61d1300d",
   "metadata": {},
   "outputs": [],
   "source": [
    "import pingouin as pg\n",
    "from collections import defaultdict\n",
    "\n",
    "\n",
    "def partial_corr_table(factors: pd.DataFrame) -> pd.DataFrame:\n",
    "    \"\"\"\n",
    "    Obtain the significant (p-value < 0.05) partial Pearson correlations \n",
    "    for all pairs of (distinct) factor columns in the DataFrame.\n",
    "    \n",
    "    Partial correlations with higher p-values or between the same columns are recorded as NaN.\n",
    "    \"\"\"\n",
    "    \n",
    "    col_names = list(factors.columns)\n",
    "    col_idx = {name: idx for idx, name in enumerate(col_names)}\n",
    "    \n",
    "    par_corrs = defaultdict(defaultdict)\n",
    "    \n",
    "    for x in col_names:\n",
    "        for y in col_names:\n",
    "            if x != y:\n",
    "                controlling_vars = sorted(set(factors.columns) - {x, y})\n",
    "                pcorr = pg.partial_corr(data=factors, x=x, y=y, covar=controlling_vars).to_dict()\n",
    "        \n",
    "                if pcorr['p-val']['pearson'] < 0.05:\n",
    "                    par_corrs[x][y] = pcorr['r']['pearson']\n",
    "\n",
    "    par_corrs = pd.DataFrame.from_dict(par_corrs)\n",
    "\n",
    "    # Make sure rows in same order as columns\n",
    "    par_corrs = par_corrs.assign(\n",
    "        col_idx = par_corrs.index.map(lambda name: col_idx[name])\n",
    "    )\n",
    "    par_corrs = par_corrs.sort_values('col_idx').drop(columns=['col_idx'])\n",
    "    \n",
    "    return par_corrs"
   ]
  },
  {
   "cell_type": "code",
   "execution_count": 31,
   "id": "35ca7540",
   "metadata": {},
   "outputs": [
    {
     "data": {
      "text/html": [
       "<div>\n",
       "<style scoped>\n",
       "    .dataframe tbody tr th:only-of-type {\n",
       "        vertical-align: middle;\n",
       "    }\n",
       "\n",
       "    .dataframe tbody tr th {\n",
       "        vertical-align: top;\n",
       "    }\n",
       "\n",
       "    .dataframe thead th {\n",
       "        text-align: right;\n",
       "    }\n",
       "</style>\n",
       "<table border=\"1\" class=\"dataframe\">\n",
       "  <thead>\n",
       "    <tr style=\"text-align: right;\">\n",
       "      <th></th>\n",
       "      <th>tAI_zscore</th>\n",
       "      <th>mF_zscore</th>\n",
       "    </tr>\n",
       "  </thead>\n",
       "  <tbody>\n",
       "    <tr>\n",
       "      <th>tAI_zscore</th>\n",
       "      <td>NaN</td>\n",
       "      <td>0.511077</td>\n",
       "    </tr>\n",
       "    <tr>\n",
       "      <th>mF_zscore</th>\n",
       "      <td>0.511077</td>\n",
       "      <td>NaN</td>\n",
       "    </tr>\n",
       "  </tbody>\n",
       "</table>\n",
       "</div>"
      ],
      "text/plain": [
       "            tAI_zscore  mF_zscore\n",
       "tAI_zscore         NaN   0.511077\n",
       "mF_zscore     0.511077        NaN"
      ]
     },
     "execution_count": 31,
     "metadata": {},
     "output_type": "execute_result"
    }
   ],
   "source": [
    "partial_corr_table(factors[['tAI_zscore','mF_zscore']])"
   ]
  },
  {
   "cell_type": "markdown",
   "id": "06dc69dc",
   "metadata": {},
   "source": [
    "### Look at subset including predictions"
   ]
  },
  {
   "cell_type": "code",
   "execution_count": 32,
   "id": "5128d1d6",
   "metadata": {},
   "outputs": [
    {
     "data": {
      "image/png": "[encoded data removed]",
      "text/plain": [
       "<Figure size 432x288 with 1 Axes>"
      ]
     },
     "metadata": {},
     "output_type": "display_data"
    }
   ],
   "source": [
    "par_corr_pred = partial_corr_table(\n",
    "    pred_and_vars_mf_subset[\n",
    "        ['predictions_test', 'tAI_zscore','mF_zscore']\n",
    "    ].rename(\n",
    "        columns={\n",
    "            'predictions_test': '$\\hat{P}$'\n",
    "        }\n",
    "    )\n",
    ").fillna(0)\n",
    "\n",
    "\n",
    "par_corr_pred_graph = get_pairwise_measure_graph(par_corr_pred)\n",
    "\n",
    "\n",
    "par_corr_pred_graph.remove_edges_from([\n",
    "    ('tAI', 'mF')\n",
    "])\n",
    "\n",
    "draw_factor_graph(par_corr_pred_graph, layout='planar', font_size=20, widths=2, node_size=2000)"
   ]
  },
  {
   "cell_type": "code",
   "execution_count": 33,
   "id": "8b1da597",
   "metadata": {},
   "outputs": [
    {
     "data": {
      "text/html": [
       "<div>\n",
       "<style scoped>\n",
       "    .dataframe tbody tr th:only-of-type {\n",
       "        vertical-align: middle;\n",
       "    }\n",
       "\n",
       "    .dataframe tbody tr th {\n",
       "        vertical-align: top;\n",
       "    }\n",
       "\n",
       "    .dataframe thead th {\n",
       "        text-align: right;\n",
       "    }\n",
       "</style>\n",
       "<table border=\"1\" class=\"dataframe\">\n",
       "  <thead>\n",
       "    <tr style=\"text-align: right;\">\n",
       "      <th></th>\n",
       "      <th>n</th>\n",
       "      <th>r</th>\n",
       "      <th>CI95%</th>\n",
       "      <th>p-val</th>\n",
       "    </tr>\n",
       "  </thead>\n",
       "  <tbody>\n",
       "    <tr>\n",
       "      <th>pearson</th>\n",
       "      <td>239</td>\n",
       "      <td>0.670599</td>\n",
       "      <td>[0.59, 0.74]</td>\n",
       "      <td>1.891458e-32</td>\n",
       "    </tr>\n",
       "  </tbody>\n",
       "</table>\n",
       "</div>"
      ],
      "text/plain": [
       "           n         r         CI95%         p-val\n",
       "pearson  239  0.670599  [0.59, 0.74]  1.891458e-32"
      ]
     },
     "execution_count": 33,
     "metadata": {},
     "output_type": "execute_result"
    }
   ],
   "source": [
    "pg.partial_corr(data=pred_and_vars_mf_subset, x='predictions_test', y='tAI_zscore', covar='mF_zscore')"
   ]
  },
  {
   "cell_type": "code",
   "execution_count": 34,
   "id": "ef24bef8",
   "metadata": {},
   "outputs": [
    {
     "data": {
      "text/html": [
       "<div>\n",
       "<style scoped>\n",
       "    .dataframe tbody tr th:only-of-type {\n",
       "        vertical-align: middle;\n",
       "    }\n",
       "\n",
       "    .dataframe tbody tr th {\n",
       "        vertical-align: top;\n",
       "    }\n",
       "\n",
       "    .dataframe thead th {\n",
       "        text-align: right;\n",
       "    }\n",
       "</style>\n",
       "<table border=\"1\" class=\"dataframe\">\n",
       "  <thead>\n",
       "    <tr style=\"text-align: right;\">\n",
       "      <th></th>\n",
       "      <th>n</th>\n",
       "      <th>r</th>\n",
       "      <th>CI95%</th>\n",
       "      <th>p-val</th>\n",
       "    </tr>\n",
       "  </thead>\n",
       "  <tbody>\n",
       "    <tr>\n",
       "      <th>pearson</th>\n",
       "      <td>239</td>\n",
       "      <td>-0.009733</td>\n",
       "      <td>[-0.14, 0.12]</td>\n",
       "      <td>0.881259</td>\n",
       "    </tr>\n",
       "  </tbody>\n",
       "</table>\n",
       "</div>"
      ],
      "text/plain": [
       "           n         r          CI95%     p-val\n",
       "pearson  239 -0.009733  [-0.14, 0.12]  0.881259"
      ]
     },
     "execution_count": 34,
     "metadata": {},
     "output_type": "execute_result"
    }
   ],
   "source": [
    "pg.partial_corr(data=pred_and_vars_mf_subset, x='predictions_test', y='mF_zscore', covar='tAI_zscore')"
   ]
  },
  {
   "cell_type": "code",
   "execution_count": 35,
   "id": "ce14e25a",
   "metadata": {},
   "outputs": [
    {
     "data": {
      "text/html": [
       "<div>\n",
       "<style scoped>\n",
       "    .dataframe tbody tr th:only-of-type {\n",
       "        vertical-align: middle;\n",
       "    }\n",
       "\n",
       "    .dataframe tbody tr th {\n",
       "        vertical-align: top;\n",
       "    }\n",
       "\n",
       "    .dataframe thead th {\n",
       "        text-align: right;\n",
       "    }\n",
       "</style>\n",
       "<table border=\"1\" class=\"dataframe\">\n",
       "  <thead>\n",
       "    <tr style=\"text-align: right;\">\n",
       "      <th></th>\n",
       "      <th>n</th>\n",
       "      <th>r</th>\n",
       "      <th>CI95%</th>\n",
       "      <th>p-val</th>\n",
       "    </tr>\n",
       "  </thead>\n",
       "  <tbody>\n",
       "    <tr>\n",
       "      <th>pearson</th>\n",
       "      <td>239</td>\n",
       "      <td>0.135518</td>\n",
       "      <td>[0.01, 0.26]</td>\n",
       "      <td>0.03668</td>\n",
       "    </tr>\n",
       "  </tbody>\n",
       "</table>\n",
       "</div>"
      ],
      "text/plain": [
       "           n         r         CI95%    p-val\n",
       "pearson  239  0.135518  [0.01, 0.26]  0.03668"
      ]
     },
     "execution_count": 35,
     "metadata": {},
     "output_type": "execute_result"
    }
   ],
   "source": [
    "pg.partial_corr(data=pred_and_vars_mf_subset, x='Median_molecules_per_cell', y='mF_zscore', covar='tAI_zscore')"
   ]
  },
  {
   "cell_type": "code",
   "execution_count": 36,
   "id": "4ac3997c",
   "metadata": {},
   "outputs": [
    {
     "data": {
      "text/html": [
       "<div>\n",
       "<style scoped>\n",
       "    .dataframe tbody tr th:only-of-type {\n",
       "        vertical-align: middle;\n",
       "    }\n",
       "\n",
       "    .dataframe tbody tr th {\n",
       "        vertical-align: top;\n",
       "    }\n",
       "\n",
       "    .dataframe thead th {\n",
       "        text-align: right;\n",
       "    }\n",
       "</style>\n",
       "<table border=\"1\" class=\"dataframe\">\n",
       "  <thead>\n",
       "    <tr style=\"text-align: right;\">\n",
       "      <th></th>\n",
       "      <th>n</th>\n",
       "      <th>r</th>\n",
       "      <th>CI95%</th>\n",
       "      <th>p-val</th>\n",
       "    </tr>\n",
       "  </thead>\n",
       "  <tbody>\n",
       "    <tr>\n",
       "      <th>pearson</th>\n",
       "      <td>239</td>\n",
       "      <td>0.759421</td>\n",
       "      <td>[0.7, 0.81]</td>\n",
       "      <td>5.959058e-46</td>\n",
       "    </tr>\n",
       "  </tbody>\n",
       "</table>\n",
       "</div>"
      ],
      "text/plain": [
       "           n         r        CI95%         p-val\n",
       "pearson  239  0.759421  [0.7, 0.81]  5.959058e-46"
      ]
     },
     "execution_count": 36,
     "metadata": {},
     "output_type": "execute_result"
    }
   ],
   "source": [
    "pg.partial_corr(data=pred_and_vars_mf_subset, x='Median_molecules_per_cell', y='tAI_zscore', covar='mF_zscore')"
   ]
  },
  {
   "cell_type": "code",
   "execution_count": 37,
   "id": "33180916",
   "metadata": {},
   "outputs": [
    {
     "data": {
      "image/png": "[encoded data removed]",
      "text/plain": [
       "<Figure size 432x288 with 1 Axes>"
      ]
     },
     "metadata": {},
     "output_type": "display_data"
    }
   ],
   "source": [
    "par_corr_resid = partial_corr_table(\n",
    "    pred_and_vars_mf_subset[\n",
    "        ['pred_residuals', 'tAI_zscore','mF_zscore']\n",
    "    ].rename(\n",
    "        columns={\n",
    "            'pred_residuals': 'E'\n",
    "        }\n",
    "    )\n",
    ").fillna(0)\n",
    "\n",
    "par_corr_resid_graph = get_pairwise_measure_graph(par_corr_resid)\n",
    "\n",
    "par_corr_resid_graph.remove_edges_from([\n",
    "    ('tAI', 'mF')\n",
    "])\n",
    "\n",
    "draw_factor_graph(par_corr_resid_graph, layout='planar', font_size=20, widths=2, node_size=2000)"
   ]
  },
  {
   "cell_type": "code",
   "execution_count": 38,
   "id": "b600cd8d",
   "metadata": {},
   "outputs": [
    {
     "data": {
      "text/html": [
       "<div>\n",
       "<style scoped>\n",
       "    .dataframe tbody tr th:only-of-type {\n",
       "        vertical-align: middle;\n",
       "    }\n",
       "\n",
       "    .dataframe tbody tr th {\n",
       "        vertical-align: top;\n",
       "    }\n",
       "\n",
       "    .dataframe thead th {\n",
       "        text-align: right;\n",
       "    }\n",
       "</style>\n",
       "<table border=\"1\" class=\"dataframe\">\n",
       "  <thead>\n",
       "    <tr style=\"text-align: right;\">\n",
       "      <th></th>\n",
       "      <th>n</th>\n",
       "      <th>r</th>\n",
       "      <th>CI95%</th>\n",
       "      <th>p-val</th>\n",
       "    </tr>\n",
       "  </thead>\n",
       "  <tbody>\n",
       "    <tr>\n",
       "      <th>pearson</th>\n",
       "      <td>239</td>\n",
       "      <td>0.291364</td>\n",
       "      <td>[0.17, 0.4]</td>\n",
       "      <td>0.000005</td>\n",
       "    </tr>\n",
       "  </tbody>\n",
       "</table>\n",
       "</div>"
      ],
      "text/plain": [
       "           n         r        CI95%     p-val\n",
       "pearson  239  0.291364  [0.17, 0.4]  0.000005"
      ]
     },
     "execution_count": 38,
     "metadata": {},
     "output_type": "execute_result"
    }
   ],
   "source": [
    "pg.partial_corr(data=pred_and_vars_mf_subset, x='pred_residuals', y='tAI_zscore', covar='mF_zscore')"
   ]
  },
  {
   "cell_type": "code",
   "execution_count": 39,
   "id": "f0339563",
   "metadata": {},
   "outputs": [
    {
     "data": {
      "text/html": [
       "<div>\n",
       "<style scoped>\n",
       "    .dataframe tbody tr th:only-of-type {\n",
       "        vertical-align: middle;\n",
       "    }\n",
       "\n",
       "    .dataframe tbody tr th {\n",
       "        vertical-align: top;\n",
       "    }\n",
       "\n",
       "    .dataframe thead th {\n",
       "        text-align: right;\n",
       "    }\n",
       "</style>\n",
       "<table border=\"1\" class=\"dataframe\">\n",
       "  <thead>\n",
       "    <tr style=\"text-align: right;\">\n",
       "      <th></th>\n",
       "      <th>n</th>\n",
       "      <th>r</th>\n",
       "      <th>CI95%</th>\n",
       "      <th>p-val</th>\n",
       "    </tr>\n",
       "  </thead>\n",
       "  <tbody>\n",
       "    <tr>\n",
       "      <th>pearson</th>\n",
       "      <td>239</td>\n",
       "      <td>0.291364</td>\n",
       "      <td>[0.17, 0.4]</td>\n",
       "      <td>0.000005</td>\n",
       "    </tr>\n",
       "  </tbody>\n",
       "</table>\n",
       "</div>"
      ],
      "text/plain": [
       "           n         r        CI95%     p-val\n",
       "pearson  239  0.291364  [0.17, 0.4]  0.000005"
      ]
     },
     "execution_count": 39,
     "metadata": {},
     "output_type": "execute_result"
    }
   ],
   "source": [
    "pg.partial_corr(data=pred_and_vars_mf_subset, x='pred_residuals', y='tAI_zscore', covar='mF_zscore')"
   ]
  },
  {
   "cell_type": "code",
   "execution_count": 40,
   "id": "dc811e0b",
   "metadata": {},
   "outputs": [],
   "source": [
    "excluded_cols = ['Systematic_Name', 'gene_id', 'gene_length', \n",
    "                 'Median_molecules_per_cell', 'tAI', 'mF']"
   ]
  },
  {
   "cell_type": "code",
   "execution_count": 41,
   "id": "62e36038",
   "metadata": {},
   "outputs": [
    {
     "data": {
      "text/html": [
       "<div>\n",
       "<style scoped>\n",
       "    .dataframe tbody tr th:only-of-type {\n",
       "        vertical-align: middle;\n",
       "    }\n",
       "\n",
       "    .dataframe tbody tr th {\n",
       "        vertical-align: top;\n",
       "    }\n",
       "\n",
       "    .dataframe thead th {\n",
       "        text-align: right;\n",
       "    }\n",
       "</style>\n",
       "<table border=\"1\" class=\"dataframe\">\n",
       "  <thead>\n",
       "    <tr style=\"text-align: right;\">\n",
       "      <th></th>\n",
       "      <th>n</th>\n",
       "      <th>r</th>\n",
       "      <th>CI95%</th>\n",
       "      <th>p-val</th>\n",
       "    </tr>\n",
       "  </thead>\n",
       "  <tbody>\n",
       "    <tr>\n",
       "      <th>pearson</th>\n",
       "      <td>239</td>\n",
       "      <td>0.067824</td>\n",
       "      <td>[-0.06, 0.19]</td>\n",
       "      <td>0.298426</td>\n",
       "    </tr>\n",
       "  </tbody>\n",
       "</table>\n",
       "</div>"
      ],
      "text/plain": [
       "           n         r          CI95%     p-val\n",
       "pearson  239  0.067824  [-0.06, 0.19]  0.298426"
      ]
     },
     "execution_count": 41,
     "metadata": {},
     "output_type": "execute_result"
    }
   ],
   "source": [
    "pg.partial_corr(data=pred_and_vars_mf_subset.drop(columns=excluded_cols), \n",
    "                x = 'predictions_test', y = 'mF_zscore', \n",
    "                covar = list(set(pred_and_vars_mf_subset.drop(columns=excluded_cols).columns) \n",
    "                             - {'predictions_test', 'mF_zscore'}))"
   ]
  },
  {
   "cell_type": "code",
   "execution_count": 42,
   "id": "e69fa5b8",
   "metadata": {},
   "outputs": [
    {
     "data": {
      "image/png": "[encoded data removed]",
      "text/plain": [
       "<Figure size 432x288 with 1 Axes>"
      ]
     },
     "metadata": {},
     "output_type": "display_data"
    }
   ],
   "source": [
    "par_corr_abundance = partial_corr_table(\n",
    "    pred_and_vars_mf_subset[\n",
    "        ['Median_molecules_per_cell', 'tAI_zscore','mF_zscore']\n",
    "    ].rename(\n",
    "        columns={\n",
    "            'Median_molecules_per_cell': 'P'\n",
    "        }\n",
    "    )\n",
    ").fillna(0)\n",
    "\n",
    "par_corr_abundance_graph = get_pairwise_measure_graph(par_corr_abundance)\n",
    "\n",
    "\n",
    "par_corr_abundance_graph.remove_edges_from([\n",
    "    ('tAI', 'mF')\n",
    "])\n",
    "\n",
    "draw_factor_graph(par_corr_abundance_graph, layout='planar', font_size=20, widths=2, node_size=2000)"
   ]
  },
  {
   "cell_type": "code",
   "execution_count": null,
   "id": "ebd01689",
   "metadata": {},
   "outputs": [],
   "source": []
  }
 ],
 "metadata": {
  "kernelspec": {
   "display_name": "DeepTranslation New",
   "language": "python",
   "name": "deeptranslation_new"
  },
  "language_info": {
   "codemirror_mode": {
    "name": "ipython",
    "version": 3
   },
   "file_extension": ".py",
   "mimetype": "text/x-python",
   "name": "python",
   "nbconvert_exporter": "python",
   "pygments_lexer": "ipython3",
   "version": "3.8.6"
  }
 },
 "nbformat": 4,
 "nbformat_minor": 5
}
