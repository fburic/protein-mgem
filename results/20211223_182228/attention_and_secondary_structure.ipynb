{
 "cells": [
  {
   "cell_type": "markdown",
   "id": "9660a29c",
   "metadata": {},
   "source": [
    "## Match high attention values with secondary structure "
   ]
  },
  {
   "cell_type": "code",
   "execution_count": 1,
   "id": "958a461b",
   "metadata": {},
   "outputs": [],
   "source": [
    "%load_ext autoreload\n",
    "%autoreload 2\n",
    "\n",
    "from collections import Counter\n",
    "import os\n",
    "from multiprocessing import cpu_count\n",
    "import yaml\n",
    "\n",
    "import h5py\n",
    "import numexpr\n",
    "import numpy as np\n",
    "import pandas as pd\n",
    "import scipy as sci\n",
    "import scipy.signal as signal\n",
    "import scipy.stats as stats\n",
    "\n",
    "import matplotlib.pyplot as plt\n",
    "import seaborn as sns\n",
    "from tqdm.notebook import tqdm\n",
    "tqdm.pandas(desc='Pandas op')\n",
    "\n",
    "\n",
    "from scripts.general import analysis, attribution, data, util\n",
    "\n",
    "\n",
    "MAX_PROC = cpu_count() - 2\n",
    "numexpr.set_num_threads(MAX_PROC)\n",
    "\n",
    "plt.rcParams['figure.dpi'] = 100\n",
    "plt.rcParams['font.size'] = 14"
   ]
  },
  {
   "cell_type": "markdown",
   "id": "75e9c434",
   "metadata": {},
   "source": [
    "### Load seq and secondary structure data"
   ]
  },
  {
   "cell_type": "code",
   "execution_count": 2,
   "id": "2907479a",
   "metadata": {},
   "outputs": [],
   "source": [
    "exp_dir = '.'"
   ]
  },
  {
   "cell_type": "code",
   "execution_count": 3,
   "id": "7423dd37",
   "metadata": {},
   "outputs": [],
   "source": [
    "with open('experiment_config.yaml', 'r') as config_file:\n",
    "    config = yaml.load(config_file, Loader=yaml.FullLoader)\n",
    "    \n",
    "seq_data = data.load_seq_and_abundance_data(config)[\n",
    "    ['swissprot_ac', 'seq', 'Median_molecules_per_cell']\n",
    "]\n",
    "seq_data = seq_data.assign(\n",
    "    seq_len = seq_data['seq'].str.len(),\n",
    "    abundance_bin = pd.qcut(seq_data['Median_molecules_per_cell'], q = 10, labels=range(1, 11))\n",
    ")\n",
    "seq_data = (\n",
    "    seq_data\n",
    "    .sort_values('swissprot_ac')\n",
    "    .assign(prot_idx = np.arange(seq_data.shape[0]))\n",
    ")"
   ]
  },
  {
   "cell_type": "code",
   "execution_count": 4,
   "id": "5462312f",
   "metadata": {},
   "outputs": [],
   "source": [
    "RECOMPUTE_DSSP_ANNOT = False  # Takes some time\n",
    "\n",
    "\n",
    "if RECOMPUTE_DSSP_ANNOT:\n",
    "    seq_data = data.load_seq_and_abundance_data(config)[\n",
    "        ['swissprot_ac', 'seq', 'Systematic_Name', 'Standard_Name', 'Median_molecules_per_cell']\n",
    "    ]\n",
    "    seq_data = seq_data.assign(seq_len = seq_data['seq'].str.len())\n",
    "\n",
    "    pdb_dir = Path('../../data/pdb_yeast/pdb_files_alphafold')\n",
    "\n",
    "    structures = seq_data[['swissprot_ac', 'seq_len']].assign(\n",
    "        struct = seq_data.progress_apply(\n",
    "            lambda row: data.get_dssp_annotation(pdb_dir / f\"AF-{row['swissprot_ac']}-F1-model_v2.pdb\",\n",
    "                                                 row['seq_len']),\n",
    "            axis='columns'\n",
    "        )\n",
    "    )\n",
    "\n",
    "    structures = structures[structures['struct'].notnull()]\n",
    "    structures.to_csv('secondary_structures.csv.gz', compression='gzip', index=False)\n",
    "\n",
    "\n",
    "else:\n",
    "    structures = pd.read_csv('secondary_structures.csv.gz')"
   ]
  },
  {
   "cell_type": "code",
   "execution_count": 5,
   "id": "4e393fc1",
   "metadata": {},
   "outputs": [
    {
     "name": "stdout",
     "output_type": "stream",
     "text": [
      "N. structures 4745\n"
     ]
    }
   ],
   "source": [
    "print('N. structures', structures['swissprot_ac'].unique().shape[0])"
   ]
  },
  {
   "cell_type": "code",
   "execution_count": 6,
   "id": "95b6feb7",
   "metadata": {},
   "outputs": [],
   "source": [
    "struct_descr = pd.DataFrame.from_records(\n",
    "    [('G', '3-turn helix'),\n",
    "    ('H', '4-turn helix (α helix)'),\n",
    "    ('I', '5-turn helix (π helix)'),\n",
    "    ('T', 'hydrogen bonded turn (3, 4 or 5 turn)'),\n",
    "    ('E', 'extended strand in parallel and/or anti-parallel β-sheet'),\n",
    "    ('B', 'residue in isolated β-bridge'),\n",
    "    ('S', 'bend'),\n",
    "    ('-', 'coil')],\n",
    "    columns = ['struct', 'descr']\n",
    ")"
   ]
  },
  {
   "cell_type": "markdown",
   "id": "06f132c4",
   "metadata": {},
   "source": [
    "### Get background structure counts"
   ]
  },
  {
   "cell_type": "code",
   "execution_count": 7,
   "id": "186f784f",
   "metadata": {},
   "outputs": [],
   "source": [
    "seq_data_with_struct = seq_data.merge(\n",
    "    structures[['swissprot_ac', 'struct']],\n",
    "    on = 'swissprot_ac'\n",
    ")\n",
    "\n",
    "background_struct_counts = seq_data_with_struct['struct'].map(Counter).sum()\n",
    "\n",
    "background_struct_counts = pd.DataFrame.from_records(list(background_struct_counts.items()), \n",
    "                                                        columns=['struct', 'background_count'])\n",
    "\n",
    "background_struct_counts = background_struct_counts.assign(\n",
    "    mean_background_count = background_struct_counts['background_count'] / seq_data_with_struct['seq'].count(),\n",
    "    background_fract = background_struct_counts['background_count'] / background_struct_counts['background_count'].sum()\n",
    ").sort_values('struct')"
   ]
  },
  {
   "cell_type": "code",
   "execution_count": 8,
   "id": "3cc3d5df",
   "metadata": {},
   "outputs": [
    {
     "data": {
      "text/html": [
       "<div>\n",
       "<style scoped>\n",
       "    .dataframe tbody tr th:only-of-type {\n",
       "        vertical-align: middle;\n",
       "    }\n",
       "\n",
       "    .dataframe tbody tr th {\n",
       "        vertical-align: top;\n",
       "    }\n",
       "\n",
       "    .dataframe thead th {\n",
       "        text-align: right;\n",
       "    }\n",
       "</style>\n",
       "<table border=\"1\" class=\"dataframe\">\n",
       "  <thead>\n",
       "    <tr style=\"text-align: right;\">\n",
       "      <th></th>\n",
       "      <th>0</th>\n",
       "    </tr>\n",
       "  </thead>\n",
       "  <tbody>\n",
       "    <tr>\n",
       "      <th>swissprot_ac</th>\n",
       "      <td>A2P2R3</td>\n",
       "    </tr>\n",
       "    <tr>\n",
       "      <th>seq</th>\n",
       "      <td>MCGIFGYCNFLIEKTRGEIIDTLIEGLQALEYKEYDSSGISIQGDE...</td>\n",
       "    </tr>\n",
       "    <tr>\n",
       "      <th>Median_molecules_per_cell</th>\n",
       "      <td>16168.0</td>\n",
       "    </tr>\n",
       "    <tr>\n",
       "      <th>seq_len</th>\n",
       "      <td>262</td>\n",
       "    </tr>\n",
       "    <tr>\n",
       "      <th>abundance_bin</th>\n",
       "      <td>10</td>\n",
       "    </tr>\n",
       "    <tr>\n",
       "      <th>prot_idx</th>\n",
       "      <td>0</td>\n",
       "    </tr>\n",
       "    <tr>\n",
       "      <th>struct</th>\n",
       "      <td>--EEEEEEE-SS-EEHHHHHHHHHHHHHHT-SS--SEEEEEEE-SS...</td>\n",
       "    </tr>\n",
       "  </tbody>\n",
       "</table>\n",
       "</div>"
      ],
      "text/plain": [
       "                                                                           0\n",
       "swissprot_ac                                                          A2P2R3\n",
       "seq                        MCGIFGYCNFLIEKTRGEIIDTLIEGLQALEYKEYDSSGISIQGDE...\n",
       "Median_molecules_per_cell                                            16168.0\n",
       "seq_len                                                                  262\n",
       "abundance_bin                                                             10\n",
       "prot_idx                                                                   0\n",
       "struct                     --EEEEEEE-SS-EEHHHHHHHHHHHHHHT-SS--SEEEEEEE-SS..."
      ]
     },
     "execution_count": 8,
     "metadata": {},
     "output_type": "execute_result"
    }
   ],
   "source": [
    "seq_data_with_struct.head(1).transpose()"
   ]
  },
  {
   "cell_type": "markdown",
   "id": "903dc7de",
   "metadata": {},
   "source": [
    "### Count structures in significant positions"
   ]
  },
  {
   "cell_type": "code",
   "execution_count": 9,
   "id": "605a6321",
   "metadata": {
    "scrolled": false
   },
   "outputs": [
    {
     "data": {
      "application/json": {
       "ascii": false,
       "bar_format": null,
       "colour": null,
       "elapsed": 0.016276121139526367,
       "initial": 0,
       "n": 0,
       "ncols": null,
       "nrows": 50,
       "postfix": null,
       "prefix": "Pandas op",
       "rate": null,
       "total": 4760,
       "unit": "it",
       "unit_divisor": 1000,
       "unit_scale": false
      },
      "application/vnd.jupyter.widget-view+json": {
       "model_id": "d765bc9e2376494e8c9f2d4f931d137d",
       "version_major": 2,
       "version_minor": 0
      },
      "text/plain": [
       "Pandas op:   0%|          | 0/4760 [00:00<?, ?it/s]"
      ]
     },
     "metadata": {},
     "output_type": "display_data"
    }
   ],
   "source": [
    "ZSCORE_CUTOFF = 1\n",
    "\n",
    "\n",
    "def get_significant_struct_count(seq: str, profile: np.ndarray) -> pd.DataFrame:\n",
    "    \"\"\"Thin wrapper to adapt the generic letter counting function\"\"\"\n",
    "    letter_counts =  analysis.get_significant_aa_count(seq, \n",
    "                                                       stats.zscore(profile),\n",
    "                                                       zscore_cutoff = ZSCORE_CUTOFF)\n",
    "    return letter_counts.rename(columns={'aa': 'struct'})\n",
    "\n",
    "\n",
    "def struct_counts(row):\n",
    "    \"\"\"\n",
    "    Return counts of secondary structures at positions with attention z-scores > ZSCORE_CUTOFF,\n",
    "    a count for each attention profile.\n",
    "    \"\"\"\n",
    "    attention_profiles, _ = attribution.load_profiles(row['swissprot_ac'],\n",
    "                                                      attention_dir=exp_dir)\n",
    "    attention_profiles = attention_profiles.tolist()\n",
    "    \n",
    "    struct_counts = list(map(\n",
    "        lambda i: \n",
    "            get_significant_struct_count(row['seq'], \n",
    "                                         attention_profiles[i]).assign(profile_idx = i),\n",
    "        range(len(attention_profiles))\n",
    "    ))\n",
    "    \n",
    "    return pd.concat(struct_counts, ignore_index=True).assign(swissprot_ac = row['swissprot_ac'])\n",
    "\n",
    "\n",
    "# TEST\n",
    "# pd.concat(\n",
    "#     seq_data_with_struct.head(1).apply(struct_counts, axis='columns').values,\n",
    "#     ignore_index = True\n",
    "# )\n",
    "\n",
    "\n",
    "struct_counts = pd.concat(\n",
    "    seq_data_with_struct.progress_apply(struct_counts, axis='columns').values,\n",
    "    ignore_index = True\n",
    ")"
   ]
  },
  {
   "cell_type": "code",
   "execution_count": 10,
   "id": "828c6452",
   "metadata": {},
   "outputs": [
    {
     "data": {
      "text/html": [
       "<div>\n",
       "<style scoped>\n",
       "    .dataframe tbody tr th:only-of-type {\n",
       "        vertical-align: middle;\n",
       "    }\n",
       "\n",
       "    .dataframe tbody tr th {\n",
       "        vertical-align: top;\n",
       "    }\n",
       "\n",
       "    .dataframe thead th {\n",
       "        text-align: right;\n",
       "    }\n",
       "</style>\n",
       "<table border=\"1\" class=\"dataframe\">\n",
       "  <thead>\n",
       "    <tr style=\"text-align: right;\">\n",
       "      <th></th>\n",
       "      <th>struct</th>\n",
       "      <th>count</th>\n",
       "      <th>profile_idx</th>\n",
       "      <th>swissprot_ac</th>\n",
       "      <th>background_count</th>\n",
       "      <th>mean_background_count</th>\n",
       "      <th>background_fract</th>\n",
       "    </tr>\n",
       "  </thead>\n",
       "  <tbody>\n",
       "    <tr>\n",
       "      <th>0</th>\n",
       "      <td>S</td>\n",
       "      <td>14</td>\n",
       "      <td>0</td>\n",
       "      <td>A2P2R3</td>\n",
       "      <td>131682</td>\n",
       "      <td>27.664286</td>\n",
       "      <td>0.064345</td>\n",
       "    </tr>\n",
       "    <tr>\n",
       "      <th>1</th>\n",
       "      <td>S</td>\n",
       "      <td>15</td>\n",
       "      <td>0</td>\n",
       "      <td>D6VTK4</td>\n",
       "      <td>131682</td>\n",
       "      <td>27.664286</td>\n",
       "      <td>0.064345</td>\n",
       "    </tr>\n",
       "  </tbody>\n",
       "</table>\n",
       "</div>"
      ],
      "text/plain": [
       "  struct  count  profile_idx swissprot_ac  background_count  \\\n",
       "0      S     14            0       A2P2R3            131682   \n",
       "1      S     15            0       D6VTK4            131682   \n",
       "\n",
       "   mean_background_count  background_fract  \n",
       "0              27.664286          0.064345  \n",
       "1              27.664286          0.064345  "
      ]
     },
     "execution_count": 10,
     "metadata": {},
     "output_type": "execute_result"
    }
   ],
   "source": [
    "MIN_COUNT = 10  # Rule out small counts\n",
    "\n",
    "\n",
    "observed_and_expected_counts = pd.merge(\n",
    "    struct_counts.query('count > @MIN_COUNT'),\n",
    "    background_struct_counts,\n",
    "    on = 'struct'\n",
    ")\n",
    "\n",
    "observed_and_expected_counts.head(2)"
   ]
  },
  {
   "cell_type": "code",
   "execution_count": 11,
   "id": "155730a8",
   "metadata": {},
   "outputs": [
    {
     "data": {
      "application/json": {
       "ascii": false,
       "bar_format": null,
       "colour": null,
       "elapsed": 0.011883020401000977,
       "initial": 0,
       "n": 0,
       "ncols": null,
       "nrows": 50,
       "postfix": null,
       "prefix": "Pandas op",
       "rate": null,
       "total": 11377,
       "unit": "it",
       "unit_divisor": 1000,
       "unit_scale": false
      },
      "application/vnd.jupyter.widget-view+json": {
       "model_id": "055be8d276d94bda9c4b42a9990bc7a3",
       "version_major": 2,
       "version_minor": 0
      },
      "text/plain": [
       "Pandas op:   0%|          | 0/11377 [00:00<?, ?it/s]"
      ]
     },
     "metadata": {},
     "output_type": "display_data"
    }
   ],
   "source": [
    "struct_signif_test = (\n",
    "    observed_and_expected_counts\n",
    "    .rename(columns={'struct': 'aa'})\n",
    "    .groupby(['swissprot_ac', 'profile_idx'])\n",
    "    \n",
    "    .progress_apply(analysis.hypergeom_test_aa_counts)\n",
    "    \n",
    "    .reset_index().drop(columns='level_2')\n",
    "    .rename(columns={'aa': 'struct'})\n",
    ")"
   ]
  },
  {
   "cell_type": "code",
   "execution_count": 12,
   "id": "330e8b99",
   "metadata": {},
   "outputs": [],
   "source": [
    "enriched_struct = struct_signif_test.query('pval_over < 0.05')\n",
    "depleted_struct = struct_signif_test.query('pval_under < 0.05')"
   ]
  },
  {
   "cell_type": "code",
   "execution_count": 13,
   "id": "434a932d",
   "metadata": {},
   "outputs": [
    {
     "data": {
      "text/html": [
       "<div>\n",
       "<style scoped>\n",
       "    .dataframe tbody tr th:only-of-type {\n",
       "        vertical-align: middle;\n",
       "    }\n",
       "\n",
       "    .dataframe tbody tr th {\n",
       "        vertical-align: top;\n",
       "    }\n",
       "\n",
       "    .dataframe thead th {\n",
       "        text-align: right;\n",
       "    }\n",
       "</style>\n",
       "<table border=\"1\" class=\"dataframe\">\n",
       "  <thead>\n",
       "    <tr style=\"text-align: right;\">\n",
       "      <th></th>\n",
       "      <th>swissprot_ac</th>\n",
       "      <th>profile_idx</th>\n",
       "      <th>struct</th>\n",
       "      <th>pval_under</th>\n",
       "      <th>pval_over</th>\n",
       "    </tr>\n",
       "  </thead>\n",
       "  <tbody>\n",
       "    <tr>\n",
       "      <th>7</th>\n",
       "      <td>D6VTK4</td>\n",
       "      <td>0</td>\n",
       "      <td>T</td>\n",
       "      <td>0.995655</td>\n",
       "      <td>9.634695e-03</td>\n",
       "    </tr>\n",
       "    <tr>\n",
       "      <th>8</th>\n",
       "      <td>D6VTK4</td>\n",
       "      <td>1</td>\n",
       "      <td>S</td>\n",
       "      <td>1.000000</td>\n",
       "      <td>4.210883e-08</td>\n",
       "    </tr>\n",
       "    <tr>\n",
       "      <th>11</th>\n",
       "      <td>D6VTK4</td>\n",
       "      <td>2</td>\n",
       "      <td>I</td>\n",
       "      <td>0.999997</td>\n",
       "      <td>1.899547e-05</td>\n",
       "    </tr>\n",
       "    <tr>\n",
       "      <th>14</th>\n",
       "      <td>D6W196</td>\n",
       "      <td>1</td>\n",
       "      <td>S</td>\n",
       "      <td>0.999996</td>\n",
       "      <td>1.551433e-05</td>\n",
       "    </tr>\n",
       "    <tr>\n",
       "      <th>17</th>\n",
       "      <td>O13297</td>\n",
       "      <td>1</td>\n",
       "      <td>S</td>\n",
       "      <td>0.994643</td>\n",
       "      <td>9.705871e-03</td>\n",
       "    </tr>\n",
       "    <tr>\n",
       "      <th>19</th>\n",
       "      <td>O13297</td>\n",
       "      <td>1</td>\n",
       "      <td>I</td>\n",
       "      <td>0.999874</td>\n",
       "      <td>5.117201e-04</td>\n",
       "    </tr>\n",
       "  </tbody>\n",
       "</table>\n",
       "</div>"
      ],
      "text/plain": [
       "   swissprot_ac  profile_idx struct  pval_under     pval_over\n",
       "7        D6VTK4            0      T    0.995655  9.634695e-03\n",
       "8        D6VTK4            1      S    1.000000  4.210883e-08\n",
       "11       D6VTK4            2      I    0.999997  1.899547e-05\n",
       "14       D6W196            1      S    0.999996  1.551433e-05\n",
       "17       O13297            1      S    0.994643  9.705871e-03\n",
       "19       O13297            1      I    0.999874  5.117201e-04"
      ]
     },
     "execution_count": 13,
     "metadata": {},
     "output_type": "execute_result"
    }
   ],
   "source": [
    "enriched_struct.head(6)"
   ]
  },
  {
   "cell_type": "code",
   "execution_count": 14,
   "id": "fbcf5b39",
   "metadata": {},
   "outputs": [
    {
     "data": {
      "text/plain": [
       "2600"
      ]
     },
     "execution_count": 14,
     "metadata": {},
     "output_type": "execute_result"
    }
   ],
   "source": [
    "enriched_struct['swissprot_ac'].unique().shape[0]"
   ]
  },
  {
   "cell_type": "code",
   "execution_count": 15,
   "id": "00eaf0aa",
   "metadata": {},
   "outputs": [
    {
     "data": {
      "text/plain": [
       "2558"
      ]
     },
     "execution_count": 15,
     "metadata": {},
     "output_type": "execute_result"
    }
   ],
   "source": [
    "depleted_struct['swissprot_ac'].unique().shape[0]"
   ]
  },
  {
   "cell_type": "code",
   "execution_count": 16,
   "id": "e24c107e",
   "metadata": {},
   "outputs": [
    {
     "data": {
      "text/plain": [
       "2547"
      ]
     },
     "execution_count": 16,
     "metadata": {},
     "output_type": "execute_result"
    }
   ],
   "source": [
    "len(set(enriched_struct['swissprot_ac']).intersection(depleted_struct['swissprot_ac']))"
   ]
  },
  {
   "cell_type": "markdown",
   "id": "942da441",
   "metadata": {},
   "source": [
    "### Summarize across proteins"
   ]
  },
  {
   "cell_type": "code",
   "execution_count": 17,
   "id": "dcf960db",
   "metadata": {},
   "outputs": [
    {
     "data": {
      "text/html": [
       "<div>\n",
       "<style scoped>\n",
       "    .dataframe tbody tr th:only-of-type {\n",
       "        vertical-align: middle;\n",
       "    }\n",
       "\n",
       "    .dataframe tbody tr th {\n",
       "        vertical-align: top;\n",
       "    }\n",
       "\n",
       "    .dataframe thead th {\n",
       "        text-align: right;\n",
       "    }\n",
       "</style>\n",
       "<table border=\"1\" class=\"dataframe\">\n",
       "  <thead>\n",
       "    <tr style=\"text-align: right;\">\n",
       "      <th></th>\n",
       "      <th>struct</th>\n",
       "      <th>n_proteins</th>\n",
       "      <th>descr</th>\n",
       "    </tr>\n",
       "  </thead>\n",
       "  <tbody>\n",
       "    <tr>\n",
       "      <th>0</th>\n",
       "      <td>E</td>\n",
       "      <td>157</td>\n",
       "      <td>extended strand in parallel and/or anti-parall...</td>\n",
       "    </tr>\n",
       "    <tr>\n",
       "      <th>1</th>\n",
       "      <td>G</td>\n",
       "      <td>1336</td>\n",
       "      <td>3-turn helix</td>\n",
       "    </tr>\n",
       "    <tr>\n",
       "      <th>2</th>\n",
       "      <td>I</td>\n",
       "      <td>1425</td>\n",
       "      <td>5-turn helix (π helix)</td>\n",
       "    </tr>\n",
       "    <tr>\n",
       "      <th>3</th>\n",
       "      <td>S</td>\n",
       "      <td>1676</td>\n",
       "      <td>bend</td>\n",
       "    </tr>\n",
       "    <tr>\n",
       "      <th>4</th>\n",
       "      <td>T</td>\n",
       "      <td>505</td>\n",
       "      <td>hydrogen bonded turn (3, 4 or 5 turn)</td>\n",
       "    </tr>\n",
       "  </tbody>\n",
       "</table>\n",
       "</div>"
      ],
      "text/plain": [
       "  struct  n_proteins                                              descr\n",
       "0      E         157  extended strand in parallel and/or anti-parall...\n",
       "1      G        1336                                       3-turn helix\n",
       "2      I        1425                             5-turn helix (π helix)\n",
       "3      S        1676                                               bend\n",
       "4      T         505              hydrogen bonded turn (3, 4 or 5 turn)"
      ]
     },
     "execution_count": 17,
     "metadata": {},
     "output_type": "execute_result"
    }
   ],
   "source": [
    "enriched_struct_count = (\n",
    "    enriched_struct.groupby('struct')['swissprot_ac'].count()\n",
    "#     .apply(\n",
    "#         lambda grp_df: pd.DataFrame.from_records(\n",
    "#             list(Counter(grp_df['struct']).items()),\n",
    "#             columns = ['struct', 'n_profiles_where_signif']\n",
    "#         )\n",
    "#     )\n",
    "    .reset_index()\n",
    "    .rename(columns={'swissprot_ac': 'n_proteins'})\n",
    "#     .drop(columns = 'level_1')\n",
    ")\n",
    "\n",
    "enriched_struct_count.merge(struct_descr)"
   ]
  },
  {
   "cell_type": "code",
   "execution_count": 18,
   "id": "9798d4c4",
   "metadata": {},
   "outputs": [
    {
     "data": {
      "text/html": [
       "<div>\n",
       "<style scoped>\n",
       "    .dataframe tbody tr th:only-of-type {\n",
       "        vertical-align: middle;\n",
       "    }\n",
       "\n",
       "    .dataframe tbody tr th {\n",
       "        vertical-align: top;\n",
       "    }\n",
       "\n",
       "    .dataframe thead th {\n",
       "        text-align: right;\n",
       "    }\n",
       "</style>\n",
       "<table border=\"1\" class=\"dataframe\">\n",
       "  <thead>\n",
       "    <tr style=\"text-align: right;\">\n",
       "      <th></th>\n",
       "      <th>struct</th>\n",
       "      <th>n_proteins</th>\n",
       "      <th>descr</th>\n",
       "    </tr>\n",
       "  </thead>\n",
       "  <tbody>\n",
       "    <tr>\n",
       "      <th>0</th>\n",
       "      <td>E</td>\n",
       "      <td>3254</td>\n",
       "      <td>extended strand in parallel and/or anti-parall...</td>\n",
       "    </tr>\n",
       "    <tr>\n",
       "      <th>1</th>\n",
       "      <td>G</td>\n",
       "      <td>104</td>\n",
       "      <td>3-turn helix</td>\n",
       "    </tr>\n",
       "    <tr>\n",
       "      <th>2</th>\n",
       "      <td>H</td>\n",
       "      <td>8</td>\n",
       "      <td>4-turn helix (α helix)</td>\n",
       "    </tr>\n",
       "    <tr>\n",
       "      <th>3</th>\n",
       "      <td>S</td>\n",
       "      <td>315</td>\n",
       "      <td>bend</td>\n",
       "    </tr>\n",
       "    <tr>\n",
       "      <th>4</th>\n",
       "      <td>T</td>\n",
       "      <td>754</td>\n",
       "      <td>hydrogen bonded turn (3, 4 or 5 turn)</td>\n",
       "    </tr>\n",
       "  </tbody>\n",
       "</table>\n",
       "</div>"
      ],
      "text/plain": [
       "  struct  n_proteins                                              descr\n",
       "0      E        3254  extended strand in parallel and/or anti-parall...\n",
       "1      G         104                                       3-turn helix\n",
       "2      H           8                             4-turn helix (α helix)\n",
       "3      S         315                                               bend\n",
       "4      T         754              hydrogen bonded turn (3, 4 or 5 turn)"
      ]
     },
     "execution_count": 18,
     "metadata": {},
     "output_type": "execute_result"
    }
   ],
   "source": [
    "depleted_struct_count = (\n",
    "    depleted_struct.groupby('struct')['swissprot_ac'].count()\n",
    "#     .apply(\n",
    "#         lambda grp_df: pd.DataFrame.from_records(\n",
    "#             list(Counter(grp_df['struct']).items()),\n",
    "#             columns = ['struct', 'n_profiles_where_signif']\n",
    "#         )\n",
    "#     )\n",
    "    .reset_index()\n",
    "    .rename(columns={'swissprot_ac': 'n_proteins'})\n",
    "#     .drop(columns = 'level_1')\n",
    ")\n",
    "\n",
    "depleted_struct_count.merge(struct_descr)"
   ]
  },
  {
   "cell_type": "code",
   "execution_count": 19,
   "id": "a327ff5b",
   "metadata": {},
   "outputs": [],
   "source": [
    "struct_colors = {\n",
    "    '-': 'black',\n",
    "    'B': 'green',\n",
    "    'E': 'darkgreen',\n",
    "    'G': 'orange',\n",
    "    'H': 'yellow',\n",
    "    'I': 'red',\n",
    "    'S': 'blue',\n",
    "    'T': 'purple'\n",
    "}"
   ]
  },
  {
   "cell_type": "code",
   "execution_count": 20,
   "id": "cf6fdabc",
   "metadata": {},
   "outputs": [
    {
     "data": {
      "text/html": [
       "<div>\n",
       "<style scoped>\n",
       "    .dataframe tbody tr th:only-of-type {\n",
       "        vertical-align: middle;\n",
       "    }\n",
       "\n",
       "    .dataframe tbody tr th {\n",
       "        vertical-align: top;\n",
       "    }\n",
       "\n",
       "    .dataframe thead th {\n",
       "        text-align: right;\n",
       "    }\n",
       "</style>\n",
       "<table border=\"1\" class=\"dataframe\">\n",
       "  <thead>\n",
       "    <tr style=\"text-align: right;\">\n",
       "      <th></th>\n",
       "      <th>struct</th>\n",
       "      <th>descr</th>\n",
       "    </tr>\n",
       "  </thead>\n",
       "  <tbody>\n",
       "    <tr>\n",
       "      <th>0</th>\n",
       "      <td>G</td>\n",
       "      <td>3-turn helix</td>\n",
       "    </tr>\n",
       "    <tr>\n",
       "      <th>1</th>\n",
       "      <td>H</td>\n",
       "      <td>4-turn helix (α helix)</td>\n",
       "    </tr>\n",
       "    <tr>\n",
       "      <th>2</th>\n",
       "      <td>I</td>\n",
       "      <td>5-turn helix (π helix)</td>\n",
       "    </tr>\n",
       "    <tr>\n",
       "      <th>3</th>\n",
       "      <td>T</td>\n",
       "      <td>hydrogen bonded turn (3, 4 or 5 turn)</td>\n",
       "    </tr>\n",
       "    <tr>\n",
       "      <th>4</th>\n",
       "      <td>E</td>\n",
       "      <td>extended strand in parallel and/or anti-parall...</td>\n",
       "    </tr>\n",
       "    <tr>\n",
       "      <th>5</th>\n",
       "      <td>B</td>\n",
       "      <td>residue in isolated β-bridge</td>\n",
       "    </tr>\n",
       "    <tr>\n",
       "      <th>6</th>\n",
       "      <td>S</td>\n",
       "      <td>bend</td>\n",
       "    </tr>\n",
       "    <tr>\n",
       "      <th>7</th>\n",
       "      <td>-</td>\n",
       "      <td>coil</td>\n",
       "    </tr>\n",
       "  </tbody>\n",
       "</table>\n",
       "</div>"
      ],
      "text/plain": [
       "  struct                                              descr\n",
       "0      G                                       3-turn helix\n",
       "1      H                             4-turn helix (α helix)\n",
       "2      I                             5-turn helix (π helix)\n",
       "3      T              hydrogen bonded turn (3, 4 or 5 turn)\n",
       "4      E  extended strand in parallel and/or anti-parall...\n",
       "5      B                       residue in isolated β-bridge\n",
       "6      S                                               bend\n",
       "7      -                                               coil"
      ]
     },
     "execution_count": 20,
     "metadata": {},
     "output_type": "execute_result"
    },
    {
     "data": {
      "image/png": "[encoded data removed]",
      "text/plain": [
       "<Figure size 1200x400 with 2 Axes>"
      ]
     },
     "metadata": {
      "needs_background": "light"
     },
     "output_type": "display_data"
    }
   ],
   "source": [
    "plt.figure(dpi=100, figsize=(12, 4))\n",
    "\n",
    "plt.subplot(1, 2, 1)\n",
    "\n",
    "sns.barplot(\n",
    "    data = enriched_struct_count, x = 'struct', y = 'n_proteins',\n",
    "    order = enriched_struct_count['struct'][\n",
    "        enriched_struct_count['n_proteins'].sort_values(ascending=False).index\n",
    "    ],\n",
    ")\n",
    "plt.xlabel('Enriched secondary structure')\n",
    "plt.ylabel('N. proteins')\n",
    "\n",
    "plt.subplot(1, 2, 2)\n",
    "sns.barplot(\n",
    "    data = depleted_struct_count, x = 'struct', y = 'n_proteins',\n",
    "    order = depleted_struct_count['struct'][\n",
    "        enriched_struct_count['n_proteins'].sort_values(ascending=False).index\n",
    "    ]\n",
    ")\n",
    "plt.xlabel('Depleted secondary structure')\n",
    "plt.ylabel('N. proteins')\n",
    "\n",
    "plt.tight_layout()\n",
    "\n",
    "struct_descr"
   ]
  },
  {
   "cell_type": "code",
   "execution_count": 21,
   "id": "6c7ca4eb",
   "metadata": {},
   "outputs": [],
   "source": [
    "enriched_and_depleted_counts = pd.concat(\n",
    "    [enriched_struct_count.assign(set = 'enriched'),\n",
    "     depleted_struct_count.assign(n_proteins = -depleted_struct_count['n_proteins']).assign(set = 'depleted')],\n",
    "    ignore_index=True\n",
    ")"
   ]
  },
  {
   "cell_type": "code",
   "execution_count": 22,
   "id": "8e7c0609",
   "metadata": {},
   "outputs": [
    {
     "data": {
      "text/html": [
       "<div>\n",
       "<style scoped>\n",
       "    .dataframe tbody tr th:only-of-type {\n",
       "        vertical-align: middle;\n",
       "    }\n",
       "\n",
       "    .dataframe tbody tr th {\n",
       "        vertical-align: top;\n",
       "    }\n",
       "\n",
       "    .dataframe thead th {\n",
       "        text-align: right;\n",
       "    }\n",
       "</style>\n",
       "<table border=\"1\" class=\"dataframe\">\n",
       "  <thead>\n",
       "    <tr style=\"text-align: right;\">\n",
       "      <th></th>\n",
       "      <th>struct</th>\n",
       "      <th>n_proteins_enriched</th>\n",
       "      <th>n_proteins_depleted</th>\n",
       "    </tr>\n",
       "  </thead>\n",
       "  <tbody>\n",
       "    <tr>\n",
       "      <th>0</th>\n",
       "      <td>E</td>\n",
       "      <td>157</td>\n",
       "      <td>-3254</td>\n",
       "    </tr>\n",
       "    <tr>\n",
       "      <th>1</th>\n",
       "      <td>G</td>\n",
       "      <td>1336</td>\n",
       "      <td>-104</td>\n",
       "    </tr>\n",
       "    <tr>\n",
       "      <th>2</th>\n",
       "      <td>I</td>\n",
       "      <td>1425</td>\n",
       "      <td>0</td>\n",
       "    </tr>\n",
       "    <tr>\n",
       "      <th>3</th>\n",
       "      <td>S</td>\n",
       "      <td>1676</td>\n",
       "      <td>-315</td>\n",
       "    </tr>\n",
       "    <tr>\n",
       "      <th>4</th>\n",
       "      <td>T</td>\n",
       "      <td>505</td>\n",
       "      <td>-754</td>\n",
       "    </tr>\n",
       "    <tr>\n",
       "      <th>5</th>\n",
       "      <td>H</td>\n",
       "      <td>0</td>\n",
       "      <td>-8</td>\n",
       "    </tr>\n",
       "  </tbody>\n",
       "</table>\n",
       "</div>"
      ],
      "text/plain": [
       "  struct  n_proteins_enriched  n_proteins_depleted\n",
       "0      E                  157                -3254\n",
       "1      G                 1336                 -104\n",
       "2      I                 1425                    0\n",
       "3      S                 1676                 -315\n",
       "4      T                  505                 -754\n",
       "5      H                    0                   -8"
      ]
     },
     "execution_count": 22,
     "metadata": {},
     "output_type": "execute_result"
    }
   ],
   "source": [
    "enriched_and_depleted_counts = pd.merge(\n",
    "    enriched_struct_count,\n",
    "    depleted_struct_count,\n",
    "    on = 'struct',\n",
    "    suffixes=('_enriched', '_depleted'),\n",
    "    how = 'outer'\n",
    ").fillna(0)\n",
    "\n",
    "enriched_and_depleted_counts['n_proteins_enriched'] = enriched_and_depleted_counts['n_proteins_enriched'].astype('uint16')\n",
    "enriched_and_depleted_counts['n_proteins_depleted'] = -enriched_and_depleted_counts['n_proteins_depleted'].astype('int16')\n",
    "\n",
    "enriched_and_depleted_counts"
   ]
  },
  {
   "cell_type": "code",
   "execution_count": 50,
   "id": "f9cc4fcf",
   "metadata": {},
   "outputs": [
    {
     "data": {
      "image/png": "[encoded data removed]",
      "text/plain": [
       "<Figure size 600x600 with 1 Axes>"
      ]
     },
     "metadata": {
      "needs_background": "light"
     },
     "output_type": "display_data"
    }
   ],
   "source": [
    "plt.figure(dpi=100, figsize=(6, 6))\n",
    "\n",
    "palette = sns.color_palette('bwr')\n",
    "\n",
    "g_e = sns.barplot(\n",
    "    data = enriched_and_depleted_counts,\n",
    "    x = 'struct',\n",
    "    y = 'n_proteins_enriched',\n",
    "    color = palette[0],\n",
    "    order = list('SIGTEH'),\n",
    "    label = 'Enriched'\n",
    ")\n",
    "\n",
    "g_d = sns.barplot(\n",
    "    data = enriched_and_depleted_counts,\n",
    "    x = 'struct',\n",
    "    y = 'n_proteins_depleted',\n",
    "    color = palette[-1],\n",
    "    order = list('SIGTEH'),\n",
    "    label = 'Depleted'\n",
    ")\n",
    "\n",
    "# for container in g_e.containers:\n",
    "#     g_e.bar_label(container)\n",
    "    \n",
    "# for container in g_d.containers:\n",
    "#     g_d.bar_label(container)\n",
    "\n",
    "plt.legend()\n",
    "    \n",
    "plt.xlabel('Secondary structure')\n",
    "plt.ylabel('N. proteins')\n",
    "\n",
    "plt.annotate('0', xy=(0.92, -300), color=palette[-1], fontweight='bold')\n",
    "plt.annotate('8', xy=(4.92, -300), color=palette[-1], fontweight='bold')\n",
    "plt.annotate('0', xy=(4.92, 150),  color=palette[0], fontweight='bold')\n",
    "\n",
    "plt.savefig('signif_secondary_structure_counts.pdf')"
   ]
  },
  {
   "cell_type": "code",
   "execution_count": 24,
   "id": "5733bcab",
   "metadata": {},
   "outputs": [],
   "source": [
    "enriched_and_depleted_counts.to_csv('att_secondary_struct_enriched_and_depleted_counts.csv', index=False)"
   ]
  }
 ],
 "metadata": {
  "kernelspec": {
   "display_name": "DeepTranslation",
   "language": "python",
   "name": "deeptranslation"
  },
  "language_info": {
   "codemirror_mode": {
    "name": "ipython",
    "version": 3
   },
   "file_extension": ".py",
   "mimetype": "text/x-python",
   "name": "python",
   "nbconvert_exporter": "python",
   "pygments_lexer": "ipython3",
   "version": "3.8.6"
  },
  "toc": {
   "base_numbering": 1,
   "nav_menu": {},
   "number_sections": false,
   "sideBar": true,
   "skip_h1_title": false,
   "title_cell": "Table of Contents",
   "title_sidebar": "Contents",
   "toc_cell": false,
   "toc_position": {},
   "toc_section_display": true,
   "toc_window_display": false
  }
 },
 "nbformat": 4,
 "nbformat_minor": 5
}
