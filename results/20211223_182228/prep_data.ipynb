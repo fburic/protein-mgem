{
 "cells": [
  {
   "cell_type": "code",
   "execution_count": 1,
   "id": "ca6d6718",
   "metadata": {},
   "outputs": [],
   "source": [
    "import random\n",
    "\n",
    "from Bio.Seq import Seq\n",
    "from Bio.SeqRecord import SeqRecord\n",
    "from Bio import SeqIO\n",
    "import numpy as np\n",
    "import pandas as pd\n",
    "\n",
    "from scripts.general import preprocess"
   ]
  },
  {
   "cell_type": "markdown",
   "id": "70633bef",
   "metadata": {},
   "source": [
    "### Load augmented abundaces "
   ]
  },
  {
   "cell_type": "code",
   "execution_count": 2,
   "id": "b7faf752",
   "metadata": {},
   "outputs": [],
   "source": [
    "aug_abund = pd.read_csv('../20211223_105853/data/abundance.csv')"
   ]
  },
  {
   "cell_type": "markdown",
   "id": "967442f4",
   "metadata": {},
   "source": [
    "### Add counter-examples to the protein sequences\n",
    "\n",
    "Same number of counter-examples as number of experiments for a protein"
   ]
  },
  {
   "cell_type": "code",
   "execution_count": 3,
   "id": "6028e7fe",
   "metadata": {},
   "outputs": [],
   "source": [
    "counterexample_counts = aug_abund.groupby('swissprot_ac')['experiment'].count().reset_index()\n",
    "counterexample_counts = dict(counterexample_counts.values)"
   ]
  },
  {
   "cell_type": "code",
   "execution_count": 4,
   "id": "1b33fc07",
   "metadata": {},
   "outputs": [],
   "source": [
    "random.seed(42)\n",
    "\n",
    "seq = preprocess.fasta_to_seq_df(\n",
    "    '../../data/seq/scerevisiae_aminoacid_uniprot_20200120_seqlen_100_to_1000.fasta'\n",
    ")\n",
    "\n",
    "seq = seq[seq['swissprot_ac'].isin(aug_abund['swissprot_ac'].values)]"
   ]
  },
  {
   "cell_type": "code",
   "execution_count": 5,
   "id": "f2b10f8d",
   "metadata": {},
   "outputs": [],
   "source": [
    "def generate_shuffles(prot_id:str, seq: str) -> pd.DataFrame:\n",
    "    n_rands = range(counterexample_counts[prot_id])\n",
    "    shuffled_seq = [''.join(random.sample(seq, k=len(seq))) for _ in n_rands]\n",
    "    \n",
    "    return pd.DataFrame.from_records(\n",
    "        zip([prot_id] + [f'{prot_id}_shuffled_{i}' for i in n_rands],\n",
    "            [seq] + shuffled_seq),\n",
    "        columns=['swissprot_ac', 'seq']\n",
    "    )    \n",
    "\n",
    "seq_and_counters = pd.concat(\n",
    "    seq.apply(lambda row: generate_shuffles(row['swissprot_ac'], row['seq']),\n",
    "              axis='columns').values,\n",
    "    ignore_index=True\n",
    ")"
   ]
  },
  {
   "cell_type": "markdown",
   "id": "df0b1874",
   "metadata": {},
   "source": [
    "### Set zeroe abundance for counter-examples"
   ]
  },
  {
   "cell_type": "code",
   "execution_count": 6,
   "id": "28d3150d",
   "metadata": {},
   "outputs": [],
   "source": [
    "aug_abund = (\n",
    "    pd.merge(aug_abund, seq_and_counters['swissprot_ac'], how='outer')\n",
    "    .fillna(1e-5)\n",
    ")"
   ]
  },
  {
   "cell_type": "code",
   "execution_count": 7,
   "id": "b3c44bdf",
   "metadata": {},
   "outputs": [
    {
     "data": {
      "text/html": [
       "<div>\n",
       "<style scoped>\n",
       "    .dataframe tbody tr th:only-of-type {\n",
       "        vertical-align: middle;\n",
       "    }\n",
       "\n",
       "    .dataframe tbody tr th {\n",
       "        vertical-align: top;\n",
       "    }\n",
       "\n",
       "    .dataframe thead th {\n",
       "        text-align: right;\n",
       "    }\n",
       "</style>\n",
       "<table border=\"1\" class=\"dataframe\">\n",
       "  <thead>\n",
       "    <tr style=\"text-align: right;\">\n",
       "      <th></th>\n",
       "      <th>Systematic_Name</th>\n",
       "      <th>swissprot_ac</th>\n",
       "      <th>experiment</th>\n",
       "      <th>Median_molecules_per_cell</th>\n",
       "    </tr>\n",
       "  </thead>\n",
       "  <tbody>\n",
       "    <tr>\n",
       "      <th>101409</th>\n",
       "      <td>0.00001</td>\n",
       "      <td>P43574_shuffled_5</td>\n",
       "      <td>0.00001</td>\n",
       "      <td>0.00001</td>\n",
       "    </tr>\n",
       "    <tr>\n",
       "      <th>101410</th>\n",
       "      <td>0.00001</td>\n",
       "      <td>P43574_shuffled_6</td>\n",
       "      <td>0.00001</td>\n",
       "      <td>0.00001</td>\n",
       "    </tr>\n",
       "    <tr>\n",
       "      <th>101411</th>\n",
       "      <td>0.00001</td>\n",
       "      <td>P43574_shuffled_7</td>\n",
       "      <td>0.00001</td>\n",
       "      <td>0.00001</td>\n",
       "    </tr>\n",
       "    <tr>\n",
       "      <th>101412</th>\n",
       "      <td>0.00001</td>\n",
       "      <td>P43574_shuffled_8</td>\n",
       "      <td>0.00001</td>\n",
       "      <td>0.00001</td>\n",
       "    </tr>\n",
       "    <tr>\n",
       "      <th>101413</th>\n",
       "      <td>0.00001</td>\n",
       "      <td>P43574_shuffled_9</td>\n",
       "      <td>0.00001</td>\n",
       "      <td>0.00001</td>\n",
       "    </tr>\n",
       "  </tbody>\n",
       "</table>\n",
       "</div>"
      ],
      "text/plain": [
       "       Systematic_Name       swissprot_ac experiment  \\\n",
       "101409         0.00001  P43574_shuffled_5    0.00001   \n",
       "101410         0.00001  P43574_shuffled_6    0.00001   \n",
       "101411         0.00001  P43574_shuffled_7    0.00001   \n",
       "101412         0.00001  P43574_shuffled_8    0.00001   \n",
       "101413         0.00001  P43574_shuffled_9    0.00001   \n",
       "\n",
       "        Median_molecules_per_cell  \n",
       "101409                    0.00001  \n",
       "101410                    0.00001  \n",
       "101411                    0.00001  \n",
       "101412                    0.00001  \n",
       "101413                    0.00001  "
      ]
     },
     "execution_count": 7,
     "metadata": {},
     "output_type": "execute_result"
    }
   ],
   "source": [
    "aug_abund.tail()"
   ]
  },
  {
   "cell_type": "markdown",
   "id": "f86d5111",
   "metadata": {},
   "source": [
    "### Write files"
   ]
  },
  {
   "cell_type": "code",
   "execution_count": 8,
   "id": "b7e2d76a",
   "metadata": {},
   "outputs": [
    {
     "name": "stdout",
     "output_type": "stream",
     "text": [
      "data_root: '~/projects/DeepTranslation'\r\n",
      "protein_sequence: 'results/20211223_182228/data/augmented_sequences_with_counterexamples.fasta'\r\n",
      "protein_abundance: 'results/20211223_182228/data/augmented_abundance_with_counterexamples.csv'\r\n"
     ]
    }
   ],
   "source": [
    "! cat data/config.yaml"
   ]
  },
  {
   "cell_type": "code",
   "execution_count": 9,
   "id": "765ce057",
   "metadata": {},
   "outputs": [],
   "source": [
    "def write_df_to_fasta(seq_df: pd.DataFrame, id_col: str, seq_col, fasta_fname: str):\n",
    "    fasta_records = []\n",
    "    for _, entry in seq_df.iterrows():\n",
    "        rec = SeqRecord(id = entry[id_col], seq = Seq(entry[seq_col]), description = '')\n",
    "        fasta_records.append(rec)\n",
    "\n",
    "    with open(fasta_fname, 'w') as fout:\n",
    "        SeqIO.write(fasta_records, fout, 'fasta')\n",
    "\n",
    "seq_and_counters['swissprot_ac'] = seq_and_counters['swissprot_ac'].map(\n",
    "    lambda prot_id: f'sp|{prot_id}|seq_and_counters'\n",
    ")\n",
    "write_df_to_fasta(seq_and_counters, id_col='swissprot_ac', seq_col='seq',\n",
    "                  fasta_fname='data/augmented_sequences_with_counterexamples.fasta')\n",
    "\n",
    "aug_abund.to_csv('data/augmented_abundance_with_counterexamples.csv', index=False)"
   ]
  },
  {
   "cell_type": "markdown",
   "id": "7562d601",
   "metadata": {},
   "source": [
    "## Test preprocessing"
   ]
  },
  {
   "cell_type": "code",
   "execution_count": 10,
   "id": "b144e6f1",
   "metadata": {},
   "outputs": [],
   "source": [
    "import os\n",
    "from pathlib import Path\n",
    "import yaml\n",
    "\n",
    "from scripts.general import preprocess\n",
    "\n",
    "def prepare_data(data_path: str) -> tuple:\n",
    "    with (Path(data_path) / 'config.yaml').open('r') as config_file:\n",
    "        config = yaml.load(config_file, Loader=yaml.FullLoader)\n",
    "    data_root = os.path.expanduser(config['data_root'])\n",
    "    fasta_fname = Path(data_root) / config['protein_sequence']\n",
    "    abundances_fname = Path(data_root) / config['protein_abundance']\n",
    "    seq_and_abundances = pd.merge(preprocess.fasta_to_seq_df(fasta_fname),\n",
    "                                  pd.read_csv(abundances_fname),\n",
    "                                  on='swissprot_ac')\n",
    "#     seq_and_abundances = seq_and_abundances[['seq', 'Median_molecules_per_cell']]\n",
    "    return seq_and_abundances\n",
    "\n",
    "input_data = prepare_data('data')"
   ]
  },
  {
   "cell_type": "code",
   "execution_count": 11,
   "id": "458d4b03",
   "metadata": {},
   "outputs": [
    {
     "data": {
      "text/html": [
       "<div>\n",
       "<style scoped>\n",
       "    .dataframe tbody tr th:only-of-type {\n",
       "        vertical-align: middle;\n",
       "    }\n",
       "\n",
       "    .dataframe tbody tr th {\n",
       "        vertical-align: top;\n",
       "    }\n",
       "\n",
       "    .dataframe thead th {\n",
       "        text-align: right;\n",
       "    }\n",
       "</style>\n",
       "<table border=\"1\" class=\"dataframe\">\n",
       "  <thead>\n",
       "    <tr style=\"text-align: right;\">\n",
       "      <th></th>\n",
       "      <th>swissprot_ac</th>\n",
       "      <th>seq</th>\n",
       "      <th>Systematic_Name</th>\n",
       "      <th>experiment</th>\n",
       "      <th>Median_molecules_per_cell</th>\n",
       "    </tr>\n",
       "  </thead>\n",
       "  <tbody>\n",
       "    <tr>\n",
       "      <th>12474</th>\n",
       "      <td>D6VTK4</td>\n",
       "      <td>MSDAAPSLSNLFYDPTYNPGQSTINYTSIYGNGSTITFDELQGLVN...</td>\n",
       "      <td>YFL026W</td>\n",
       "      <td>CHO</td>\n",
       "      <td>9858.00000</td>\n",
       "    </tr>\n",
       "    <tr>\n",
       "      <th>12472</th>\n",
       "      <td>D6VTK4</td>\n",
       "      <td>MSDAAPSLSNLFYDPTYNPGQSTINYTSIYGNGSTITFDELQGLVN...</td>\n",
       "      <td>YFL026W</td>\n",
       "      <td>BRE</td>\n",
       "      <td>6538.00000</td>\n",
       "    </tr>\n",
       "    <tr>\n",
       "      <th>12473</th>\n",
       "      <td>D6VTK4</td>\n",
       "      <td>MSDAAPSLSNLFYDPTYNPGQSTINYTSIYGNGSTITFDELQGLVN...</td>\n",
       "      <td>YFL026W</td>\n",
       "      <td>MAZ</td>\n",
       "      <td>3069.00000</td>\n",
       "    </tr>\n",
       "    <tr>\n",
       "      <th>12469</th>\n",
       "      <td>D6VTK4</td>\n",
       "      <td>MSDAAPSLSNLFYDPTYNPGQSTINYTSIYGNGSTITFDELQGLVN...</td>\n",
       "      <td>YFL026W</td>\n",
       "      <td>LEE2</td>\n",
       "      <td>6367.00000</td>\n",
       "    </tr>\n",
       "    <tr>\n",
       "      <th>12475</th>\n",
       "      <td>D6VTK4</td>\n",
       "      <td>MSDAAPSLSNLFYDPTYNPGQSTINYTSIYGNGSTITFDELQGLVN...</td>\n",
       "      <td>YFL026W</td>\n",
       "      <td>NEW</td>\n",
       "      <td>13952.00000</td>\n",
       "    </tr>\n",
       "    <tr>\n",
       "      <th>...</th>\n",
       "      <td>...</td>\n",
       "      <td>...</td>\n",
       "      <td>...</td>\n",
       "      <td>...</td>\n",
       "      <td>...</td>\n",
       "    </tr>\n",
       "    <tr>\n",
       "      <th>55897</th>\n",
       "      <td>Q9URQ3_shuffled_3</td>\n",
       "      <td>ILLKDLGREKVYMLTTPVVWQSWIELMRWDDKQVLINKVVGVNIAV...</td>\n",
       "      <td>1e-05</td>\n",
       "      <td>1e-05</td>\n",
       "      <td>0.00001</td>\n",
       "    </tr>\n",
       "    <tr>\n",
       "      <th>55898</th>\n",
       "      <td>Q9URQ3_shuffled_4</td>\n",
       "      <td>KRPSVSELDNKVPDNWMSIPKVRSGWNRNECSLKSPNPCDEDSMKA...</td>\n",
       "      <td>1e-05</td>\n",
       "      <td>1e-05</td>\n",
       "      <td>0.00001</td>\n",
       "    </tr>\n",
       "    <tr>\n",
       "      <th>55899</th>\n",
       "      <td>Q9URQ3_shuffled_5</td>\n",
       "      <td>LFSCSFGVLIGIKADSDLYIDVEEDKVCDLVWQPRLPNLADNLESE...</td>\n",
       "      <td>1e-05</td>\n",
       "      <td>1e-05</td>\n",
       "      <td>0.00001</td>\n",
       "    </tr>\n",
       "    <tr>\n",
       "      <th>73748</th>\n",
       "      <td>Q9ZZW7</td>\n",
       "      <td>MAFRKSNVYLSLVNSYIIDSPQPSSINYWWNMGSLLGLCLVIQIVT...</td>\n",
       "      <td>Q0115</td>\n",
       "      <td>PENG</td>\n",
       "      <td>183.00000</td>\n",
       "    </tr>\n",
       "    <tr>\n",
       "      <th>73749</th>\n",
       "      <td>Q9ZZW7_shuffled_0</td>\n",
       "      <td>YKPSKNWQMKELSDIWKNIIQTNEIRIITFIVMIKSNFDSIKSLLV...</td>\n",
       "      <td>1e-05</td>\n",
       "      <td>1e-05</td>\n",
       "      <td>0.00001</td>\n",
       "    </tr>\n",
       "  </tbody>\n",
       "</table>\n",
       "<p>94776 rows × 5 columns</p>\n",
       "</div>"
      ],
      "text/plain": [
       "            swissprot_ac                                                seq  \\\n",
       "12474             D6VTK4  MSDAAPSLSNLFYDPTYNPGQSTINYTSIYGNGSTITFDELQGLVN...   \n",
       "12472             D6VTK4  MSDAAPSLSNLFYDPTYNPGQSTINYTSIYGNGSTITFDELQGLVN...   \n",
       "12473             D6VTK4  MSDAAPSLSNLFYDPTYNPGQSTINYTSIYGNGSTITFDELQGLVN...   \n",
       "12469             D6VTK4  MSDAAPSLSNLFYDPTYNPGQSTINYTSIYGNGSTITFDELQGLVN...   \n",
       "12475             D6VTK4  MSDAAPSLSNLFYDPTYNPGQSTINYTSIYGNGSTITFDELQGLVN...   \n",
       "...                  ...                                                ...   \n",
       "55897  Q9URQ3_shuffled_3  ILLKDLGREKVYMLTTPVVWQSWIELMRWDDKQVLINKVVGVNIAV...   \n",
       "55898  Q9URQ3_shuffled_4  KRPSVSELDNKVPDNWMSIPKVRSGWNRNECSLKSPNPCDEDSMKA...   \n",
       "55899  Q9URQ3_shuffled_5  LFSCSFGVLIGIKADSDLYIDVEEDKVCDLVWQPRLPNLADNLESE...   \n",
       "73748             Q9ZZW7  MAFRKSNVYLSLVNSYIIDSPQPSSINYWWNMGSLLGLCLVIQIVT...   \n",
       "73749  Q9ZZW7_shuffled_0  YKPSKNWQMKELSDIWKNIIQTNEIRIITFIVMIKSNFDSIKSLLV...   \n",
       "\n",
       "      Systematic_Name experiment  Median_molecules_per_cell  \n",
       "12474         YFL026W        CHO                 9858.00000  \n",
       "12472         YFL026W        BRE                 6538.00000  \n",
       "12473         YFL026W        MAZ                 3069.00000  \n",
       "12469         YFL026W       LEE2                 6367.00000  \n",
       "12475         YFL026W        NEW                13952.00000  \n",
       "...               ...        ...                        ...  \n",
       "55897           1e-05      1e-05                    0.00001  \n",
       "55898           1e-05      1e-05                    0.00001  \n",
       "55899           1e-05      1e-05                    0.00001  \n",
       "73748           Q0115       PENG                  183.00000  \n",
       "73749           1e-05      1e-05                    0.00001  \n",
       "\n",
       "[94776 rows x 5 columns]"
      ]
     },
     "execution_count": 11,
     "metadata": {},
     "output_type": "execute_result"
    }
   ],
   "source": [
    "input_data.sort_values('swissprot_ac')"
   ]
  },
  {
   "cell_type": "code",
   "execution_count": null,
   "id": "45705955",
   "metadata": {},
   "outputs": [],
   "source": []
  }
 ],
 "metadata": {
  "kernelspec": {
   "display_name": "DeepTranslation",
   "language": "python",
   "name": "deeptranslation"
  },
  "language_info": {
   "codemirror_mode": {
    "name": "ipython",
    "version": 3
   },
   "file_extension": ".py",
   "mimetype": "text/x-python",
   "name": "python",
   "nbconvert_exporter": "python",
   "pygments_lexer": "ipython3",
   "version": "3.8.6"
  }
 },
 "nbformat": 4,
 "nbformat_minor": 5
}
