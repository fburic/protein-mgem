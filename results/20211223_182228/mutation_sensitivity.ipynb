{
 "cells": [
  {
   "cell_type": "code",
   "execution_count": 1,
   "id": "d79363d8",
   "metadata": {},
   "outputs": [],
   "source": [
    "from pathlib import Path\n",
    "import yaml\n",
    "\n",
    "import h5py\n",
    "import Levenshtein\n",
    "from multiprocessing import cpu_count\n",
    "import numexpr\n",
    "import numpy as np\n",
    "from numpy.random import default_rng\n",
    "import pandas as pd\n",
    "from scipy.spatial.distance import cdist\n",
    "\n",
    "import seaborn as sns\n",
    "import matplotlib.pyplot as plt\n",
    "from tqdm import tqdm\n",
    "\n",
    "from scripts.general import analysis, data\n",
    "\n",
    "tqdm.pandas(desc='Pandas op')\n",
    "MAX_PROC = cpu_count() - 2\n",
    "numexpr.set_num_threads(MAX_PROC)\n",
    "\n",
    "_default_rc_params = plt.rcParams.copy()\n",
    "plt.rcParams['font.size'] = 14\n",
    "\n",
    "\n",
    "%load_ext autoreload\n",
    "%autoreload 2"
   ]
  },
  {
   "cell_type": "code",
   "execution_count": 2,
   "id": "32b10ea4",
   "metadata": {},
   "outputs": [],
   "source": [
    "with open('experiment_config.yaml', 'r') as config_file:\n",
    "    config = yaml.load(config_file, Loader=yaml.FullLoader)\n",
    "    \n",
    "seq_data = data.load_seq_and_abundance_data(config)[\n",
    "    ['swissprot_ac', 'Median_molecules_per_cell']\n",
    "]"
   ]
  },
  {
   "cell_type": "code",
   "execution_count": 3,
   "id": "09454498",
   "metadata": {},
   "outputs": [],
   "source": [
    "def get_guides(experiment_config: dict, n=10) -> dict:\n",
    "    seq_and_abundances = data.load_seq_and_abundance_data(experiment_config)\n",
    "    seq_and_abundances = seq_and_abundances.sort_values('Median_molecules_per_cell').tail(n)\n",
    "    return seq_and_abundances[['swissprot_ac', 'seq', 'Median_molecules_per_cell']].reset_index(drop=True)"
   ]
  },
  {
   "cell_type": "markdown",
   "id": "cee5e85d",
   "metadata": {},
   "source": [
    "## Mutations over shrinking guide set"
   ]
  },
  {
   "cell_type": "code",
   "execution_count": 4,
   "id": "9e2b447d",
   "metadata": {},
   "outputs": [
    {
     "name": "stderr",
     "output_type": "stream",
     "text": [
      "[2022-04-01 16:41:34] [PID 30991] INFO:\tmodeling_utils.py:from_pretrained():166:\tloading configuration file bert/learn_abundance_transformer_parallel_22-01-14-10-36-57_027418/config.json\n",
      "[2022-04-01 16:41:34] [PID 30991] INFO:\tmodeling_utils.py:from_pretrained():183:\tModel config {\n",
      "  \"attention_probs_dropout_prob\": 0.0,\n",
      "  \"batch_size\": 32,\n",
      "  \"finetuning_task\": null,\n",
      "  \"gradient_accumulation_steps\": 16,\n",
      "  \"hidden_act\": \"relu\",\n",
      "  \"hidden_dropout_prob\": 0.0,\n",
      "  \"hidden_size\": 1024,\n",
      "  \"initializer_range\": 0.02,\n",
      "  \"intermediate_size\": 3072,\n",
      "  \"layer_norm_eps\": 1e-12,\n",
      "  \"learning_rate\": 2.5681310045153124e-07,\n",
      "  \"max_position_embeddings\": 1024,\n",
      "  \"num_attention_heads\": 4,\n",
      "  \"num_hidden_layers\": 8,\n",
      "  \"num_labels\": -1,\n",
      "  \"num_train_epochs\": 500,\n",
      "  \"output_attentions\": true,\n",
      "  \"output_hidden_states\": false,\n",
      "  \"patience\": 50,\n",
      "  \"torchscript\": false,\n",
      "  \"type_vocab_size\": 2,\n",
      "  \"vocab_size\": 30\n",
      "}\n",
      "\n",
      "[2022-04-01 16:41:34] [PID 30991] INFO:\tmodeling_utils.py:from_pretrained():514:\tloading weights file bert/learn_abundance_transformer_parallel_22-01-14-10-36-57_027418/pytorch_model.bin\n",
      "[2022-04-01 16:41:37] [PID 30991] INFO:\tanalysis.py:get_most_important_head():256:\tMost important top attention head in terms of weights: 3\n",
      "[2022-04-01 16:41:37] [PID 30991] INFO:\tdata.py:load_sequences_that_have_abundance():45:\tLoaded sequences that have abundance\n",
      "Guide set:   0%|          | 0/9 [00:00<?, ?it/s]/home/fburic/projects/DeepTranslation/scripts/general/analysis.py:188: UserWarning: Creating a tensor from a list of numpy.ndarrays is extremely slow. Please consider converting the list to a single numpy.ndarray with numpy.array() before converting to a tensor. (Triggered internally at  /opt/conda/conda-bld/pytorch_1639180588308/work/torch/csrc/utils/tensor_new.cpp:201.)\n",
      "  seq_encoded = torch.tensor([self.tokenizer.encode(seq)])\n",
      "Guide set: 100%|██████████| 9/9 [01:48<00:00, 12.03s/it]\n"
     ]
    }
   ],
   "source": [
    "from scripts import informed_mutation\n",
    "\n",
    "\n",
    "model_eval = analysis.ModelEvaluator(config)\n",
    "sequences = data.load_sequences_that_have_abundance(config)\n",
    "guides = get_guides(config, n = 10)\n",
    "\n",
    "\n",
    "seq_ordering = {}\n",
    "with h5py.File(config['files']['saved_seq_orderings'], 'r') as store:\n",
    "    for prot_id in store.keys():\n",
    "        seq_ordering[prot_id] = np.array(store[prot_id], dtype=np.float32)\n",
    "\n",
    "\n",
    "ordering_increase = informed_mutation.get_width_of_majority_ordering_range(seq_ordering)\n",
    "\n",
    "rng = default_rng(seed=42)\n",
    "sequence_entries = rng.choice(list(sequences.items()), size=100)\n",
    "\n",
    "\n",
    "mutation_results = []\n",
    "guide_selections = []\n",
    "\n",
    "for i in tqdm(range(9), desc='Guide set'):\n",
    "    higher_abundance_sequences = dict(guides[['swissprot_ac', 'seq']].values)\n",
    "    guide_seq_orderings = {prot_id: seq_ordering[prot_id]\n",
    "                           for prot_id in higher_abundance_sequences.keys()}\n",
    "    \n",
    "    for id_wt, seq_wt in sequence_entries:\n",
    "        n_res_mut = informed_mutation.parse_num_res_spec('20%', seq_wt)\n",
    "        pred_wt = model_eval.predict(seq_wt, inverse_boxcox=True)\n",
    "        \n",
    "        ## get_max_mutation_using_guides() ################\n",
    "        mut_positions = np.argsort(seq_ordering[id_wt])[:n_res_mut]\n",
    "\n",
    "        max_set_mut = ''\n",
    "        max_pred_mut = -np.inf\n",
    "        max_id_guide = ''\n",
    "        for id_guide, ordering_guide in guide_seq_orderings.items():\n",
    "            \n",
    "            ## get_mutated_sequence() #############\n",
    "            seq_mut = list(seq_wt)\n",
    "            embedded_ordering_guide = ordering_guide.reshape(-1, 1)\n",
    "            for mut_pos in mut_positions:\n",
    "                # Avoid mutating leading M\n",
    "                if mut_pos == 0:\n",
    "                    mut_pos += 1\n",
    "                dist_to_guide = cdist(\n",
    "                    seq_ordering[id_wt][mut_pos].reshape(-1, 1) + ordering_increase,\n",
    "                    embedded_ordering_guide\n",
    "                )\n",
    "                closest_idx = np.argmin(dist_to_guide)\n",
    "                seq_mut[mut_pos] = list(sequences[id_guide])[closest_idx]\n",
    "                \n",
    "                guide_selections.append(\n",
    "                    (id_guide, closest_idx, list(sequences[id_guide])[closest_idx])\n",
    "                )\n",
    "                \n",
    "            seq_mut = ''.join(seq_mut)\n",
    "            #######################################\n",
    "            \n",
    "            pred_mut = model_eval.predict(seq_mut, inverse_boxcox=True)\n",
    "            if pred_mut > max_pred_mut:\n",
    "                max_pred_mut = pred_mut\n",
    "                max_set_mut = seq_mut\n",
    "                max_id_guide = id_guide\n",
    "\n",
    "        seq_mut, pred_mut = max_set_mut, max_pred_mut\n",
    "        ####################################################\n",
    "        \n",
    "        mutation_results.append(\n",
    "            (10 - i, id_wt, seq_wt, seq_mut, pred_wt, pred_mut, max_id_guide)\n",
    "        )\n",
    "    \n",
    "    guides = guides.tail(guides.shape[0] - 1)\n",
    "    \n",
    "mutation_results_df = pd.DataFrame(\n",
    "    mutation_results,\n",
    "    columns=['n_guides', 'swissprot_ac', 'seq_wt', 'seq_mut', 'pred_wt', 'pred_mut', 'guide_id']\n",
    ")\n",
    "\n",
    "guide_selections_df = pd.DataFrame.from_records(\n",
    "    guide_selections,\n",
    "    columns=['guide_id', 'closest_idx', 'guide_AA']\n",
    ")"
   ]
  },
  {
   "cell_type": "code",
   "execution_count": 5,
   "id": "9e8e4d39",
   "metadata": {},
   "outputs": [
    {
     "name": "stderr",
     "output_type": "stream",
     "text": [
      "Pandas op: 100%|██████████| 900/900 [00:00<00:00, 1206.30it/s]\n"
     ]
    }
   ],
   "source": [
    "def get_diffs(seq_wt:str, seq_mut:str):\n",
    "    diffs = []\n",
    "    for i in range(len(seq_wt)):\n",
    "        if seq_wt[i] != seq_mut[i]:\n",
    "            diffs.append((i + 1, seq_wt[i], seq_mut[i], len(seq_wt)))\n",
    "    return pd.DataFrame.from_records(diffs, columns = ['pos', 'aa_wt', 'aa_mut', 'seq_len'])\n",
    "\n",
    "\n",
    "substitutions = pd.concat(\n",
    "    mutation_results_df\n",
    "    .progress_apply(\n",
    "        lambda row: get_diffs(row['seq_wt'], row['seq_mut']).assign(swissprot_ac = row['swissprot_ac'],\n",
    "                                                                    n_guides = row['n_guides']),\n",
    "        axis = 'columns'\n",
    "    ).values,\n",
    "    ignore_index=True\n",
    ")\n",
    "\n",
    "substitutions = substitutions.assign(pos_norm = substitutions['pos'] / substitutions['seq_len'])\n",
    "substitutions = substitutions.assign(pos_bin = pd.qcut(substitutions['pos_norm'], q = 100, labels=range(1, 101)))\n",
    "\n",
    "substitutions['pos'] = substitutions['pos'].astype('uint16')\n",
    "substitutions['seq_len'] = substitutions['seq_len'].astype('uint16')\n",
    "substitutions['pos_norm'] = substitutions['pos_norm'].astype('float32')\n",
    "substitutions['pos_bin'] = substitutions['pos_bin'].astype('uint8')\n",
    "substitutions['n_guides'] = substitutions['n_guides'].astype('uint8')"
   ]
  },
  {
   "cell_type": "code",
   "execution_count": 26,
   "id": "d117cd9e",
   "metadata": {},
   "outputs": [
    {
     "data": {
      "text/html": [
       "<div>\n",
       "<style scoped>\n",
       "    .dataframe tbody tr th:only-of-type {\n",
       "        vertical-align: middle;\n",
       "    }\n",
       "\n",
       "    .dataframe tbody tr th {\n",
       "        vertical-align: top;\n",
       "    }\n",
       "\n",
       "    .dataframe thead th {\n",
       "        text-align: right;\n",
       "    }\n",
       "</style>\n",
       "<table border=\"1\" class=\"dataframe\">\n",
       "  <thead>\n",
       "    <tr style=\"text-align: right;\">\n",
       "      <th></th>\n",
       "      <th>pos</th>\n",
       "      <th>aa_wt</th>\n",
       "      <th>aa_mut</th>\n",
       "      <th>seq_len</th>\n",
       "      <th>swissprot_ac</th>\n",
       "      <th>n_guides</th>\n",
       "      <th>pos_norm</th>\n",
       "      <th>pos_bin</th>\n",
       "    </tr>\n",
       "  </thead>\n",
       "  <tbody>\n",
       "    <tr>\n",
       "      <th>0</th>\n",
       "      <td>16</td>\n",
       "      <td>L</td>\n",
       "      <td>A</td>\n",
       "      <td>638</td>\n",
       "      <td>Q07442</td>\n",
       "      <td>10</td>\n",
       "      <td>0.025078</td>\n",
       "      <td>3</td>\n",
       "    </tr>\n",
       "    <tr>\n",
       "      <th>1</th>\n",
       "      <td>20</td>\n",
       "      <td>Q</td>\n",
       "      <td>A</td>\n",
       "      <td>638</td>\n",
       "      <td>Q07442</td>\n",
       "      <td>10</td>\n",
       "      <td>0.031348</td>\n",
       "      <td>3</td>\n",
       "    </tr>\n",
       "  </tbody>\n",
       "</table>\n",
       "</div>"
      ],
      "text/plain": [
       "   pos aa_wt aa_mut  seq_len swissprot_ac  n_guides  pos_norm  pos_bin\n",
       "0   16     L      A      638       Q07442        10  0.025078        3\n",
       "1   20     Q      A      638       Q07442        10  0.031348        3"
      ]
     },
     "execution_count": 26,
     "metadata": {},
     "output_type": "execute_result"
    }
   ],
   "source": [
    "substitutions.head(2)"
   ]
  },
  {
   "cell_type": "code",
   "execution_count": 7,
   "id": "59d8ed0b",
   "metadata": {},
   "outputs": [
    {
     "data": {
      "text/plain": [
       "Text(0.5, 0, 'N. guide sequences')"
      ]
     },
     "execution_count": 7,
     "metadata": {},
     "output_type": "execute_result"
    },
    {
     "data": {
      "image/png": "[encoded data removed]",
      "text/plain": [
       "<Figure size 600x400 with 1 Axes>"
      ]
     },
     "metadata": {
      "needs_background": "light"
     },
     "output_type": "display_data"
    }
   ],
   "source": [
    "plt.figure(dpi=100, figsize=(6, 4))\n",
    "\n",
    "replacement_counts = (\n",
    "    substitutions\n",
    "#     .query('pos_norm <= 0.2')\n",
    "    .groupby(['n_guides', 'aa_mut'])['aa_wt'].count()\n",
    "    .rename('count').reset_index()\n",
    ")\n",
    "\n",
    "replacement_counts = replacement_counts.groupby('n_guides').apply(\n",
    "    lambda grp_df: grp_df.assign(fract = grp_df['count'] / grp_df['count'].sum())\n",
    ")\n",
    "\n",
    "g = sns.lineplot(\n",
    "    data = replacement_counts,\n",
    "    x = 'n_guides', y = 'fract',\n",
    "    palette = 'tab20',\n",
    "    hue = 'aa_mut'\n",
    ")\n",
    "\n",
    "sns.move_legend(g, 'upper right', bbox_to_anchor=(1.35, 1), fontsize = 10, ncol = 2)\n",
    "\n",
    "plt.xlabel('N. guide sequences')"
   ]
  },
  {
   "cell_type": "markdown",
   "id": "6985f700",
   "metadata": {},
   "source": [
    "## Substitute choices"
   ]
  },
  {
   "cell_type": "code",
   "execution_count": 28,
   "id": "05ecd233",
   "metadata": {},
   "outputs": [],
   "source": [
    "chosen_guide_ids = set(mutation_results_df['guide_id'].values)\n",
    "\n",
    "guide_selections_df = guide_selections_df.assign(\n",
    "    chosen = guide_selections_df['guide_id'].map(lambda prot_id: prot_id in chosen_guide_ids)\n",
    ")"
   ]
  },
  {
   "cell_type": "code",
   "execution_count": 29,
   "id": "01b123fd",
   "metadata": {},
   "outputs": [
    {
     "data": {
      "text/html": [
       "<div>\n",
       "<style scoped>\n",
       "    .dataframe tbody tr th:only-of-type {\n",
       "        vertical-align: middle;\n",
       "    }\n",
       "\n",
       "    .dataframe tbody tr th {\n",
       "        vertical-align: top;\n",
       "    }\n",
       "\n",
       "    .dataframe thead th {\n",
       "        text-align: right;\n",
       "    }\n",
       "</style>\n",
       "<table border=\"1\" class=\"dataframe\">\n",
       "  <thead>\n",
       "    <tr style=\"text-align: right;\">\n",
       "      <th></th>\n",
       "      <th>guide_id</th>\n",
       "      <th>closest_idx</th>\n",
       "      <th>guide_AA</th>\n",
       "      <th>chosen</th>\n",
       "    </tr>\n",
       "  </thead>\n",
       "  <tbody>\n",
       "    <tr>\n",
       "      <th>0</th>\n",
       "      <td>P10592</td>\n",
       "      <td>310</td>\n",
       "      <td>L</td>\n",
       "      <td>False</td>\n",
       "    </tr>\n",
       "    <tr>\n",
       "      <th>1</th>\n",
       "      <td>P10592</td>\n",
       "      <td>613</td>\n",
       "      <td>G</td>\n",
       "      <td>False</td>\n",
       "    </tr>\n",
       "  </tbody>\n",
       "</table>\n",
       "</div>"
      ],
      "text/plain": [
       "  guide_id  closest_idx guide_AA  chosen\n",
       "0   P10592          310        L   False\n",
       "1   P10592          613        G   False"
      ]
     },
     "execution_count": 29,
     "metadata": {},
     "output_type": "execute_result"
    }
   ],
   "source": [
    "guide_selections_df.head(2)"
   ]
  },
  {
   "cell_type": "code",
   "execution_count": 42,
   "id": "ac608d57",
   "metadata": {},
   "outputs": [],
   "source": [
    "guide_selections_count = (\n",
    "    guide_selections_df\n",
    "    .groupby(['chosen', 'guide_AA'])['guide_AA'].count()\n",
    "    .rename('count').reset_index()\n",
    ")\n",
    "\n",
    "guide_selections_count = guide_selections_count.groupby('chosen').apply(\n",
    "    lambda grp_df: grp_df.assign(fract = grp_df['count'] / grp_df['count'].sum())\n",
    ")"
   ]
  },
  {
   "cell_type": "code",
   "execution_count": 48,
   "id": "5605abd6",
   "metadata": {},
   "outputs": [
    {
     "data": {
      "text/plain": [
       "<Figure size 1200x600 with 0 Axes>"
      ]
     },
     "metadata": {},
     "output_type": "display_data"
    },
    {
     "data": {
      "image/png": "[encoded data removed]",
      "text/plain": [
       "<Figure size 432x432 with 2 Axes>"
      ]
     },
     "metadata": {
      "needs_background": "light"
     },
     "output_type": "display_data"
    }
   ],
   "source": [
    "plt.figure(dpi = 100, figsize = (12, 6))\n",
    "\n",
    "g = sns.FacetGrid(\n",
    "    data = guide_selections_count, row = 'chosen',\n",
    "    aspect = 2\n",
    ")\n",
    "\n",
    "g.map(\n",
    "    sns.barplot, \n",
    "    'guide_AA', 'fract',\n",
    "    order = sorted(set(guide_selections_count['guide_AA'].values))\n",
    ")\n",
    "\n",
    "for ax in g.axes.flatten():\n",
    "    ax.tick_params(labelbottom=True)\n",
    "    g.tight_layout()"
   ]
  },
  {
   "cell_type": "code",
   "execution_count": null,
   "id": "b6e63518",
   "metadata": {},
   "outputs": [],
   "source": []
  }
 ],
 "metadata": {
  "kernelspec": {
   "display_name": "DeepTranslation",
   "language": "python",
   "name": "deeptranslation"
  },
  "language_info": {
   "codemirror_mode": {
    "name": "ipython",
    "version": 3
   },
   "file_extension": ".py",
   "mimetype": "text/x-python",
   "name": "python",
   "nbconvert_exporter": "python",
   "pygments_lexer": "ipython3",
   "version": "3.8.6"
  },
  "toc": {
   "base_numbering": 1,
   "nav_menu": {},
   "number_sections": false,
   "sideBar": true,
   "skip_h1_title": false,
   "title_cell": "Table of Contents",
   "title_sidebar": "Contents",
   "toc_cell": false,
   "toc_position": {},
   "toc_section_display": true,
   "toc_window_display": false
  }
 },
 "nbformat": 4,
 "nbformat_minor": 5
}
