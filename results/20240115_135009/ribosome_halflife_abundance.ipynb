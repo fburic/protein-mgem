{
 "cells": [
  {
   "cell_type": "markdown",
   "id": "9a685208",
   "metadata": {},
   "source": [
    "## Predict protein abundance from ribosome occupancy and protein half-life"
   ]
  },
  {
   "cell_type": "code",
   "execution_count": 1,
   "id": "b9479260",
   "metadata": {},
   "outputs": [
    {
     "data": {
      "text/html": [
       "<style>\n",
       "div.rendered_html p { font-size: 16px; }\n",
       "div.rendered_html { background-color: #f4ecd8 }\n",
       "div.output_html { background-color: unset}\n",
       "</style>\n"
      ],
      "text/plain": [
       "<IPython.core.display.HTML object>"
      ]
     },
     "metadata": {},
     "output_type": "display_data"
    }
   ],
   "source": [
    "%%HTML\n",
    "<style>\n",
    "div.rendered_html p { font-size: 16px; }\n",
    "div.rendered_html { background-color: #f4ecd8 }\n",
    "div.output_html { background-color: unset}\n",
    "</style>"
   ]
  },
  {
   "cell_type": "code",
   "execution_count": 2,
   "id": "69b55460",
   "metadata": {},
   "outputs": [],
   "source": [
    "import functools\n",
    "import numpy as np\n",
    "import pandas as pd\n",
    "from scipy import stats\n",
    "from sklearn.model_selection import train_test_split\n",
    "import grove\n",
    "\n",
    "import seaborn as sns\n",
    "import matplotlib.pyplot as plt\n",
    "\n",
    "from scripts.general import preprocess"
   ]
  },
  {
   "cell_type": "markdown",
   "id": "09125166",
   "metadata": {},
   "source": [
    "### Abundance data: Ho (2018)"
   ]
  },
  {
   "cell_type": "code",
   "execution_count": 3,
   "id": "67d3c18d",
   "metadata": {},
   "outputs": [],
   "source": [
    "prot_abundance = pd.read_csv('../../data/ho2018/prot_abundance_molecules_per_cell_no_gfp.csv')\n",
    "prot_abundance = prot_abundance[['Systematic_Name', 'swissprot_ac', 'Median_molecules_per_cell']]\n",
    "\n",
    "seq_len = preprocess.fasta_to_seq_df(\n",
    "    '../../data/seq/scerevisiae_aminoacid_uniprot_20200120.fasta'\n",
    ")\n",
    "seq_len = seq_len.assign(\n",
    "    seq_len = seq_len['seq'].map(len)\n",
    ").drop(columns='seq')"
   ]
  },
  {
   "cell_type": "markdown",
   "id": "12045a08",
   "metadata": {},
   "source": [
    "### Half-life data: Christiano et al. (2014)\n",
    "\n",
    "Saccharomyces cerevisiae lysine auxotroph of strain [BY4742](https://www.yeastgenome.org/strain/BY4742). \n",
    "Variation between BY4742 and S288C is miniscule."
   ]
  },
  {
   "cell_type": "code",
   "execution_count": 4,
   "id": "a4be0f0a",
   "metadata": {},
   "outputs": [
    {
     "name": "stdout",
     "output_type": "stream",
     "text": [
      "Dataset size: 3854\n"
     ]
    }
   ],
   "source": [
    "halflife = pd.read_excel('../../data/protein_stability/christiano_2014_table_s1.xlsx', \n",
    "                         sheet_name='Sheet1')\n",
    "halflife = halflife.rename(columns={\n",
    "    't1/2 (hours)': 'halflife_h',\n",
    "    'UNIPROT': 'swissprot_ac'\n",
    "})\n",
    "halflife = halflife.query('halflife_h != \">= 100\"')\n",
    "halflife['halflife_h'] = halflife['halflife_h'].astype('float32')    \n",
    "\n",
    "halflife = halflife[['swissprot_ac', 'halflife_h']]\n",
    "halflife = halflife.dropna()\n",
    "\n",
    "halflife['swissprot_ac'] = halflife['swissprot_ac'].map(lambda s: s.split(';'))\n",
    "halflife = halflife.explode('swissprot_ac')\n",
    "\n",
    "print('Dataset size:', halflife.shape[0])"
   ]
  },
  {
   "cell_type": "markdown",
   "id": "a2811fa5",
   "metadata": {},
   "source": [
    "### Ribosome occupancy data: Weinberg (2016)\n",
    "\n",
    "Strain [BY4741](https://www.yeastgenome.org/strain/BY4741), a descendant of S288C with minuscule differences.\n",
    "\n",
    "RPF counts are adjusted using an empirically-derived position-dependent correction factor. [Weinberg (2016)](https://doi.org/10.1016/j.celrep.2016.01.043)"
   ]
  },
  {
   "cell_type": "code",
   "execution_count": 5,
   "id": "cbaf855c",
   "metadata": {},
   "outputs": [],
   "source": [
    "rpf_counts_weinberg2016 = pd.read_csv(\n",
    "    '../../data/ribosome_profiling/weinberg2016_GSE75897_RPF_RPKMs.txt.gz', \n",
    "    sep='\\t', header=None, names=['Systematic_Name', 'RPF_RPKM']\n",
    ")\n",
    "\n",
    "mrna_counts_weinberg2016 = pd.read_csv(\n",
    "    '../../data/ribosome_profiling/weinberg2016_GSE75897_RiboZero_RPKMs.txt.gz', \n",
    "    sep='\\t', header=None, names=['Systematic_Name_err', 'mRNA_RPKM']\n",
    ")"
   ]
  },
  {
   "cell_type": "markdown",
   "id": "0fed137e",
   "metadata": {},
   "source": [
    "Fix corrupted `Systematic_Name` in mRNA data"
   ]
  },
  {
   "cell_type": "code",
   "execution_count": 6,
   "id": "4a8be4a4",
   "metadata": {},
   "outputs": [],
   "source": [
    "sysname_lookup = rpf_counts_weinberg2016[['Systematic_Name']].assign(\n",
    "    Systematic_Name_err = rpf_counts_weinberg2016['Systematic_Name'].map(\n",
    "        lambda sysname: sysname.replace('-', '')\n",
    "    )\n",
    ")\n",
    "\n",
    "mrna_counts_weinberg2016 = mrna_counts_weinberg2016.merge(sysname_lookup).drop(columns='Systematic_Name_err')"
   ]
  },
  {
   "cell_type": "code",
   "execution_count": 7,
   "id": "1fb3853c",
   "metadata": {},
   "outputs": [
    {
     "name": "stdout",
     "output_type": "stream",
     "text": [
      "5240 entries\n"
     ]
    }
   ],
   "source": [
    "weinberg2016_data = pd.merge(\n",
    "    rpf_counts_weinberg2016,\n",
    "    mrna_counts_weinberg2016\n",
    ")\n",
    "\n",
    "# Drop effectively zero values (so we can take log)\n",
    "machine_epsilon = np.finfo('float32').eps\n",
    "weinberg2016_data = weinberg2016_data.query('(RPF_RPKM > @machine_epsilon) & (mRNA_RPKM > @machine_epsilon)')\n",
    "\n",
    "print(weinberg2016_data.shape[0], 'entries')"
   ]
  },
  {
   "cell_type": "code",
   "execution_count": 8,
   "id": "f18b1e49",
   "metadata": {},
   "outputs": [
    {
     "data": {
      "image/png": "[encoded data removed]",
      "text/plain": [
       "<Figure size 840x280 with 2 Axes>"
      ]
     },
     "metadata": {
      "needs_background": "light"
     },
     "output_type": "display_data"
    }
   ],
   "source": [
    "plt.figure(dpi=70, figsize=(12, 4))\n",
    "\n",
    "plt.subplot(1,2,1)\n",
    "sns.histplot(weinberg2016_data, x='RPF_RPKM').set(xlabel='RPF [RPKM]', xlim=(0, 1000));\n",
    "plt.subplot(1,2,2)\n",
    "sns.histplot(weinberg2016_data, x='mRNA_RPKM', log_scale=(True, False)).set(xlabel='mRNA [RPKM]');"
   ]
  },
  {
   "cell_type": "markdown",
   "id": "e5d8861d",
   "metadata": {},
   "source": [
    "## Inspect data and perform sanity checks\n",
    "\n",
    "Don't include half-life just yet. Inspect relationships between mRNA, RPF, and length with all available data."
   ]
  },
  {
   "cell_type": "markdown",
   "id": "c3030898",
   "metadata": {},
   "source": [
    "### Pool and process data\n",
    "\n",
    "Log10-transform all variables"
   ]
  },
  {
   "cell_type": "code",
   "execution_count": 9,
   "id": "57acd7f1",
   "metadata": {},
   "outputs": [
    {
     "name": "stdout",
     "output_type": "stream",
     "text": [
      "4998 entries\n"
     ]
    },
    {
     "data": {
      "text/html": [
       "<div>\n",
       "<style scoped>\n",
       "    .dataframe tbody tr th:only-of-type {\n",
       "        vertical-align: middle;\n",
       "    }\n",
       "\n",
       "    .dataframe tbody tr th {\n",
       "        vertical-align: top;\n",
       "    }\n",
       "\n",
       "    .dataframe thead th {\n",
       "        text-align: right;\n",
       "    }\n",
       "</style>\n",
       "<table border=\"1\" class=\"dataframe\">\n",
       "  <thead>\n",
       "    <tr style=\"text-align: right;\">\n",
       "      <th></th>\n",
       "      <th>Systematic_Name</th>\n",
       "      <th>RPF_RPKM</th>\n",
       "      <th>mRNA_RPKM</th>\n",
       "      <th>swissprot_ac</th>\n",
       "      <th>Median_molecules_per_cell</th>\n",
       "      <th>seq_len</th>\n",
       "    </tr>\n",
       "  </thead>\n",
       "  <tbody>\n",
       "    <tr>\n",
       "      <th>0</th>\n",
       "      <td>YAL001C</td>\n",
       "      <td>18.12</td>\n",
       "      <td>37.80</td>\n",
       "      <td>P34111</td>\n",
       "      <td>1809.0</td>\n",
       "      <td>1160</td>\n",
       "    </tr>\n",
       "    <tr>\n",
       "      <th>1</th>\n",
       "      <td>YAL002W</td>\n",
       "      <td>5.73</td>\n",
       "      <td>22.17</td>\n",
       "      <td>P39702</td>\n",
       "      <td>1353.0</td>\n",
       "      <td>1274</td>\n",
       "    </tr>\n",
       "  </tbody>\n",
       "</table>\n",
       "</div>"
      ],
      "text/plain": [
       "  Systematic_Name  RPF_RPKM  mRNA_RPKM swissprot_ac  \\\n",
       "0         YAL001C     18.12      37.80       P34111   \n",
       "1         YAL002W      5.73      22.17       P39702   \n",
       "\n",
       "   Median_molecules_per_cell  seq_len  \n",
       "0                     1809.0     1160  \n",
       "1                     1353.0     1274  "
      ]
     },
     "execution_count": 9,
     "metadata": {},
     "output_type": "execute_result"
    }
   ],
   "source": [
    "prot_data = (\n",
    "    grove.merge([\n",
    "            weinberg2016_data,\n",
    "            prot_abundance,\n",
    "            seq_len\n",
    "        ],\n",
    "        on = ['Systematic_Name', 'swissprot_ac']\n",
    "    )\n",
    ")\n",
    "\n",
    "print(prot_data.shape[0], 'entries')\n",
    "prot_data.head(2)"
   ]
  },
  {
   "cell_type": "code",
   "execution_count": 10,
   "id": "0bafb962",
   "metadata": {},
   "outputs": [],
   "source": [
    "rpf_rpkm = np.log10(prot_data[['RPF_RPKM']].values)\n",
    "mrna_rpkm = np.log10(prot_data[['mRNA_RPKM']].values)\n",
    "\n",
    "length = np.log10(prot_data[['seq_len']].values)\n",
    "\n",
    "abundance = np.log10(prot_data[['Median_molecules_per_cell']].values)"
   ]
  },
  {
   "cell_type": "code",
   "execution_count": 11,
   "id": "3a8db459",
   "metadata": {},
   "outputs": [],
   "source": [
    "rnd_seed = 42\n",
    "test_fract = 0.2\n",
    "std_split = functools.partial(train_test_split, test_size=test_fract, random_state=rnd_seed)"
   ]
  },
  {
   "cell_type": "code",
   "execution_count": 12,
   "id": "113dcc04",
   "metadata": {},
   "outputs": [],
   "source": [
    "rpf_rpkm_train, rpf_rpkm_test = std_split(rpf_rpkm)      # R\n",
    "mrna_rpkm_train, mrna_rpkm_test = std_split(mrna_rpkm)   # m\n",
    "length_train, length_test = std_split(length)            # L\n",
    "abundance_train, abundance_test = std_split(abundance)   # A"
   ]
  },
  {
   "cell_type": "code",
   "execution_count": 13,
   "id": "ff62e831",
   "metadata": {},
   "outputs": [
    {
     "data": {
      "text/plain": [
       "3998"
      ]
     },
     "execution_count": 13,
     "metadata": {},
     "output_type": "execute_result"
    }
   ],
   "source": [
    "abundance_train.shape[0]"
   ]
  },
  {
   "cell_type": "code",
   "execution_count": 14,
   "id": "cd2e1cba",
   "metadata": {},
   "outputs": [
    {
     "data": {
      "text/plain": [
       "1000"
      ]
     },
     "execution_count": 14,
     "metadata": {},
     "output_type": "execute_result"
    }
   ],
   "source": [
    "abundance_test.shape[0]"
   ]
  },
  {
   "cell_type": "markdown",
   "id": "caeaf77e",
   "metadata": {},
   "source": [
    "#### Derived variables"
   ]
  },
  {
   "cell_type": "code",
   "execution_count": 15,
   "id": "bc04fb6a",
   "metadata": {},
   "outputs": [],
   "source": [
    "transl_eff = rpf_rpkm - mrna_rpkm   # (Weinberg, 2016) TE = R / m, so take log(R) - log(m)\n",
    "rel_density = transl_eff - length   # (Riba, 2019)        = TE / L"
   ]
  },
  {
   "cell_type": "markdown",
   "id": "8ddc74f5",
   "metadata": {},
   "source": [
    "### Assess relations between the various variables"
   ]
  },
  {
   "cell_type": "markdown",
   "id": "4f730ad1",
   "metadata": {},
   "source": [
    "Verifying that `TE` and `L` are inversely correlated in the Weinberg (2016) data **[OK]**"
   ]
  },
  {
   "cell_type": "code",
   "execution_count": 16,
   "id": "35814626",
   "metadata": {},
   "outputs": [
    {
     "data": {
      "text/plain": [
       "SpearmanrResult(correlation=-0.611156295206171, pvalue=0.0)"
      ]
     },
     "execution_count": 16,
     "metadata": {},
     "output_type": "execute_result"
    }
   ],
   "source": [
    "stats.spearmanr(transl_eff, length)"
   ]
  },
  {
   "cell_type": "markdown",
   "id": "4ea4c2bf",
   "metadata": {},
   "source": [
    "Given the above and how these variables are defined, it seems like the ribosome occupancy (RPF) $R$ could be expressed as a log-linear model of mRNA $m$ and inverse protein length $L$, namely:\n",
    "\n",
    "$$\n",
    "log(R) = a \\cdot log(m) + b \\cdot log(L) + c\n",
    "$$\n",
    "\n",
    "where b should be negative.\n",
    "As both R and m are RPMK, the length informtion in these terms will cancel out."
   ]
  },
  {
   "cell_type": "code",
   "execution_count": 17,
   "id": "e00fe327",
   "metadata": {},
   "outputs": [
    {
     "data": {
      "text/plain": [
       "0.878103946643635"
      ]
     },
     "execution_count": 17,
     "metadata": {},
     "output_type": "execute_result"
    }
   ],
   "source": [
    "from sklearn import linear_model\n",
    "\n",
    "R_mL = linear_model.LinearRegression()\n",
    "\n",
    "R_mL.fit(X = np.concatenate((mrna_rpkm_train, length_train), axis=1), \n",
    "         y = rpf_rpkm_train)\n",
    "\n",
    "R_mL.score(np.concatenate((mrna_rpkm_test, length_test), axis=1), \n",
    "           rpf_rpkm_test)"
   ]
  },
  {
   "cell_type": "code",
   "execution_count": 18,
   "id": "dc0eda61",
   "metadata": {},
   "outputs": [
    {
     "data": {
      "text/plain": [
       "(array([[ 1.19500582, -0.45374423]]), array([0.69265427]))"
      ]
     },
     "execution_count": 18,
     "metadata": {},
     "output_type": "execute_result"
    }
   ],
   "source": [
    "R_mL.coef_, R_mL.intercept_"
   ]
  },
  {
   "cell_type": "markdown",
   "id": "d3ab7280",
   "metadata": {},
   "source": [
    "This means that, acc. to Weinberg (2016) data,\n",
    "\n",
    "$$\n",
    "R \\sim \\frac{m}{L}\n",
    "$$\n",
    "\n",
    "specifically, $R = 10^{0.69} \\frac{m^{1.19}}{L^{0.45}} \\approx 4.9 \\frac{m}{\\sqrt{L}}$ acc. to the log-linear model fit above.\n",
    "\n",
    "This is effectively the inverse in terms of $L$ to the TASEP model used by Riba (2019).\n",
    "\n",
    "It also means $TE \\propto \\frac{1}{\\sqrt{L}}$ (which checks out, given their negative correlation).\n",
    "\n",
    "And the *relative density* defined in Riba (2019) as $\\frac{TE}{L} \\propto \\frac{1}{L\\sqrt{L}}$.\n",
    "\n",
    "As the fit isn't perfect ($R^2$ = 88%), the relation above doesn't fully explain how these variables are related."
   ]
  },
  {
   "cell_type": "code",
   "execution_count": 19,
   "id": "a28193de",
   "metadata": {},
   "outputs": [
    {
     "data": {
      "image/png": "[encoded data removed]",
      "text/plain": [
       "<Figure size 400x400 with 1 Axes>"
      ]
     },
     "metadata": {
      "needs_background": "light"
     },
     "output_type": "display_data"
    }
   ],
   "source": [
    "plt.figure(dpi=100, figsize=(4, 4))\n",
    "\n",
    "sns.kdeplot(\n",
    "    x = (mrna_rpkm - length).ravel(),\n",
    "    y = (rpf_rpkm).ravel(),\n",
    "    fill = True\n",
    ").set(\n",
    "    xlabel = 'log10( mRNA / L )',\n",
    "    ylabel = 'log10( RPF )',\n",
    "    xlim=(-3, 2),\n",
    "    ylim=(-1, 4.5)\n",
    ");\n",
    "\n",
    "plt.annotate(\n",
    "    f'r = {stats.spearmanr(mrna_rpkm - length, rpf_rpkm)[0] :.2}',\n",
    "    xy=(-2, 3.5), size = 'large'\n",
    ");"
   ]
  },
  {
   "cell_type": "markdown",
   "id": "b759e495",
   "metadata": {},
   "source": [
    "### Correlations\n",
    "\n",
    "All Spearman unless marked otherwise, as few of these distributions are near normal, and to be consistent."
   ]
  },
  {
   "cell_type": "code",
   "execution_count": 20,
   "id": "ebbb298b",
   "metadata": {},
   "outputs": [
    {
     "name": "stdout",
     "output_type": "stream",
     "text": [
      "A ~ m : 0.77\n",
      "A ~ R : 0.81\n",
      "A ~ L : -0.18\n",
      "\n",
      "R ~ m : 0.93\n"
     ]
    }
   ],
   "source": [
    "print(f'A ~ m : {stats.spearmanr(abundance, mrna_rpkm)[0] :.2}')\n",
    "print(f'A ~ R : {stats.spearmanr(abundance, rpf_rpkm)[0] :.2}')\n",
    "print(f'A ~ L : {stats.spearmanr(abundance, length)[0] :.2}')\n",
    "print()\n",
    "print(f'R ~ m : {stats.spearmanr(rpf_rpkm, mrna_rpkm)[0] :.2}')"
   ]
  },
  {
   "cell_type": "markdown",
   "id": "2d7c3d81",
   "metadata": {},
   "source": [
    "#### Sanity check with Riba (2019) data\n",
    "\n",
    "Check that the correlations they reported hold here, both with [RPKM] Weinberg data, and the RPF [counts] in the Riba data.\n",
    "\n",
    "https://www.pnas.org/doi/suppl/10.1073/pnas.1817299116/suppl_file/pnas.1817299116.sapp.pdf\n",
    "\n",
    "For the former, the exact values would differ, due to the change in units (and implicit factoring of length)."
   ]
  },
  {
   "cell_type": "markdown",
   "id": "d71f7354",
   "metadata": {},
   "source": [
    "m ~ R should be high **[OK]**"
   ]
  },
  {
   "cell_type": "code",
   "execution_count": 21,
   "id": "64666e2a",
   "metadata": {},
   "outputs": [
    {
     "data": {
      "text/plain": [
       "SpearmanrResult(correlation=0.9266209584830353, pvalue=0.0)"
      ]
     },
     "execution_count": 21,
     "metadata": {},
     "output_type": "execute_result"
    }
   ],
   "source": [
    "stats.spearmanr(mrna_rpkm, rpf_rpkm)"
   ]
  },
  {
   "cell_type": "markdown",
   "id": "55dd9f1b",
   "metadata": {},
   "source": [
    "m L ~ R should be lower that m ~ R (inverse corr of L)  **[OK]**\n",
    "\n",
    "The value is much lower since R is still [RPKM]. Removing the 1 / L factor, to get ~[reads] as in Riba makes the drop lower."
   ]
  },
  {
   "cell_type": "code",
   "execution_count": 22,
   "id": "8b967467",
   "metadata": {},
   "outputs": [
    {
     "data": {
      "text/plain": [
       "SpearmanrResult(correlation=0.6278967349409744, pvalue=0.0)"
      ]
     },
     "execution_count": 22,
     "metadata": {},
     "output_type": "execute_result"
    }
   ],
   "source": [
    "stats.spearmanr(mrna_rpkm + length, rpf_rpkm)"
   ]
  },
  {
   "cell_type": "code",
   "execution_count": 23,
   "id": "c9fa33ba",
   "metadata": {},
   "outputs": [
    {
     "data": {
      "text/plain": [
       "SpearmanrResult(correlation=0.8973876337344139, pvalue=0.0)"
      ]
     },
     "execution_count": 23,
     "metadata": {},
     "output_type": "execute_result"
    }
   ],
   "source": [
    "stats.spearmanr(mrna_rpkm + length, rpf_rpkm + length)"
   ]
  },
  {
   "cell_type": "markdown",
   "id": "51bf5410",
   "metadata": {},
   "source": [
    "R / L ~ A reported at Spearman r = 0.72 **[OK]**\n",
    "\n",
    "SInce R [RPKM] / L ~ R [counts] / L^2, we are also recovering R as ~[reads] by taking R [RPKM] * L. This yields a higher correlation, though still close to the expected value."
   ]
  },
  {
   "cell_type": "code",
   "execution_count": 24,
   "id": "e1bfc3d7",
   "metadata": {},
   "outputs": [
    {
     "data": {
      "text/plain": [
       "SpearmanrResult(correlation=0.7141816119664208, pvalue=0.0)"
      ]
     },
     "execution_count": 24,
     "metadata": {},
     "output_type": "execute_result"
    }
   ],
   "source": [
    "stats.spearmanr(rpf_rpkm - length, abundance)"
   ]
  },
  {
   "cell_type": "code",
   "execution_count": 25,
   "id": "3003e141",
   "metadata": {},
   "outputs": [
    {
     "data": {
      "text/plain": [
       "SpearmanrResult(correlation=0.7769885205347662, pvalue=0.0)"
      ]
     },
     "execution_count": 25,
     "metadata": {},
     "output_type": "execute_result"
    }
   ],
   "source": [
    "stats.spearmanr(rpf_rpkm + length, abundance)"
   ]
  },
  {
   "cell_type": "markdown",
   "id": "59a3780d",
   "metadata": {},
   "source": [
    "Using Riba RPF [reads] values"
   ]
  },
  {
   "cell_type": "code",
   "execution_count": 26,
   "id": "12d71405",
   "metadata": {},
   "outputs": [
    {
     "data": {
      "text/html": [
       "<div>\n",
       "<style scoped>\n",
       "    .dataframe tbody tr th:only-of-type {\n",
       "        vertical-align: middle;\n",
       "    }\n",
       "\n",
       "    .dataframe tbody tr th {\n",
       "        vertical-align: top;\n",
       "    }\n",
       "\n",
       "    .dataframe thead th {\n",
       "        text-align: right;\n",
       "    }\n",
       "</style>\n",
       "<table border=\"1\" class=\"dataframe\">\n",
       "  <thead>\n",
       "    <tr style=\"text-align: right;\">\n",
       "      <th></th>\n",
       "      <th>Systematic_Name</th>\n",
       "      <th>ribo_reads</th>\n",
       "      <th>orf_length</th>\n",
       "      <th>RPF_RPKM</th>\n",
       "      <th>mRNA_RPKM</th>\n",
       "      <th>swissprot_ac</th>\n",
       "      <th>Median_molecules_per_cell</th>\n",
       "    </tr>\n",
       "  </thead>\n",
       "  <tbody>\n",
       "    <tr>\n",
       "      <th>0</th>\n",
       "      <td>YPL228W</td>\n",
       "      <td>0.000040</td>\n",
       "      <td>550</td>\n",
       "      <td>45.20</td>\n",
       "      <td>43.84</td>\n",
       "      <td>O13297</td>\n",
       "      <td>3705.0</td>\n",
       "    </tr>\n",
       "    <tr>\n",
       "      <th>1</th>\n",
       "      <td>YLR390W-A</td>\n",
       "      <td>0.000351</td>\n",
       "      <td>239</td>\n",
       "      <td>837.21</td>\n",
       "      <td>317.21</td>\n",
       "      <td>O13547</td>\n",
       "      <td>7590.0</td>\n",
       "    </tr>\n",
       "  </tbody>\n",
       "</table>\n",
       "</div>"
      ],
      "text/plain": [
       "  Systematic_Name  ribo_reads  orf_length  RPF_RPKM  mRNA_RPKM swissprot_ac  \\\n",
       "0         YPL228W    0.000040         550     45.20      43.84       O13297   \n",
       "1       YLR390W-A    0.000351         239    837.21     317.21       O13547   \n",
       "\n",
       "   Median_molecules_per_cell  \n",
       "0                     3705.0  \n",
       "1                     7590.0  "
      ]
     },
     "execution_count": 26,
     "metadata": {},
     "output_type": "execute_result"
    }
   ],
   "source": [
    "riba = pd.read_csv('../../data/riba2019/pnas.1817299116.sd02.tsv', sep='\\t')\n",
    "riba = riba.rename(columns={'uniprotswissprot': 'swissprot_ac', 'ensembl_gene_id': 'Systematic_Name'})\n",
    "\n",
    "riba_weinberg = grove.merge(\n",
    "    [riba[['Systematic_Name', 'ribo_reads', 'orf_length']],\n",
    "     weinberg2016_data,\n",
    "     prot_abundance],\n",
    "    on = 'Systematic_Name'\n",
    ")\n",
    "\n",
    "riba_weinberg.head(2)"
   ]
  },
  {
   "cell_type": "markdown",
   "id": "f6556af4",
   "metadata": {},
   "source": [
    "Sanity check (RPF [reads] / L) ~ RPF [RPKM]  **[OK]**"
   ]
  },
  {
   "cell_type": "code",
   "execution_count": 27,
   "id": "078c2aec",
   "metadata": {},
   "outputs": [
    {
     "data": {
      "text/plain": [
       "SpearmanrResult(correlation=0.9996297340192916, pvalue=0.0)"
      ]
     },
     "execution_count": 27,
     "metadata": {},
     "output_type": "execute_result"
    }
   ],
   "source": [
    "stats.spearmanr(riba_weinberg['ribo_reads'] / riba_weinberg['orf_length'], riba_weinberg['RPF_RPKM'])"
   ]
  },
  {
   "cell_type": "code",
   "execution_count": 28,
   "id": "776ca70f",
   "metadata": {},
   "outputs": [
    {
     "data": {
      "text/plain": [
       "(0.9930683377397556, 0.0)"
      ]
     },
     "execution_count": 28,
     "metadata": {},
     "output_type": "execute_result"
    }
   ],
   "source": [
    "stats.pearsonr(riba_weinberg['ribo_reads'] / riba_weinberg['orf_length'], riba_weinberg['RPF_RPKM'])"
   ]
  },
  {
   "cell_type": "markdown",
   "id": "5e9aba0c",
   "metadata": {},
   "source": [
    "m ~ R should be high (Spearman r = 0.9) **[OK]**"
   ]
  },
  {
   "cell_type": "code",
   "execution_count": 29,
   "id": "6e1c2603",
   "metadata": {},
   "outputs": [
    {
     "data": {
      "text/plain": [
       "SpearmanrResult(correlation=0.9025735346964668, pvalue=0.0)"
      ]
     },
     "execution_count": 29,
     "metadata": {},
     "output_type": "execute_result"
    }
   ],
   "source": [
    "stats.spearmanr(np.log10(riba_weinberg['mRNA_RPKM']), \n",
    "                np.log10(riba_weinberg['ribo_reads']))"
   ]
  },
  {
   "cell_type": "markdown",
   "id": "c1807b1f",
   "metadata": {},
   "source": [
    "m L ~ R should be lower that m ~ R (Spearman r = 0.87) <span style='color:red'>**[NOT OK: increases]**</span>\n",
    "\n",
    "As m is [RPKM], m L ~ m [reads], thus correlating m [reads] with R [reads]."
   ]
  },
  {
   "cell_type": "code",
   "execution_count": 30,
   "id": "eea5ed80",
   "metadata": {},
   "outputs": [
    {
     "data": {
      "text/plain": [
       "SpearmanrResult(correlation=0.9452981221355979, pvalue=0.0)"
      ]
     },
     "execution_count": 30,
     "metadata": {},
     "output_type": "execute_result"
    }
   ],
   "source": [
    "stats.spearmanr(np.log10(riba_weinberg['mRNA_RPKM'] * riba_weinberg['orf_length']), \n",
    "                np.log10(riba_weinberg['ribo_reads']))"
   ]
  },
  {
   "cell_type": "markdown",
   "id": "3b7540a0",
   "metadata": {},
   "source": [
    "R / L ~ A reported at Spearman r = 0.72 **[OK, though higher]**"
   ]
  },
  {
   "cell_type": "code",
   "execution_count": 31,
   "id": "5cea22d7",
   "metadata": {},
   "outputs": [
    {
     "data": {
      "text/plain": [
       "SpearmanrResult(correlation=0.8231309928938075, pvalue=1.0746230356772208e-251)"
      ]
     },
     "execution_count": 31,
     "metadata": {},
     "output_type": "execute_result"
    }
   ],
   "source": [
    "stats.spearmanr(np.log10(riba_weinberg['ribo_reads'] / riba_weinberg['orf_length']), \n",
    "                np.log10(riba_weinberg['Median_molecules_per_cell']))"
   ]
  },
  {
   "cell_type": "markdown",
   "id": "6a950cc8",
   "metadata": {},
   "source": [
    "#### Sanity check\n",
    "\n",
    "Using the `ribo_reads` values in Riba (2019) leads to a **discrepancy** in the interplay of m (mRNA), L (ORF length), and R (RPFs):\n",
    "\n",
    "Removing the 1 / L factor from m [RPKM] (by taking m * L) increases m correlations with R [reads] slightly,\n",
    "whereas in the Weinberg (2016) data, it makes it drop, the latter naturally consistent with inverse relationship between R (reads) and L observed here.\n",
    "\n",
    "Throughout this study, **only the Weinberg (2016) values will be used**."
   ]
  },
  {
   "cell_type": "markdown",
   "id": "e5218c10",
   "metadata": {},
   "source": [
    "Double-check that removing 1 / L in [RPKM] reduces correlation **[OK]**"
   ]
  },
  {
   "cell_type": "code",
   "execution_count": 32,
   "id": "fa3216cf",
   "metadata": {},
   "outputs": [
    {
     "data": {
      "text/plain": [
       "SpearmanrResult(correlation=0.5973277404388525, pvalue=0.0)"
      ]
     },
     "execution_count": 32,
     "metadata": {},
     "output_type": "execute_result"
    }
   ],
   "source": [
    "stats.spearmanr(abundance, mrna_rpkm + length)"
   ]
  },
  {
   "cell_type": "code",
   "execution_count": 33,
   "id": "46691eb8",
   "metadata": {},
   "outputs": [
    {
     "data": {
      "text/plain": [
       "SpearmanrResult(correlation=0.7769885205347662, pvalue=0.0)"
      ]
     },
     "execution_count": 33,
     "metadata": {},
     "output_type": "execute_result"
    }
   ],
   "source": [
    "stats.spearmanr(abundance, rpf_rpkm + length)"
   ]
  },
  {
   "cell_type": "markdown",
   "id": "69625aae",
   "metadata": {},
   "source": [
    "Is the residual of the ribosome occupancy liner model correlated with abundance?\n",
    "\n",
    "I.e. is there information left about abundance after controlling for mRNA and length?"
   ]
  },
  {
   "cell_type": "code",
   "execution_count": 34,
   "id": "95f20f97",
   "metadata": {},
   "outputs": [
    {
     "name": "stdout",
     "output_type": "stream",
     "text": [
      "R_res ~ A : 0.22\n"
     ]
    }
   ],
   "source": [
    "R_residual = rpf_rpkm - R_mL.predict(np.concatenate((mrna_rpkm, length), axis=1))\n",
    "\n",
    "print(f'R_res ~ A : {stats.spearmanr(R_residual, abundance)[0] :.2}')"
   ]
  },
  {
   "cell_type": "markdown",
   "id": "59154c65",
   "metadata": {},
   "source": [
    "Some information left (though how much is actual noise is unclear)."
   ]
  },
  {
   "cell_type": "markdown",
   "id": "8e885dc4",
   "metadata": {},
   "source": [
    "## Model protein abundance in terms of ribosome occupancy and half-life"
   ]
  },
  {
   "cell_type": "code",
   "execution_count": 35,
   "id": "88e36421",
   "metadata": {},
   "outputs": [],
   "source": [
    "from sklearn.ensemble import RandomForestRegressor\n",
    "from sklearn.svm import SVR\n",
    "from sklearn.neighbors import KNeighborsRegressor\n",
    "from sklearn.model_selection import GridSearchCV, KFold\n",
    "from sklearn.pipeline import make_pipeline\n",
    "from sklearn.preprocessing import StandardScaler"
   ]
  },
  {
   "cell_type": "markdown",
   "id": "e9516af0",
   "metadata": {},
   "source": [
    "### Pool and process data\n",
    "\n",
    "Log10-transform all variables"
   ]
  },
  {
   "cell_type": "code",
   "execution_count": 36,
   "id": "fc8114e5",
   "metadata": {},
   "outputs": [
    {
     "name": "stdout",
     "output_type": "stream",
     "text": [
      "3574 entries\n"
     ]
    }
   ],
   "source": [
    "prot_data = (\n",
    "    grove.merge([\n",
    "            weinberg2016_data,\n",
    "            prot_abundance,\n",
    "            halflife,\n",
    "            seq_len\n",
    "        ],\n",
    "        on = ['Systematic_Name', 'swissprot_ac', 'swissprot_ac']\n",
    "    )\n",
    ")\n",
    "\n",
    "print(prot_data.shape[0], 'entries')\n",
    "\n",
    "\n",
    "rpf_rpkm = np.log10(prot_data[['RPF_RPKM']].values)\n",
    "mrna_rpkm = np.log10(prot_data[['mRNA_RPKM']].values)\n",
    "\n",
    "length = np.log10(prot_data[['seq_len']].values)\n",
    "\n",
    "halflife = np.log10(prot_data[['halflife_h']].values)\n",
    "abundance = np.log10(prot_data[['Median_molecules_per_cell']].values)\n",
    "\n",
    "transl_eff = rpf_rpkm - mrna_rpkm   # (Weinberg, 2016) TE = R / m, so take log(R) - log(m)\n",
    "rel_density = transl_eff - length   # (Riba, 2019) = TE / L\n",
    "\n",
    "rpf_rpkm_train, rpf_rpkm_test = std_split(rpf_rpkm)      # R\n",
    "mrna_rpkm_train, mrna_rpkm_test = std_split(mrna_rpkm)   # m\n",
    "length_train, length_test = std_split(length)            # L\n",
    "halflife_train, halflife_test = std_split(halflife)      # H\n",
    "abundance_train, abundance_test = std_split(abundance)   # A"
   ]
  },
  {
   "cell_type": "code",
   "execution_count": 37,
   "id": "9d3afa89",
   "metadata": {},
   "outputs": [
    {
     "data": {
      "text/plain": [
       "2859"
      ]
     },
     "execution_count": 37,
     "metadata": {},
     "output_type": "execute_result"
    }
   ],
   "source": [
    "abundance_train.shape[0]"
   ]
  },
  {
   "cell_type": "code",
   "execution_count": 38,
   "id": "9e2703f1",
   "metadata": {},
   "outputs": [
    {
     "data": {
      "text/plain": [
       "715"
      ]
     },
     "execution_count": 38,
     "metadata": {},
     "output_type": "execute_result"
    }
   ],
   "source": [
    "abundance_test.shape[0]"
   ]
  },
  {
   "cell_type": "markdown",
   "id": "08651a84",
   "metadata": {},
   "source": [
    "### Correlations\n",
    "\n",
    "All Spearman unless marked otherwise, as few of these distributions are near normal and for consistency.\n",
    "These will differ slightly from the sanity checks above, since we're working with a protein subset resulting from intersecting with the half-life data."
   ]
  },
  {
   "cell_type": "code",
   "execution_count": 39,
   "id": "bb76ebac",
   "metadata": {},
   "outputs": [
    {
     "name": "stdout",
     "output_type": "stream",
     "text": [
      "A ~ m : 0.83\n",
      "A ~ R : 0.85\n",
      "A ~ L : -0.17\n",
      "A ~ H : 0.34\n",
      "\n",
      "R ~ m : 0.92\n",
      "R ~ H : 0.21\n"
     ]
    }
   ],
   "source": [
    "print(f'A ~ m : {stats.spearmanr(abundance, mrna_rpkm)[0] :.2}')\n",
    "print(f'A ~ R : {stats.spearmanr(abundance, rpf_rpkm)[0] :.2}')\n",
    "print(f'A ~ L : {stats.spearmanr(abundance, length)[0] :.2}')\n",
    "print(f'A ~ H : {stats.spearmanr(abundance, halflife)[0] :.2}')\n",
    "print()\n",
    "print(f'R ~ m : {stats.spearmanr(rpf_rpkm, mrna_rpkm)[0] :.2}')\n",
    "print(f'R ~ H : {stats.spearmanr(rpf_rpkm, halflife)[0] :.2}')"
   ]
  },
  {
   "cell_type": "markdown",
   "id": "e6a9bd70",
   "metadata": {},
   "source": [
    "## Model using residual mRNA\n",
    "\n",
    "Interesting to see what information left after accounting for both $m$ and $L$ with a linear fit."
   ]
  },
  {
   "cell_type": "markdown",
   "id": "3e449c59",
   "metadata": {},
   "source": [
    "### Prepare model input"
   ]
  },
  {
   "cell_type": "code",
   "execution_count": 40,
   "id": "14550648",
   "metadata": {},
   "outputs": [
    {
     "data": {
      "text/plain": [
       "0.9350978590221762"
      ]
     },
     "execution_count": 40,
     "metadata": {},
     "output_type": "execute_result"
    }
   ],
   "source": [
    "R_mL = linear_model.LinearRegression()\n",
    "\n",
    "R_mL.fit(X = np.concatenate((mrna_rpkm_train, length_train), axis=1), \n",
    "         y = rpf_rpkm_train)\n",
    "\n",
    "R_mL.score(np.concatenate((mrna_rpkm_test, length_test), axis=1), \n",
    "           rpf_rpkm_test)"
   ]
  },
  {
   "cell_type": "code",
   "execution_count": 41,
   "id": "5fbe2911",
   "metadata": {},
   "outputs": [
    {
     "name": "stdout",
     "output_type": "stream",
     "text": [
      "R_res ~ A : 0.29\n"
     ]
    }
   ],
   "source": [
    "R_residual = rpf_rpkm - R_mL.predict(np.concatenate((mrna_rpkm, length), axis=1))\n",
    "\n",
    "print(f'R_res ~ A : {stats.spearmanr(R_residual, abundance)[0] :.2}')"
   ]
  },
  {
   "cell_type": "code",
   "execution_count": 42,
   "id": "139a0b4b",
   "metadata": {},
   "outputs": [],
   "source": [
    "abundance_predictors = np.concatenate(\n",
    "    (R_residual, halflife), \n",
    "    axis=1\n",
    ")\n",
    "\n",
    "abundance_predictors_train, abundance_predictors_test = std_split(abundance_predictors)"
   ]
  },
  {
   "cell_type": "markdown",
   "id": "51355a67",
   "metadata": {},
   "source": [
    "### Linear model"
   ]
  },
  {
   "cell_type": "code",
   "execution_count": 43,
   "id": "eff65018",
   "metadata": {},
   "outputs": [
    {
     "data": {
      "text/plain": [
       "0.1115975583482367"
      ]
     },
     "execution_count": 43,
     "metadata": {},
     "output_type": "execute_result"
    }
   ],
   "source": [
    "lm = linear_model.LinearRegression()\n",
    "\n",
    "lm.fit(abundance_predictors_train, abundance_train.ravel())\n",
    "lm.score(abundance_predictors_test, abundance_test.ravel())"
   ]
  },
  {
   "cell_type": "markdown",
   "id": "6014b8ed",
   "metadata": {},
   "source": [
    "### Random forest model"
   ]
  },
  {
   "cell_type": "code",
   "execution_count": 44,
   "id": "a916994e",
   "metadata": {},
   "outputs": [
    {
     "name": "stdout",
     "output_type": "stream",
     "text": [
      "Fitting 5 folds for each of 30 candidates, totalling 150 fits\n",
      "\n",
      "Best candidate MSE:  0.17\n",
      "Test R^2:  0.15\n",
      "Best params:  {'max_features': 1, 'min_samples_leaf': 50, 'n_estimators': 200}\n"
     ]
    }
   ],
   "source": [
    "rand_forest_search = GridSearchCV(\n",
    "    RandomForestRegressor(random_state=rnd_seed), \n",
    "    param_grid={\n",
    "        'n_estimators': [10, 20, 50, 100, 200],\n",
    "        'min_samples_leaf': [2, 10, 50],\n",
    "        'max_features': [1, 2]\n",
    "    },\n",
    "    cv=KFold(n_splits=5, shuffle=True, random_state=rnd_seed),\n",
    "    scoring='neg_mean_squared_error',\n",
    "    verbose=1\n",
    ")\n",
    "rand_forest_search.fit(abundance_predictors_train, abundance_train.ravel())\n",
    "\n",
    "print()\n",
    "print(f'Best candidate MSE: {-rand_forest_search.best_score_ : .2}')\n",
    "print(f'Test R^2: {rand_forest_search.best_estimator_.score(abundance_predictors_test, abundance_test.ravel()): .2}')\n",
    "print\n",
    "print('Best params: ', rand_forest_search.best_params_)"
   ]
  },
  {
   "cell_type": "code",
   "execution_count": 45,
   "id": "b0cf333e",
   "metadata": {},
   "outputs": [
    {
     "name": "stdout",
     "output_type": "stream",
     "text": [
      "R^2:  0.15\n",
      "\n",
      "Feature importance\n",
      "- R_res:  0.33%\n",
      "- H:  0.67%\n"
     ]
    }
   ],
   "source": [
    "rand_forest = RandomForestRegressor(\n",
    "    n_estimators = 200,\n",
    "    min_samples_leaf = 50,\n",
    "    max_features = 1,\n",
    "    oob_score = True,\n",
    "    n_jobs = 4,\n",
    "    random_state=rnd_seed\n",
    ")\n",
    "\n",
    "rand_forest.fit(abundance_predictors_train, abundance_train.ravel())\n",
    "\n",
    "print(f'R^2: {rand_forest.score(abundance_predictors_test, abundance_test.ravel()): .2}')\n",
    "\n",
    "print('\\nFeature importance')\n",
    "print(f'- R_res: {rand_forest.feature_importances_[0]: .2}%')\n",
    "print(f'- H: {rand_forest.feature_importances_[1]: .2}%')"
   ]
  },
  {
   "cell_type": "markdown",
   "id": "dc65490f",
   "metadata": {},
   "source": [
    "### SVM model"
   ]
  },
  {
   "cell_type": "code",
   "execution_count": 46,
   "id": "425d2665",
   "metadata": {},
   "outputs": [
    {
     "data": {
      "text/plain": [
       "0.14760001957921343"
      ]
     },
     "execution_count": 46,
     "metadata": {},
     "output_type": "execute_result"
    }
   ],
   "source": [
    "svm = SVR(kernel='rbf', C=1e-2, gamma=10)\n",
    "\n",
    "svm.fit(abundance_predictors_train, abundance_train.ravel())\n",
    "svm.score(abundance_predictors_test, abundance_test.ravel())"
   ]
  },
  {
   "cell_type": "code",
   "execution_count": 47,
   "id": "60172f0e",
   "metadata": {
    "scrolled": true
   },
   "outputs": [],
   "source": [
    "# SLOW\n",
    "\n",
    "# svm_search = GridSearchCV(\n",
    "#     make_pipeline(StandardScaler(), SVR(degree=3, cache_size=1600)), \n",
    "#     param_grid={\n",
    "#       'svr__C': [1e-2, 1e-1, 1],\n",
    "#       'svr__gamma': [1e-1, 1, 10],\n",
    "#       'svr__kernel': ['poly', 'rbf']\n",
    "#     },\n",
    "#     scoring='neg_mean_squared_error',\n",
    "#     cv=KFold(n_splits=5, shuffle=True, random_state=rnd_seed),\n",
    "#     verbose=3,\n",
    "#     n_jobs=1\n",
    "# )\n",
    "# svm_search.fit(abundance_predictors_train, abundance_train.ravel())\n",
    "\n",
    "# print()\n",
    "# print('Best candidate MSE:', -svm_search.best_score_)\n",
    "# print('Test R^2:', svm_search.best_estimator_.score(abundance_predictors_test, abundance_test.ravel()))\n",
    "# print(svm_search.best_params_)"
   ]
  },
  {
   "cell_type": "markdown",
   "id": "66172cd9",
   "metadata": {},
   "source": [
    "### KNN  model"
   ]
  },
  {
   "cell_type": "code",
   "execution_count": 48,
   "id": "099fe5c6",
   "metadata": {},
   "outputs": [
    {
     "name": "stdout",
     "output_type": "stream",
     "text": [
      "Fitting 5 folds for each of 24 candidates, totalling 120 fits\n",
      "\n",
      "Best candidate MSE:  0.17\n",
      "Test R^2:  0.1497\n",
      "Best params:  {'n_neighbors': 100, 'p': 1, 'weights': 'uniform'}\n"
     ]
    }
   ],
   "source": [
    "knn_search = GridSearchCV(KNeighborsRegressor(), \n",
    "                          param_grid={\n",
    "                              'n_neighbors': [10, 100, 200, 400, 800, 1000],\n",
    "                              'weights': ['uniform', 'distance'],\n",
    "                              'p': [1, 2]\n",
    "                          },\n",
    "                          scoring='neg_mean_squared_error',\n",
    "                          cv=KFold(n_splits=5, shuffle=True, random_state=rnd_seed),\n",
    "                          verbose=1\n",
    "                         )\n",
    "knn_search.fit(abundance_predictors_train, abundance_train.ravel())\n",
    "\n",
    "print()\n",
    "print(f'Best candidate MSE: {-knn_search.best_score_ : .2}')\n",
    "print(f'Test R^2: {knn_search.best_estimator_.score(abundance_predictors_test, abundance_test.ravel()): .4}')\n",
    "print\n",
    "print('Best params: ', knn_search.best_params_)"
   ]
  },
  {
   "cell_type": "code",
   "execution_count": 49,
   "id": "dd522c12",
   "metadata": {},
   "outputs": [
    {
     "data": {
      "text/plain": [
       "0.151201958318392"
      ]
     },
     "execution_count": 49,
     "metadata": {},
     "output_type": "execute_result"
    }
   ],
   "source": [
    "knn = KNeighborsRegressor(n_neighbors=100,\n",
    "                          weights='uniform',\n",
    "                          p=2,\n",
    "                          n_jobs=-1)\n",
    "\n",
    "knn.fit(abundance_predictors_train, abundance_train.ravel())\n",
    "knn.score(abundance_predictors_test, abundance_test.ravel())"
   ]
  },
  {
   "cell_type": "markdown",
   "id": "0a521fa9",
   "metadata": {},
   "source": [
    "## Model using translation efficiency"
   ]
  },
  {
   "cell_type": "code",
   "execution_count": 50,
   "id": "ccddffec",
   "metadata": {},
   "outputs": [],
   "source": [
    "abundance_predictors_te = np.concatenate(\n",
    "    (transl_eff, halflife), \n",
    "    axis=1\n",
    ")\n",
    "\n",
    "abundance_predictors_te_train, abundance_predictors_te_test = std_split(abundance_predictors_te)"
   ]
  },
  {
   "cell_type": "code",
   "execution_count": 51,
   "id": "1f86a967",
   "metadata": {},
   "outputs": [
    {
     "data": {
      "text/plain": [
       "0.29350735930247884"
      ]
     },
     "execution_count": 51,
     "metadata": {},
     "output_type": "execute_result"
    }
   ],
   "source": [
    "lm_te = linear_model.LinearRegression()\n",
    "\n",
    "lm_te.fit(abundance_predictors_te_train, abundance_train.ravel())\n",
    "lm_te.score(abundance_predictors_te_test, abundance_test.ravel())"
   ]
  },
  {
   "cell_type": "code",
   "execution_count": 52,
   "id": "7661458b",
   "metadata": {},
   "outputs": [
    {
     "name": "stdout",
     "output_type": "stream",
     "text": [
      "Fitting 5 folds for each of 24 candidates, totalling 120 fits\n",
      "\n",
      "Best candidate R^2:  0.39\n",
      "Test R^2:  0.35\n",
      "Best params:  {'n_neighbors': 100, 'p': 1, 'weights': 'uniform'}\n"
     ]
    }
   ],
   "source": [
    "knn_search_te = GridSearchCV(\n",
    "    KNeighborsRegressor(), \n",
    "    param_grid={\n",
    "        'n_neighbors': [10, 100, 200, 400, 800, 1000],\n",
    "        'weights': ['uniform', 'distance'],\n",
    "        'p': [1, 2]\n",
    "    },\n",
    "    cv=KFold(n_splits=5, shuffle=True, random_state=rnd_seed),\n",
    "    verbose=1\n",
    ")\n",
    "knn_search_te.fit(abundance_predictors_te_train, abundance_train.ravel())\n",
    "\n",
    "print()\n",
    "print(f'Best candidate R^2: {knn_search_te.best_score_ : .2}')\n",
    "print(f'Test R^2: {knn_search_te.best_estimator_.score(abundance_predictors_te_test, abundance_test.ravel()): .2}')\n",
    "print\n",
    "print('Best params: ', knn_search_te.best_params_)"
   ]
  },
  {
   "cell_type": "code",
   "execution_count": 53,
   "id": "6b264bd0",
   "metadata": {},
   "outputs": [
    {
     "data": {
      "text/plain": [
       "0.34847357104972754"
      ]
     },
     "execution_count": 53,
     "metadata": {},
     "output_type": "execute_result"
    }
   ],
   "source": [
    "knn_te = KNeighborsRegressor(n_neighbors=100,\n",
    "                             weights='uniform',\n",
    "                             p=1,\n",
    "                             n_jobs=-1)\n",
    "\n",
    "knn_te.fit(abundance_predictors_te_train, abundance_train.ravel())\n",
    "knn_te.score(abundance_predictors_te_test, abundance_test.ravel())"
   ]
  },
  {
   "cell_type": "code",
   "execution_count": 54,
   "id": "31fe8e93",
   "metadata": {},
   "outputs": [
    {
     "data": {
      "text/plain": [
       "0.36688097294629385"
      ]
     },
     "execution_count": 54,
     "metadata": {},
     "output_type": "execute_result"
    }
   ],
   "source": [
    "svm_te = SVR(kernel='rbf', C=0.1, gamma=10)\n",
    "\n",
    "svm_te.fit(abundance_predictors_te_train, abundance_train.ravel())\n",
    "svm_te.score(abundance_predictors_te_test, abundance_test.ravel())"
   ]
  },
  {
   "cell_type": "code",
   "execution_count": 55,
   "id": "1af1439c",
   "metadata": {
    "scrolled": true
   },
   "outputs": [
    {
     "name": "stdout",
     "output_type": "stream",
     "text": [
      "Fitting 5 folds for each of 30 candidates, totalling 150 fits\n",
      "\n",
      "Best candidate MSE:  0.13\n",
      "Test R^2:  0.36\n",
      "Best params:  {'max_features': 1, 'min_samples_leaf': 50, 'n_estimators': 200}\n"
     ]
    }
   ],
   "source": [
    "rand_forest_search_te = GridSearchCV(\n",
    "    RandomForestRegressor(random_state=rnd_seed), \n",
    "    param_grid={\n",
    "        'n_estimators': [10, 20, 50, 100, 200],\n",
    "        'min_samples_leaf': [2, 10, 50],\n",
    "        'max_features': [1, 2]\n",
    "    },\n",
    "    cv=KFold(n_splits=5, shuffle=True, random_state=rnd_seed),\n",
    "    scoring='neg_mean_squared_error',\n",
    "    verbose=1\n",
    ")\n",
    "rand_forest_search_te.fit(abundance_predictors_te_train, abundance_train.ravel())\n",
    "\n",
    "print()\n",
    "print(f'Best candidate MSE: {-rand_forest_search_te.best_score_ : .2}')\n",
    "print(f'Test R^2: {rand_forest_search_te.best_estimator_.score(abundance_predictors_te_test, abundance_test.ravel()): .2}')\n",
    "print\n",
    "print('Best params: ', rand_forest_search_te.best_params_)"
   ]
  },
  {
   "cell_type": "code",
   "execution_count": 56,
   "id": "d8dfdff4",
   "metadata": {},
   "outputs": [
    {
     "name": "stdout",
     "output_type": "stream",
     "text": [
      "R^2:  0.3618\n",
      "\n",
      "Feature importance\n",
      "- TE:  0.65%\n",
      "- H:  0.35%\n"
     ]
    }
   ],
   "source": [
    "rand_forest_te = RandomForestRegressor(\n",
    "    n_estimators = 200,\n",
    "    min_samples_leaf = 50,\n",
    "    max_features = 1,\n",
    "    n_jobs = 4,\n",
    "    random_state=rnd_seed\n",
    ")\n",
    "\n",
    "rand_forest_te.fit(abundance_predictors_te_train, abundance_train.ravel())\n",
    "\n",
    "print(f'R^2: {rand_forest_te.score(abundance_predictors_te_test, abundance_test.ravel()): .4}')\n",
    "\n",
    "print('\\nFeature importance')\n",
    "print(f'- TE: {rand_forest_te.feature_importances_[0]: .2}%')\n",
    "print(f'- H: {rand_forest_te.feature_importances_[1]: .2}%')"
   ]
  },
  {
   "cell_type": "code",
   "execution_count": 57,
   "id": "790bcfc7",
   "metadata": {},
   "outputs": [
    {
     "data": {
      "text/plain": [
       "(715, 1)"
      ]
     },
     "execution_count": 57,
     "metadata": {},
     "output_type": "execute_result"
    }
   ],
   "source": [
    "abundance_test.shape"
   ]
  },
  {
   "cell_type": "code",
   "execution_count": 58,
   "id": "1d5517d1",
   "metadata": {},
   "outputs": [
    {
     "data": {
      "image/png": "[encoded data removed]",
      "text/plain": [
       "<Figure size 600x600 with 1 Axes>"
      ]
     },
     "metadata": {
      "needs_background": "light"
     },
     "output_type": "display_data"
    }
   ],
   "source": [
    "from scripts.general import plotting\n",
    "\n",
    "\n",
    "rf_predicted_values = rand_forest_te.predict(abundance_predictors_te_test).reshape(-1, 1)\n",
    "\n",
    "plot_regresssion = linear_model.LinearRegression().fit(rf_predicted_values, abundance_test)\n",
    "\n",
    "\n",
    "plt.figure(dpi=100, figsize = (6, 6))\n",
    "label_fontsize = 12\n",
    "\n",
    "plotting.scatter_density(\n",
    "    x = rf_predicted_values.ravel(),\n",
    "    y = abundance_test.ravel(),\n",
    "    s = 10\n",
    ")\n",
    "\n",
    "reg_x = np.insert(np.insert(rf_predicted_values, 0, 2.8), -1, 4.4).reshape(-1, 1)\n",
    "plt.plot(reg_x, plot_regresssion.predict(reg_x), color ='k')\n",
    "plt.xlim(2.4, 5)\n",
    "plt.ylim(2.4, 5)\n",
    "\n",
    "plt.annotate(f'$R^2$ = {rand_forest_te.score(abundance_predictors_te_test, abundance_test.ravel())*100:.0f}%',\n",
    "             xy=(2.7, 4.5),\n",
    "             fontsize=14)\n",
    "\n",
    "plt.xlabel('Predicted protein abundance\\n[molecules per cell, log10]', fontsize=label_fontsize)\n",
    "plt.ylabel('True protein abundance\\n[molecules per cell, median, log10]', fontsize=label_fontsize);"
   ]
  },
  {
   "cell_type": "code",
   "execution_count": 59,
   "id": "61968611",
   "metadata": {},
   "outputs": [
    {
     "data": {
      "image/png": "[encoded data removed]",
      "text/plain": [
       "<Figure size 600x400 with 1 Axes>"
      ]
     },
     "metadata": {
      "needs_background": "light"
     },
     "output_type": "display_data"
    }
   ],
   "source": [
    "plt.figure(dpi=100)\n",
    "\n",
    "sns.barplot(\n",
    "    x=[0,1], y=rand_forest_te.feature_importances_ * 100, \n",
    "    color='k'\n",
    ").set_xticklabels(['Translation efficiency', 'Half-life'], fontsize=16);\n",
    "plt.ylabel('Importance to random forest %', fontsize=16);"
   ]
  },
  {
   "cell_type": "markdown",
   "id": "1a9d72df",
   "metadata": {},
   "source": [
    "## Model using length-normalized TE\n",
    "\n",
    "Based on the fit found here of $TE \\propto \\frac{1}{\\sqrt{L}}$, normalize for $\\sqrt{L}$\n",
    "\n",
    "The results are effectively the same as for non-normalized TE, meaning the impact of length is minuscule in these data. Indeed $\\sqrt{L}$ seems to account for 0.3% of explained variance, which is a questionable level in terms of actual (general) importance, especially given the imperfect fit (88% $R^2$) the nornmalization is based on."
   ]
  },
  {
   "cell_type": "code",
   "execution_count": 60,
   "id": "de2ac67a",
   "metadata": {},
   "outputs": [],
   "source": [
    "te_norm = transl_eff + 0.5 * length   #  TE * sqrt(L)\n",
    "\n",
    "abundance_predictors_te_norm = np.concatenate(\n",
    "    (te_norm, halflife), \n",
    "    axis=1\n",
    ")\n",
    "\n",
    "abundance_predictors_te_norm_train, abundance_predictors_te_norm_test = std_split(abundance_predictors_te_norm)"
   ]
  },
  {
   "cell_type": "code",
   "execution_count": 61,
   "id": "9cd60523",
   "metadata": {},
   "outputs": [
    {
     "name": "stdout",
     "output_type": "stream",
     "text": [
      "Fitting 5 folds for each of 42 candidates, totalling 210 fits\n",
      "\n",
      "Best candidate MSE:  0.12\n",
      "Test R^2: 0.3411\n",
      "\n",
      "Best params:  {'max_features': 2, 'min_samples_leaf': 50, 'n_estimators': 100}\n"
     ]
    }
   ],
   "source": [
    "rf_search_te_norm = GridSearchCV(\n",
    "    RandomForestRegressor(random_state=rnd_seed), \n",
    "    param_grid={\n",
    "        'n_estimators': [10, 20, 50, 100, 200, 600, 800],\n",
    "        'min_samples_leaf': [2, 10, 50],\n",
    "        'max_features': [1, 2]\n",
    "    },\n",
    "    cv=KFold(n_splits=5, shuffle=True, random_state=rnd_seed),\n",
    "    scoring='neg_mean_squared_error',\n",
    "    verbose=1\n",
    ")\n",
    "rf_search_te_norm.fit(abundance_predictors_te_norm_train, abundance_train.ravel())\n",
    "\n",
    "print()\n",
    "print(f'Best candidate MSE: {-rf_search_te_norm.best_score_ : .2}')\n",
    "print(f'Test R^2: {rf_search_te_norm.best_estimator_.score(abundance_predictors_te_norm_test, abundance_test.ravel()) :.4}')\n",
    "print()\n",
    "print('Best params: ', rf_search_te_norm.best_params_)"
   ]
  },
  {
   "cell_type": "code",
   "execution_count": 62,
   "id": "4edde2cb",
   "metadata": {},
   "outputs": [
    {
     "name": "stdout",
     "output_type": "stream",
     "text": [
      "R^2:  0.3583\n",
      "\n",
      "Feature importance\n",
      "- TE_norm:  0.68%\n",
      "- H:  0.32%\n"
     ]
    }
   ],
   "source": [
    "rand_forest_te_norm = RandomForestRegressor(\n",
    "    n_estimators = 100,\n",
    "    min_samples_leaf = 80,\n",
    "    max_features = 1,\n",
    "    n_jobs = 4,\n",
    "    random_state=rnd_seed\n",
    ")\n",
    "\n",
    "rand_forest_te_norm.fit(abundance_predictors_te_norm_train, abundance_train.ravel())\n",
    "\n",
    "print(f'R^2: {rand_forest_te_norm.score(abundance_predictors_te_norm_test, abundance_test.ravel()): .4}')\n",
    "\n",
    "print('\\nFeature importance')\n",
    "print(f'- TE_norm: {rand_forest_te_norm.feature_importances_[0]: .2}%')\n",
    "print(f'- H: {rand_forest_te_norm.feature_importances_[1]: .2}%')"
   ]
  },
  {
   "cell_type": "markdown",
   "id": "d7d6a9cf",
   "metadata": {},
   "source": [
    "## Model using ribosome occupancy directly\n",
    "\n",
    "The fit will be much better, of course, since R \"contains\" the mRNA information, which corelates well with A."
   ]
  },
  {
   "cell_type": "code",
   "execution_count": 63,
   "id": "c8c5797b",
   "metadata": {},
   "outputs": [],
   "source": [
    "abundance_predictors_full = np.concatenate(\n",
    "    (rpf_rpkm, halflife), \n",
    "    axis=1\n",
    ")\n",
    "\n",
    "abundance_predictors_full_train, abundance_predictors_full_test = std_split(abundance_predictors_full)"
   ]
  },
  {
   "cell_type": "code",
   "execution_count": 64,
   "id": "fa34f2aa",
   "metadata": {},
   "outputs": [
    {
     "data": {
      "text/plain": [
       "0.7459618287973724"
      ]
     },
     "execution_count": 64,
     "metadata": {},
     "output_type": "execute_result"
    }
   ],
   "source": [
    "lm_full = linear_model.LinearRegression()\n",
    "\n",
    "lm_full.fit(abundance_predictors_full_train, abundance_train.ravel())\n",
    "lm_full.score(abundance_predictors_full_test, abundance_test.ravel())"
   ]
  },
  {
   "cell_type": "code",
   "execution_count": 65,
   "id": "9318580c",
   "metadata": {},
   "outputs": [
    {
     "name": "stdout",
     "output_type": "stream",
     "text": [
      "Fitting 5 folds for each of 42 candidates, totalling 210 fits\n",
      "\n",
      "Best candidate MSE:  0.046\n",
      "Test R^2: 0.764\n",
      "\n",
      "Best params:  {'max_features': 1, 'min_samples_leaf': 10, 'n_estimators': 800}\n"
     ]
    }
   ],
   "source": [
    "rf_search_full = GridSearchCV(\n",
    "    RandomForestRegressor(random_state=rnd_seed), \n",
    "    param_grid={\n",
    "        'n_estimators': [10, 20, 50, 100, 200, 600, 800],\n",
    "        'min_samples_leaf': [2, 10, 50],\n",
    "        'max_features': [1, 2]\n",
    "    },\n",
    "    cv=KFold(n_splits=5, shuffle=True, random_state=rnd_seed),\n",
    "    scoring='neg_mean_squared_error',\n",
    "    verbose=1\n",
    ")\n",
    "rf_search_full.fit(abundance_predictors_full_train, abundance_train.ravel())\n",
    "\n",
    "print()\n",
    "print(f'Best candidate MSE: {-rf_search_full.best_score_ : .2}')\n",
    "print(f'Test R^2: {rf_search_full.best_estimator_.score(abundance_predictors_full_test, abundance_test.ravel()) :.4}')\n",
    "print()\n",
    "print('Best params: ', rf_search_full.best_params_)"
   ]
  },
  {
   "cell_type": "code",
   "execution_count": 66,
   "id": "e458892b",
   "metadata": {},
   "outputs": [
    {
     "name": "stdout",
     "output_type": "stream",
     "text": [
      "R^2:  0.7676\n",
      "\n",
      "Feature importance\n",
      "- R:  0.8%\n",
      "- H:  0.2%\n"
     ]
    }
   ],
   "source": [
    "rand_forest_full = RandomForestRegressor(\n",
    "    n_estimators = 600,\n",
    "    min_samples_leaf = 2,\n",
    "    max_features = 1,\n",
    "    n_jobs = 4,\n",
    "    random_state=rnd_seed\n",
    ")\n",
    "\n",
    "rand_forest_full.fit(abundance_predictors_full_train, abundance_train.ravel())\n",
    "\n",
    "print(f'R^2: {rand_forest_full.score(abundance_predictors_full_test, abundance_test.ravel()): .4}')\n",
    "\n",
    "print('\\nFeature importance')\n",
    "print(f'- R: {rand_forest_full.feature_importances_[0]: .2}%')\n",
    "print(f'- H: {rand_forest_full.feature_importances_[1]: .2}%')"
   ]
  },
  {
   "cell_type": "code",
   "execution_count": null,
   "id": "06725d54",
   "metadata": {},
   "outputs": [],
   "source": []
  }
 ],
 "metadata": {
  "kernelspec": {
   "display_name": "DeepTranslation New",
   "language": "python",
   "name": "deeptranslation_new"
  },
  "language_info": {
   "codemirror_mode": {
    "name": "ipython",
    "version": 3
   },
   "file_extension": ".py",
   "mimetype": "text/x-python",
   "name": "python",
   "nbconvert_exporter": "python",
   "pygments_lexer": "ipython3",
   "version": "3.8.6"
  }
 },
 "nbformat": 4,
 "nbformat_minor": 5
}
